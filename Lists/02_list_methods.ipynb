{
 "cells": [
  {
   "cell_type": "markdown",
   "metadata": {},
   "source": [
    "## List Methods"
   ]
  },
  {
   "cell_type": "code",
   "execution_count": 72,
   "metadata": {},
   "outputs": [],
   "source": [
    "indoor_plants = ['Snake Plant', 'Spider Plant', 'Peace Lily', 'ZZ Plant', 'Pothos', 'Rubber Plant', 'Fiddle Leaf Fig', 'Philodendron', 'Aloe Vera']"
   ]
  },
  {
   "cell_type": "markdown",
   "metadata": {},
   "source": [
    "## append(item)"
   ]
  },
  {
   "cell_type": "code",
   "execution_count": 73,
   "metadata": {},
   "outputs": [
    {
     "data": {
      "text/plain": [
       "['Snake Plant',\n",
       " 'Spider Plant',\n",
       " 'Peace Lily',\n",
       " 'ZZ Plant',\n",
       " 'Pothos',\n",
       " 'Rubber Plant',\n",
       " 'Fiddle Leaf Fig',\n",
       " 'Philodendron',\n",
       " 'Aloe Vera',\n",
       " 'Chinese Evergreen']"
      ]
     },
     "execution_count": 73,
     "metadata": {},
     "output_type": "execute_result"
    }
   ],
   "source": [
    "indoor_plants.append('Chinese Evergreen')\n",
    "indoor_plants"
   ]
  },
  {
   "cell_type": "markdown",
   "metadata": {},
   "source": [
    "## copy()"
   ]
  },
  {
   "cell_type": "code",
   "execution_count": 74,
   "metadata": {},
   "outputs": [
    {
     "data": {
      "text/plain": [
       "['Snake Plant',\n",
       " 'Spider Plant',\n",
       " 'Peace Lily',\n",
       " 'ZZ Plant',\n",
       " 'Pothos',\n",
       " 'Rubber Plant',\n",
       " 'Fiddle Leaf Fig',\n",
       " 'Philodendron',\n",
       " 'Aloe Vera',\n",
       " 'Chinese Evergreen']"
      ]
     },
     "execution_count": 74,
     "metadata": {},
     "output_type": "execute_result"
    }
   ],
   "source": [
    "new_indoor_plants = indoor_plants.copy()\n",
    "new_indoor_plants"
   ]
  },
  {
   "cell_type": "markdown",
   "metadata": {},
   "source": [
    "## count(item)"
   ]
  },
  {
   "cell_type": "code",
   "execution_count": 75,
   "metadata": {},
   "outputs": [
    {
     "data": {
      "text/plain": [
       "1"
      ]
     },
     "execution_count": 75,
     "metadata": {},
     "output_type": "execute_result"
    }
   ],
   "source": [
    "indoor_plants.count('Snake Plant') # number of times Snake plant appears in list"
   ]
  },
  {
   "cell_type": "markdown",
   "metadata": {},
   "source": [
    "## extend(sequence)"
   ]
  },
  {
   "cell_type": "code",
   "execution_count": 76,
   "metadata": {},
   "outputs": [
    {
     "data": {
      "text/plain": [
       "['Snake Plant',\n",
       " 'Spider Plant',\n",
       " 'Peace Lily',\n",
       " 'ZZ Plant',\n",
       " 'Pothos',\n",
       " 'Rubber Plant',\n",
       " 'Fiddle Leaf Fig',\n",
       " 'Philodendron',\n",
       " 'Aloe Vera',\n",
       " 'Chinese Evergreen',\n",
       " 'Boston Fern']"
      ]
     },
     "execution_count": 76,
     "metadata": {},
     "output_type": "execute_result"
    }
   ],
   "source": [
    "indoor_plants.extend(['Boston Fern'])\n",
    "indoor_plants"
   ]
  },
  {
   "cell_type": "code",
   "execution_count": 77,
   "metadata": {},
   "outputs": [
    {
     "data": {
      "text/plain": [
       "['Snake Plant',\n",
       " 'Spider Plant',\n",
       " 'Peace Lily',\n",
       " 'ZZ Plant',\n",
       " 'Pothos',\n",
       " 'Rubber Plant',\n",
       " 'Fiddle Leaf Fig',\n",
       " 'Philodendron',\n",
       " 'Aloe Vera',\n",
       " 'Chinese Evergreen',\n",
       " 'Boston Fern',\n",
       " 'Birds Nest Fern']"
      ]
     },
     "execution_count": 77,
     "metadata": {},
     "output_type": "execute_result"
    }
   ],
   "source": [
    "indoor_plants.extend({'Birds Nest Fern'})\n",
    "indoor_plants"
   ]
  },
  {
   "cell_type": "markdown",
   "metadata": {},
   "source": [
    "## index(item)"
   ]
  },
  {
   "cell_type": "code",
   "execution_count": 78,
   "metadata": {},
   "outputs": [
    {
     "name": "stdout",
     "output_type": "stream",
     "text": [
      "8\n",
      "7\n",
      "2\n"
     ]
    }
   ],
   "source": [
    "print(indoor_plants.index('Aloe Vera'))\n",
    "print(indoor_plants.index('Philodendron'))\n",
    "print(indoor_plants.index('Peace Lily'))"
   ]
  },
  {
   "cell_type": "markdown",
   "metadata": {},
   "source": [
    "## insert(index, obj)"
   ]
  },
  {
   "cell_type": "code",
   "execution_count": 79,
   "metadata": {},
   "outputs": [
    {
     "name": "stdout",
     "output_type": "stream",
     "text": [
      "13\n"
     ]
    },
    {
     "data": {
      "text/plain": [
       "['Snake Plant',\n",
       " 'Spider Plant',\n",
       " 'Peace Lily',\n",
       " 'ZZ Plant',\n",
       " 'Pothos',\n",
       " 'String of Pearls',\n",
       " 'Rubber Plant',\n",
       " 'Fiddle Leaf Fig',\n",
       " 'Philodendron',\n",
       " 'Aloe Vera',\n",
       " 'Chinese Evergreen',\n",
       " 'Boston Fern',\n",
       " 'Birds Nest Fern']"
      ]
     },
     "execution_count": 79,
     "metadata": {},
     "output_type": "execute_result"
    }
   ],
   "source": [
    "indoor_plants.insert(5, 'String of Pearls')\n",
    "print((len(indoor_plants)))\n",
    "indoor_plants"
   ]
  },
  {
   "cell_type": "markdown",
   "metadata": {},
   "source": [
    "## remove(item)"
   ]
  },
  {
   "cell_type": "code",
   "execution_count": 80,
   "metadata": {},
   "outputs": [
    {
     "data": {
      "text/plain": [
       "['Snake Plant',\n",
       " 'Spider Plant',\n",
       " 'Peace Lily',\n",
       " 'ZZ Plant',\n",
       " 'String of Pearls',\n",
       " 'Rubber Plant',\n",
       " 'Fiddle Leaf Fig',\n",
       " 'Aloe Vera',\n",
       " 'Chinese Evergreen',\n",
       " 'Boston Fern',\n",
       " 'Birds Nest Fern']"
      ]
     },
     "execution_count": 80,
     "metadata": {},
     "output_type": "execute_result"
    }
   ],
   "source": [
    "indoor_plants.remove('Philodendron')\n",
    "indoor_plants.remove('Pothos')\n",
    "indoor_plants"
   ]
  },
  {
   "cell_type": "markdown",
   "metadata": {},
   "source": [
    "## reverse()"
   ]
  },
  {
   "cell_type": "code",
   "execution_count": 81,
   "metadata": {},
   "outputs": [
    {
     "data": {
      "text/plain": [
       "['Snake Plant',\n",
       " 'Spider Plant',\n",
       " 'Peace Lily',\n",
       " 'ZZ Plant',\n",
       " 'String of Pearls',\n",
       " 'Rubber Plant',\n",
       " 'Fiddle Leaf Fig',\n",
       " 'Aloe Vera',\n",
       " 'Chinese Evergreen',\n",
       " 'Boston Fern',\n",
       " 'Birds Nest Fern']"
      ]
     },
     "execution_count": 81,
     "metadata": {},
     "output_type": "execute_result"
    }
   ],
   "source": [
    "indoor_plants"
   ]
  },
  {
   "cell_type": "code",
   "execution_count": 82,
   "metadata": {},
   "outputs": [],
   "source": [
    "indoor_plants.reverse()"
   ]
  },
  {
   "cell_type": "code",
   "execution_count": 83,
   "metadata": {},
   "outputs": [
    {
     "data": {
      "text/plain": [
       "['Birds Nest Fern',\n",
       " 'Boston Fern',\n",
       " 'Chinese Evergreen',\n",
       " 'Aloe Vera',\n",
       " 'Fiddle Leaf Fig',\n",
       " 'Rubber Plant',\n",
       " 'String of Pearls',\n",
       " 'ZZ Plant',\n",
       " 'Peace Lily',\n",
       " 'Spider Plant',\n",
       " 'Snake Plant']"
      ]
     },
     "execution_count": 83,
     "metadata": {},
     "output_type": "execute_result"
    }
   ],
   "source": [
    "indoor_plants"
   ]
  },
  {
   "cell_type": "markdown",
   "metadata": {},
   "source": [
    "## sort([func])"
   ]
  },
  {
   "cell_type": "code",
   "execution_count": 84,
   "metadata": {},
   "outputs": [
    {
     "data": {
      "text/plain": [
       "['Aloe Vera',\n",
       " 'Birds Nest Fern',\n",
       " 'Boston Fern',\n",
       " 'Chinese Evergreen',\n",
       " 'Fiddle Leaf Fig',\n",
       " 'Peace Lily',\n",
       " 'Rubber Plant',\n",
       " 'Snake Plant',\n",
       " 'Spider Plant',\n",
       " 'String of Pearls',\n",
       " 'ZZ Plant']"
      ]
     },
     "execution_count": 84,
     "metadata": {},
     "output_type": "execute_result"
    }
   ],
   "source": [
    "indoor_plants.sort()\n",
    "indoor_plants"
   ]
  },
  {
   "cell_type": "code",
   "execution_count": 85,
   "metadata": {},
   "outputs": [
    {
     "data": {
      "text/plain": [
       "['ZZ Plant',\n",
       " 'String of Pearls',\n",
       " 'Spider Plant',\n",
       " 'Snake Plant',\n",
       " 'Rubber Plant',\n",
       " 'Peace Lily',\n",
       " 'Fiddle Leaf Fig',\n",
       " 'Chinese Evergreen',\n",
       " 'Boston Fern',\n",
       " 'Birds Nest Fern',\n",
       " 'Aloe Vera']"
      ]
     },
     "execution_count": 85,
     "metadata": {},
     "output_type": "execute_result"
    }
   ],
   "source": [
    "indoor_plants.sort(reverse=True)\n",
    "indoor_plants"
   ]
  },
  {
   "cell_type": "code",
   "execution_count": 86,
   "metadata": {},
   "outputs": [
    {
     "data": {
      "text/plain": [
       "['Aloe Vera',\n",
       " 'Birds Nest Fern',\n",
       " 'Boston Fern',\n",
       " 'Chinese Evergreen',\n",
       " 'Fiddle Leaf Fig',\n",
       " 'Peace Lily',\n",
       " 'Rubber Plant',\n",
       " 'Snake Plant',\n",
       " 'Spider Plant',\n",
       " 'String of Pearls',\n",
       " 'ZZ Plant']"
      ]
     },
     "execution_count": 86,
     "metadata": {},
     "output_type": "execute_result"
    }
   ],
   "source": [
    "indoor_plants.sort(reverse=False)\n",
    "indoor_plants"
   ]
  },
  {
   "cell_type": "markdown",
   "metadata": {},
   "source": [
    "## len()"
   ]
  },
  {
   "cell_type": "code",
   "execution_count": 87,
   "metadata": {},
   "outputs": [
    {
     "data": {
      "text/plain": [
       "11"
      ]
     },
     "execution_count": 87,
     "metadata": {},
     "output_type": "execute_result"
    }
   ],
   "source": [
    "len(indoor_plants)"
   ]
  },
  {
   "cell_type": "markdown",
   "metadata": {},
   "source": [
    "## min(), max()"
   ]
  },
  {
   "cell_type": "code",
   "execution_count": 90,
   "metadata": {},
   "outputs": [
    {
     "name": "stdout",
     "output_type": "stream",
     "text": [
      "-4\n",
      "7\n"
     ]
    }
   ],
   "source": [
    "numbers_list = [-4,3,2,5,7,6]\n",
    "print(min(numbers_list))\n",
    "print(max(numbers_list))"
   ]
  }
 ],
 "metadata": {
  "kernelspec": {
   "display_name": "Python 3",
   "language": "python",
   "name": "python3"
  },
  "language_info": {
   "codemirror_mode": {
    "name": "ipython",
    "version": 3
   },
   "file_extension": ".py",
   "mimetype": "text/x-python",
   "name": "python",
   "nbconvert_exporter": "python",
   "pygments_lexer": "ipython3",
   "version": "3.13.1"
  }
 },
 "nbformat": 4,
 "nbformat_minor": 2
}
