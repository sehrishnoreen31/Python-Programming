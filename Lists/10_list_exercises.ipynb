{
 "cells": [
  {
   "cell_type": "markdown",
   "id": "bf8cf0f9",
   "metadata": {},
   "source": [
    "## Python List Exercise 1\n",
    "\n",
    "Python program to find unique numbers in a given list."
   ]
  },
  {
   "cell_type": "code",
   "execution_count": 1,
   "id": "3db5d035",
   "metadata": {},
   "outputs": [
    {
     "data": {
      "text/plain": [
       "[1, 9, 6, 3, 4, 5, 2, 7, 8]"
      ]
     },
     "execution_count": 1,
     "metadata": {},
     "output_type": "execute_result"
    }
   ],
   "source": [
    "# list of numbers\n",
    "L1 = [1, 9, 1, 6, 3, 4, 5, 1, 1, 2, 5, 6, 7, 8, 9, 2]\n",
    "# empty list to store the unique numbers\n",
    "L2=[]\n",
    "# loop ovver L1 to find unique numbers\n",
    "for num in L1:\n",
    "     if num not in L2:\n",
    "          L2.append(num)\n",
    "L2"
   ]
  },
  {
   "cell_type": "markdown",
   "id": "f0ab06e1",
   "metadata": {},
   "source": [
    "## Python List Exercise 2\n",
    "\n",
    "Python program to find sum of all numbers in a list."
   ]
  },
  {
   "cell_type": "code",
   "execution_count": 2,
   "id": "20d2dbba",
   "metadata": {},
   "outputs": [
    {
     "name": "stdout",
     "output_type": "stream",
     "text": [
      "Sum of all list items = 70\n"
     ]
    }
   ],
   "source": [
    "# list of numbers\n",
    "numbers= [1, 9, 1, 6, 3, 4, 5, 1, 1, 2, 5, 6, 7, 8, 9, 2]\n",
    "\n",
    "sum_of_numbers = sum(numbers)\n",
    "\n",
    "print(f'Sum of all list items = {sum_of_numbers}')"
   ]
  },
  {
   "cell_type": "markdown",
   "id": "1981442d",
   "metadata": {},
   "source": [
    "## Python List Exercise 3\n",
    "\n",
    "Python program to create a list of 5 random integers."
   ]
  },
  {
   "cell_type": "code",
   "execution_count": 5,
   "id": "b3129120",
   "metadata": {},
   "outputs": [
    {
     "data": {
      "text/plain": [
       "[252, 229, 178, 286, 159]"
      ]
     },
     "execution_count": 5,
     "metadata": {},
     "output_type": "execute_result"
    }
   ],
   "source": [
    "import random\n",
    "random_numbers = []\n",
    "\n",
    "for i in range(5):\n",
    "    x = random.randint(100,300)\n",
    "    random_numbers.append(x)\n",
    "\n",
    "random_numbers"
   ]
  }
 ],
 "metadata": {
  "kernelspec": {
   "display_name": "Python 3",
   "language": "python",
   "name": "python3"
  },
  "language_info": {
   "codemirror_mode": {
    "name": "ipython",
    "version": 3
   },
   "file_extension": ".py",
   "mimetype": "text/x-python",
   "name": "python",
   "nbconvert_exporter": "python",
   "pygments_lexer": "ipython3",
   "version": "3.13.1"
  }
 },
 "nbformat": 4,
 "nbformat_minor": 5
}
