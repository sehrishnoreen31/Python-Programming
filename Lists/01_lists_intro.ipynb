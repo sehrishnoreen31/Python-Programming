{
 "cells": [
  {
   "cell_type": "markdown",
   "metadata": {},
   "source": [
    "# Lists"
   ]
  },
  {
   "cell_type": "code",
   "execution_count": 9,
   "metadata": {},
   "outputs": [],
   "source": [
    "flowers_list = ['Rose', 'Tulip', 'Sunflower', 'Lily', 'Daisy', 'Orchid', 'Marigold', 'Lavender', 'Hibiscus', 'Peony']"
   ]
  },
  {
   "cell_type": "code",
   "execution_count": 10,
   "metadata": {},
   "outputs": [],
   "source": [
    "indoor_plants = ['Snake Plant', 'Spider Plant', 'Peace Lily', 'ZZ Plant', 'Pothos', 'Rubber Plant', 'Fiddle Leaf Fig', 'Philodendron', 'Aloe Vera', 'Chinese Evergreen']"
   ]
  },
  {
   "cell_type": "markdown",
   "metadata": {},
   "source": [
    "## Accessing Values"
   ]
  },
  {
   "cell_type": "code",
   "execution_count": 11,
   "metadata": {},
   "outputs": [
    {
     "name": "stdout",
     "output_type": "stream",
     "text": [
      "Rose\n",
      "Tulip\n",
      "Sunflower\n",
      "Hibiscus\n"
     ]
    }
   ],
   "source": [
    "# single item\n",
    "print(flowers_list[0])\n",
    "print(flowers_list[1])\n",
    "print(flowers_list[2])\n",
    "print(flowers_list[8])"
   ]
  },
  {
   "cell_type": "code",
   "execution_count": 12,
   "metadata": {},
   "outputs": [
    {
     "name": "stdout",
     "output_type": "stream",
     "text": [
      "['Tulip', 'Sunflower', 'Lily']\n",
      "['Lily', 'Daisy']\n",
      "['Daisy', 'Orchid', 'Marigold', 'Lavender', 'Hibiscus']\n",
      "['Rose', 'Tulip', 'Sunflower', 'Lily', 'Daisy', 'Orchid', 'Marigold', 'Lavender', 'Hibiscus']\n"
     ]
    }
   ],
   "source": [
    "# range of items\n",
    "print(flowers_list[1:4])\n",
    "print(flowers_list[3:5])\n",
    "print(flowers_list[4:-1])\n",
    "print(flowers_list[:-1])"
   ]
  },
  {
   "cell_type": "markdown",
   "metadata": {},
   "source": [
    "## Updating lists"
   ]
  },
  {
   "cell_type": "code",
   "execution_count": 13,
   "metadata": {},
   "outputs": [
    {
     "name": "stdout",
     "output_type": "stream",
     "text": [
      "Chrysanthemum\n",
      "Hydrangea\n"
     ]
    }
   ],
   "source": [
    "flowers_list[4] = 'Chrysanthemum'\n",
    "flowers_list[6] = 'Hydrangea'\n",
    "\n",
    "print(flowers_list[4])\n",
    "print(flowers_list[6])"
   ]
  },
  {
   "cell_type": "markdown",
   "metadata": {},
   "source": [
    "## Delete List Items"
   ]
  },
  {
   "cell_type": "code",
   "execution_count": 14,
   "metadata": {},
   "outputs": [
    {
     "data": {
      "text/plain": [
       "9"
      ]
     },
     "execution_count": 14,
     "metadata": {},
     "output_type": "execute_result"
    }
   ],
   "source": [
    "del flowers_list[9]\n",
    "len(flowers_list)"
   ]
  },
  {
   "cell_type": "code",
   "execution_count": 15,
   "metadata": {},
   "outputs": [
    {
     "data": {
      "text/plain": [
       "['Rose',\n",
       " 'Tulip',\n",
       " 'Sunflower',\n",
       " 'Lily',\n",
       " 'Chrysanthemum',\n",
       " 'Orchid',\n",
       " 'Hydrangea',\n",
       " 'Lavender',\n",
       " 'Hibiscus']"
      ]
     },
     "execution_count": 15,
     "metadata": {},
     "output_type": "execute_result"
    }
   ],
   "source": [
    "flowers_list"
   ]
  }
 ],
 "metadata": {
  "kernelspec": {
   "display_name": "Python 3",
   "language": "python",
   "name": "python3"
  },
  "language_info": {
   "codemirror_mode": {
    "name": "ipython",
    "version": 3
   },
   "file_extension": ".py",
   "mimetype": "text/x-python",
   "name": "python",
   "nbconvert_exporter": "python",
   "pygments_lexer": "ipython3",
   "version": "3.13.1"
  }
 },
 "nbformat": 4,
 "nbformat_minor": 2
}
