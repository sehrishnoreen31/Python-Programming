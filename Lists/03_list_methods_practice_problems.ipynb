{
 "cells": [
  {
   "cell_type": "markdown",
   "metadata": {},
   "source": [
    "# Practice Problems – List Methods in Python"
   ]
  },
  {
   "cell_type": "markdown",
   "metadata": {},
   "source": [
    "## 1. Grocery List Manager\n",
    "\n",
    "Create a grocery list and perform the following:\n",
    "\n",
    "Add a new item to the end of the list.\n",
    "\n",
    "Insert \"Milk\" at the second position.\n",
    "\n",
    "Remove \"Sugar\" from the list.\n",
    "\n",
    "Print the total number of items.\n",
    "\n",
    "Sort the list alphabetically."
   ]
  },
  {
   "cell_type": "code",
   "execution_count": 25,
   "metadata": {},
   "outputs": [],
   "source": [
    "# create grocery list\n",
    "grocery_items = ['Apples', 'Bananas', 'Sugar', 'Eggs', 'Bread', 'Chicken', 'Rice', 'Tomatoes', 'Potatoes', 'Cheese']"
   ]
  },
  {
   "cell_type": "code",
   "execution_count": 26,
   "metadata": {},
   "outputs": [
    {
     "data": {
      "text/plain": [
       "['Apples',\n",
       " 'Bananas',\n",
       " 'Sugar',\n",
       " 'Eggs',\n",
       " 'Bread',\n",
       " 'Chicken',\n",
       " 'Rice',\n",
       " 'Tomatoes',\n",
       " 'Potatoes',\n",
       " 'Cheese',\n",
       " 'Onions']"
      ]
     },
     "execution_count": 26,
     "metadata": {},
     "output_type": "execute_result"
    }
   ],
   "source": [
    "# add new item\n",
    "grocery_items.append('Onions')\n",
    "grocery_items"
   ]
  },
  {
   "cell_type": "code",
   "execution_count": 27,
   "metadata": {},
   "outputs": [
    {
     "data": {
      "text/plain": [
       "['Apples',\n",
       " 'Bananas',\n",
       " 'Milk',\n",
       " 'Sugar',\n",
       " 'Eggs',\n",
       " 'Bread',\n",
       " 'Chicken',\n",
       " 'Rice',\n",
       " 'Tomatoes',\n",
       " 'Potatoes',\n",
       " 'Cheese',\n",
       " 'Onions']"
      ]
     },
     "execution_count": 27,
     "metadata": {},
     "output_type": "execute_result"
    }
   ],
   "source": [
    "# insert 'Milk' At second position\n",
    "grocery_items.insert(2,'Milk')\n",
    "grocery_items"
   ]
  },
  {
   "cell_type": "code",
   "execution_count": 28,
   "metadata": {},
   "outputs": [
    {
     "data": {
      "text/plain": [
       "['Apples',\n",
       " 'Bananas',\n",
       " 'Milk',\n",
       " 'Eggs',\n",
       " 'Bread',\n",
       " 'Chicken',\n",
       " 'Rice',\n",
       " 'Tomatoes',\n",
       " 'Potatoes',\n",
       " 'Cheese',\n",
       " 'Onions']"
      ]
     },
     "execution_count": 28,
     "metadata": {},
     "output_type": "execute_result"
    }
   ],
   "source": [
    "# remove sugar from the list\n",
    "grocery_items.remove('Sugar')\n",
    "grocery_items"
   ]
  },
  {
   "cell_type": "code",
   "execution_count": 29,
   "metadata": {},
   "outputs": [
    {
     "name": "stdout",
     "output_type": "stream",
     "text": [
      "Total items:  11\n"
     ]
    }
   ],
   "source": [
    "# print total number of items\n",
    "print('Total items: ', len(grocery_items))"
   ]
  },
  {
   "cell_type": "code",
   "execution_count": 30,
   "metadata": {},
   "outputs": [
    {
     "data": {
      "text/plain": [
       "['Apples',\n",
       " 'Bananas',\n",
       " 'Bread',\n",
       " 'Cheese',\n",
       " 'Chicken',\n",
       " 'Eggs',\n",
       " 'Milk',\n",
       " 'Onions',\n",
       " 'Potatoes',\n",
       " 'Rice',\n",
       " 'Tomatoes']"
      ]
     },
     "execution_count": 30,
     "metadata": {},
     "output_type": "execute_result"
    }
   ],
   "source": [
    "# sort list alphabetically\n",
    "grocery_items.sort()\n",
    "grocery_items"
   ]
  },
  {
   "cell_type": "markdown",
   "metadata": {},
   "source": [
    "## 2. Student Grades\n",
    "\n",
    "You have a list of student grades: [72, 85, 90, 78, 65, 90, 72]\n",
    "\n",
    "Find how many times the grade 90 appears.\n",
    "\n",
    "Find the index of the first occurrence of 72.\n",
    "\n",
    "Remove the lowest grade from the list.\n",
    "\n",
    "Add a new grade 88 at the end.\n",
    "\n",
    "Sort the list in descending order."
   ]
  },
  {
   "cell_type": "code",
   "execution_count": 31,
   "metadata": {},
   "outputs": [],
   "source": [
    "student_grades = [72, 85, 90, 78, 65, 90, 72]"
   ]
  },
  {
   "cell_type": "code",
   "execution_count": 32,
   "metadata": {},
   "outputs": [
    {
     "data": {
      "text/plain": [
       "2"
      ]
     },
     "execution_count": 32,
     "metadata": {},
     "output_type": "execute_result"
    }
   ],
   "source": [
    "# how many times 90 appears\n",
    "student_grades.count(90)"
   ]
  },
  {
   "cell_type": "code",
   "execution_count": 33,
   "metadata": {},
   "outputs": [
    {
     "data": {
      "text/plain": [
       "0"
      ]
     },
     "execution_count": 33,
     "metadata": {},
     "output_type": "execute_result"
    }
   ],
   "source": [
    "# index of first occurance of 72\n",
    "student_grades.index(72)"
   ]
  },
  {
   "cell_type": "code",
   "execution_count": 34,
   "metadata": {},
   "outputs": [
    {
     "name": "stdout",
     "output_type": "stream",
     "text": [
      "[72, 85, 90, 78, 65, 90, 72]\n",
      "[72, 85, 90, 78, 90, 72]\n"
     ]
    }
   ],
   "source": [
    "print(student_grades)\n",
    "\n",
    "# remove lowest grade from list\n",
    "student_grades.remove(min(student_grades))\n",
    "\n",
    "print(student_grades)"
   ]
  },
  {
   "cell_type": "code",
   "execution_count": 35,
   "metadata": {},
   "outputs": [
    {
     "data": {
      "text/plain": [
       "[72, 85, 90, 78, 90, 72, 88]"
      ]
     },
     "execution_count": 35,
     "metadata": {},
     "output_type": "execute_result"
    }
   ],
   "source": [
    "# add new grade 88 at end\n",
    "student_grades.append(88)\n",
    "student_grades"
   ]
  },
  {
   "cell_type": "code",
   "execution_count": 36,
   "metadata": {},
   "outputs": [
    {
     "data": {
      "text/plain": [
       "[90, 90, 88, 85, 78, 72, 72]"
      ]
     },
     "execution_count": 36,
     "metadata": {},
     "output_type": "execute_result"
    }
   ],
   "source": [
    "# sort list in descending order\n",
    "student_grades.sort(reverse=True)\n",
    "student_grades"
   ]
  },
  {
   "cell_type": "markdown",
   "metadata": {},
   "source": [
    "## 3. Movie Titles Organizer\n",
    "\n",
    "Maintain a list of your favorite movies.\n",
    "\n",
    "Add a few movies to the list using append() and insert().\n",
    "\n",
    "Remove a movie you no longer like using remove().\n",
    "\n",
    "Reverse the list to see your movies in reverse order.\n",
    "\n",
    "Sort the movies alphabetically."
   ]
  },
  {
   "cell_type": "code",
   "execution_count": 37,
   "metadata": {},
   "outputs": [],
   "source": [
    "movies_list = ['The Shawshank Redemption', 'The Godfather', 'Inception', 'Pulp Fiction', 'The Dark Knight', 'Fight Club', 'Forrest Gump', 'The Matrix', 'Interstellar', 'Parasite']"
   ]
  },
  {
   "cell_type": "code",
   "execution_count": null,
   "metadata": {},
   "outputs": [
    {
     "data": {
      "text/plain": [
       "['The Shawshank Redemption',\n",
       " 'The Godfather',\n",
       " 'Inception',\n",
       " 'Whiplash',\n",
       " 'Pulp Fiction',\n",
       " 'The Dark Knight',\n",
       " 'Fight Club',\n",
       " 'Forrest Gump',\n",
       " 'The Matrix',\n",
       " 'Interstellar',\n",
       " 'Parasite',\n",
       " 'The Social Network']"
      ]
     },
     "execution_count": 38,
     "metadata": {},
     "output_type": "execute_result"
    }
   ],
   "source": [
    "# insert new movies using append and insert\n",
    "movies_list.append('The Social Network')\n",
    "movies_list.insert(3, 'Whiplash')\n",
    "movies_list"
   ]
  },
  {
   "cell_type": "code",
   "execution_count": 39,
   "metadata": {},
   "outputs": [
    {
     "data": {
      "text/plain": [
       "['The Shawshank Redemption',\n",
       " 'The Godfather',\n",
       " 'Whiplash',\n",
       " 'Pulp Fiction',\n",
       " 'The Dark Knight',\n",
       " 'Fight Club',\n",
       " 'Forrest Gump',\n",
       " 'The Matrix',\n",
       " 'Interstellar',\n",
       " 'Parasite',\n",
       " 'The Social Network']"
      ]
     },
     "execution_count": 39,
     "metadata": {},
     "output_type": "execute_result"
    }
   ],
   "source": [
    "# remove a movie \n",
    "movies_list.remove('Inception')\n",
    "movies_list"
   ]
  },
  {
   "cell_type": "code",
   "execution_count": 40,
   "metadata": {},
   "outputs": [
    {
     "data": {
      "text/plain": [
       "['The Social Network',\n",
       " 'Parasite',\n",
       " 'Interstellar',\n",
       " 'The Matrix',\n",
       " 'Forrest Gump',\n",
       " 'Fight Club',\n",
       " 'The Dark Knight',\n",
       " 'Pulp Fiction',\n",
       " 'Whiplash',\n",
       " 'The Godfather',\n",
       " 'The Shawshank Redemption']"
      ]
     },
     "execution_count": 40,
     "metadata": {},
     "output_type": "execute_result"
    }
   ],
   "source": [
    "# reverse the list\n",
    "movies_list.reverse()\n",
    "movies_list"
   ]
  },
  {
   "cell_type": "code",
   "execution_count": 41,
   "metadata": {},
   "outputs": [
    {
     "data": {
      "text/plain": [
       "['Fight Club',\n",
       " 'Forrest Gump',\n",
       " 'Interstellar',\n",
       " 'Parasite',\n",
       " 'Pulp Fiction',\n",
       " 'The Dark Knight',\n",
       " 'The Godfather',\n",
       " 'The Matrix',\n",
       " 'The Shawshank Redemption',\n",
       " 'The Social Network',\n",
       " 'Whiplash']"
      ]
     },
     "execution_count": 41,
     "metadata": {},
     "output_type": "execute_result"
    }
   ],
   "source": [
    "# sort movies alphabetically\n",
    "movies_list.sort()\n",
    "movies_list"
   ]
  },
  {
   "cell_type": "markdown",
   "metadata": {},
   "source": [
    "## 4. Inventory System\n",
    "Start with a list: ['pen', 'pencil', 'notebook']\n",
    "\n",
    "Add items: 'eraser', 'sharpener' using extend().\n",
    "\n",
    "Remove the last item using pop().\n",
    "\n",
    "Replace the item at index 1 with 'marker'.\n",
    "\n",
    "Count how many times 'pen' app"
   ]
  }
 ],
 "metadata": {
  "kernelspec": {
   "display_name": "Python 3",
   "language": "python",
   "name": "python3"
  },
  "language_info": {
   "codemirror_mode": {
    "name": "ipython",
    "version": 3
   },
   "file_extension": ".py",
   "mimetype": "text/x-python",
   "name": "python",
   "nbconvert_exporter": "python",
   "pygments_lexer": "ipython3",
   "version": "3.13.1"
  }
 },
 "nbformat": 4,
 "nbformat_minor": 2
}
