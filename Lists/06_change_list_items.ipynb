{
 "cells": [
  {
   "cell_type": "markdown",
   "id": "ea6032a0",
   "metadata": {},
   "source": [
    "# Change List Items"
   ]
  },
  {
   "cell_type": "code",
   "execution_count": 1,
   "id": "b0748710",
   "metadata": {},
   "outputs": [],
   "source": [
    "forest_plants = ['Fern', 'Moss', 'Oak', 'Pine', 'Maple', 'Birch', 'Bluebell', 'Wild Garlic', 'Ivy', 'Holly', 'Bracken', 'Foxglove', 'Hazel']"
   ]
  },
  {
   "cell_type": "markdown",
   "id": "0d3c98e6",
   "metadata": {},
   "source": [
    "## Change One Item"
   ]
  },
  {
   "cell_type": "code",
   "execution_count": 3,
   "id": "95fca370",
   "metadata": {},
   "outputs": [
    {
     "data": {
      "text/plain": [
       "['Fern',\n",
       " 'Moss',\n",
       " 'Oak',\n",
       " 'Pine',\n",
       " 'Maple',\n",
       " 'Elderberry',\n",
       " 'Bluebell',\n",
       " 'Wild Garlic',\n",
       " 'Ivy',\n",
       " 'Holly',\n",
       " 'Bracken',\n",
       " 'Foxglove',\n",
       " 'Hazel']"
      ]
     },
     "execution_count": 3,
     "metadata": {},
     "output_type": "execute_result"
    }
   ],
   "source": [
    "forest_plants[5] = 'Elderberry'\n",
    "forest_plants"
   ]
  },
  {
   "cell_type": "markdown",
   "id": "a8c794f7",
   "metadata": {},
   "source": [
    "## Change Consecutive List Items"
   ]
  },
  {
   "cell_type": "code",
   "execution_count": 4,
   "id": "abeadf3f",
   "metadata": {},
   "outputs": [
    {
     "data": {
      "text/plain": [
       "['Fern',\n",
       " 'Moss',\n",
       " 'Wood Sorrel',\n",
       " 'Primrose',\n",
       " 'Maple',\n",
       " 'Elderberry',\n",
       " 'Bluebell',\n",
       " 'Wild Garlic',\n",
       " 'Ivy',\n",
       " 'Holly',\n",
       " 'Bracken',\n",
       " 'Foxglove',\n",
       " 'Hazel']"
      ]
     },
     "execution_count": 4,
     "metadata": {},
     "output_type": "execute_result"
    }
   ],
   "source": [
    "new_forest_plants = ['Wood Sorrel', 'Primrose']\n",
    "forest_plants[2:4] = new_forest_plants\n",
    "forest_plants"
   ]
  },
  {
   "cell_type": "markdown",
   "id": "5d36e2d3",
   "metadata": {},
   "source": [
    "## Change an Item with a Range of Items"
   ]
  },
  {
   "cell_type": "code",
   "execution_count": null,
   "id": "915c5baa",
   "metadata": {},
   "outputs": [
    {
     "data": {
      "text/plain": [
       "[['Dogwood', 'Honeysuckle'],\n",
       " 'Moss',\n",
       " 'Wood Sorrel',\n",
       " 'Primrose',\n",
       " 'Maple',\n",
       " 'Elderberry',\n",
       " 'Bluebell',\n",
       " 'Wild Garlic',\n",
       " 'Ivy',\n",
       " 'Holly',\n",
       " 'Bracken',\n",
       " 'Foxglove',\n",
       " 'Hazel']"
      ]
     },
     "execution_count": 6,
     "metadata": {},
     "output_type": "execute_result"
    }
   ],
   "source": [
    "new_forest_plants = ['Dogwood', 'Honeysuckle']\n",
    "forest_plants[0] = new_forest_plants\n",
    "forest_plants"
   ]
  },
  {
   "cell_type": "markdown",
   "id": "94f5e0d4",
   "metadata": {},
   "source": [
    "## Change a Small Range with a Larger Range of Items"
   ]
  },
  {
   "cell_type": "code",
   "execution_count": 7,
   "id": "56cb6d83",
   "metadata": {},
   "outputs": [
    {
     "data": {
      "text/plain": [
       "['Blackberry',\n",
       " 'Lichen',\n",
       " 'Trillium',\n",
       " 'Ginseng',\n",
       " 'Wood Sorrel',\n",
       " 'Primrose',\n",
       " 'Maple',\n",
       " 'Elderberry',\n",
       " 'Bluebell',\n",
       " 'Wild Garlic',\n",
       " 'Ivy',\n",
       " 'Holly',\n",
       " 'Bracken',\n",
       " 'Foxglove',\n",
       " 'Hazel']"
      ]
     },
     "execution_count": 7,
     "metadata": {},
     "output_type": "execute_result"
    }
   ],
   "source": [
    "new_forest_plants = ['Blackberry', 'Lichen', 'Trillium', 'Ginseng']\n",
    "forest_plants[0:2] = new_forest_plants\n",
    "forest_plants"
   ]
  },
  {
   "cell_type": "markdown",
   "id": "f4a27da4",
   "metadata": {},
   "source": [
    "## Change a Larger Range of Items with a Small Range"
   ]
  },
  {
   "cell_type": "code",
   "execution_count": 8,
   "id": "d2b7c398",
   "metadata": {},
   "outputs": [
    {
     "data": {
      "text/plain": [
       "['Mayapple',\n",
       " 'Primrose',\n",
       " 'Maple',\n",
       " 'Elderberry',\n",
       " 'Bluebell',\n",
       " 'Wild Garlic',\n",
       " 'Ivy',\n",
       " 'Holly',\n",
       " 'Bracken',\n",
       " 'Foxglove',\n",
       " 'Hazel']"
      ]
     },
     "execution_count": 8,
     "metadata": {},
     "output_type": "execute_result"
    }
   ],
   "source": [
    "new_forest_plants = ['Mayapple']\n",
    "forest_plants[0:5] = new_forest_plants\n",
    "forest_plants"
   ]
  }
 ],
 "metadata": {
  "kernelspec": {
   "display_name": "Python 3",
   "language": "python",
   "name": "python3"
  },
  "language_info": {
   "codemirror_mode": {
    "name": "ipython",
    "version": 3
   },
   "file_extension": ".py",
   "mimetype": "text/x-python",
   "name": "python",
   "nbconvert_exporter": "python",
   "pygments_lexer": "ipython3",
   "version": "3.13.1"
  }
 },
 "nbformat": 4,
 "nbformat_minor": 5
}
