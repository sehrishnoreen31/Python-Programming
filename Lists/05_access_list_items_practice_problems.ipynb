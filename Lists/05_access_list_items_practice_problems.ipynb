{
 "cells": [
  {
   "cell_type": "markdown",
   "id": "be501976",
   "metadata": {},
   "source": [
    "# Practice Exercises on Accessing List Items"
   ]
  },
  {
   "cell_type": "markdown",
   "id": "47429d4a",
   "metadata": {},
   "source": [
    "## 1. Extract Specific Items\n",
    "\n",
    "Given a list of months:\n",
    "\n",
    "months = [\"Jan\", \"Feb\", \"Mar\", \"Apr\", \"May\", \"Jun\", \"Jul\", \"Aug\", \"Sep\", \"Oct\", \"Nov\", \"Dec\"]\n",
    "\n",
    "Print the first and last month.\n",
    "\n",
    "Print the second quarter months (Apr, May, Jun).\n",
    "\n",
    "Get the last 3 months using negative indexing."
   ]
  },
  {
   "cell_type": "code",
   "execution_count": 1,
   "id": "7e2393ef",
   "metadata": {},
   "outputs": [],
   "source": [
    "months = ['Jan', 'Feb', 'Mar', 'Apr', 'May', 'Jun', 'Jul', 'Aug', 'Sep', 'Oct', 'Nov', 'Dec']"
   ]
  },
  {
   "cell_type": "code",
   "execution_count": 2,
   "id": "4543bdde",
   "metadata": {},
   "outputs": [
    {
     "data": {
      "text/plain": [
       "['Jan', 'Dec']"
      ]
     },
     "execution_count": 2,
     "metadata": {},
     "output_type": "execute_result"
    }
   ],
   "source": [
    "# print first and last month\n",
    "months[0::len(months)-1]"
   ]
  },
  {
   "cell_type": "code",
   "execution_count": 3,
   "id": "3a3eccb7",
   "metadata": {},
   "outputs": [
    {
     "data": {
      "text/plain": [
       "['Apr', 'May', 'Jun']"
      ]
     },
     "execution_count": 3,
     "metadata": {},
     "output_type": "execute_result"
    }
   ],
   "source": [
    "# print second quarter months [Apr, May, Jun]\n",
    "months[3:6]"
   ]
  },
  {
   "cell_type": "code",
   "execution_count": 4,
   "id": "58e69b14",
   "metadata": {},
   "outputs": [
    {
     "data": {
      "text/plain": [
       "['Oct', 'Nov', 'Dec']"
      ]
     },
     "execution_count": 4,
     "metadata": {},
     "output_type": "execute_result"
    }
   ],
   "source": [
    "# last 3 months using neg index\n",
    "months[-3:]"
   ]
  },
  {
   "cell_type": "markdown",
   "id": "24af4005",
   "metadata": {},
   "source": [
    "## 2. Get Middle Value(s)\n",
    "\n",
    "Given a list of odd or even length:\n",
    "\n",
    "If the list has an odd number of elements, return the middle one.\n",
    "\n",
    "If even, return the two middle elements.\n",
    "\n",
    "Test with:\n",
    "\n",
    "odd_list = [10, 20, 30, 40, 50]\n",
    "\n",
    "even_list = [1, 2, 3, 4, 5, 6]"
   ]
  },
  {
   "cell_type": "code",
   "execution_count": 5,
   "id": "ecc71333",
   "metadata": {},
   "outputs": [
    {
     "name": "stdout",
     "output_type": "stream",
     "text": [
      "Mid of Odd List: 40\n",
      "Mid of Even List: [3, 6]\n"
     ]
    }
   ],
   "source": [
    "odd_list = [10, 20, 30, 40, 50, 60, 70]\n",
    "even_list = [0, 1, 2, 3, 6, 7, 8, 9]\n",
    "\n",
    "# odd list\n",
    "mid_of_odd = len(odd_list)//2\n",
    "print(f'Mid of Odd List: {odd_list[mid_of_odd]}')\n",
    "\n",
    "# even list\n",
    "mid_of_even = len(even_list)//2\n",
    "print(f'Mid of Even List: {even_list[mid_of_even-1:mid_of_even+1]}')"
   ]
  },
  {
   "cell_type": "markdown",
   "id": "73afb05b",
   "metadata": {},
   "source": [
    "## 3. Access Nested List Items\n",
    "\n",
    "Given:\n",
    "\n",
    "data = [101, [202, 303], [404, [505, 606]]]\n",
    "\n",
    "Access 303 and 606."
   ]
  },
  {
   "cell_type": "code",
   "execution_count": 3,
   "id": "624b4bed",
   "metadata": {},
   "outputs": [
    {
     "name": "stdout",
     "output_type": "stream",
     "text": [
      "303\n",
      "606\n",
      "303\n",
      "606\n"
     ]
    }
   ],
   "source": [
    "data = [101, [202, 303], [404, [505, 606]]]\n",
    "print(data[-2][-1])\n",
    "print(data[-1][-1][-1])\n",
    "# or\n",
    "print(data[1][-1])\n",
    "print(data[2][-1][-1])"
   ]
  },
  {
   "cell_type": "markdown",
   "id": "76125d1f",
   "metadata": {},
   "source": [
    "## 4. Extract Items Based on Pattern\n",
    "\n",
    "Given a list of temperature readings:\n",
    "\n",
    "temps = [23, 25, 24, 22, 26, 24, 27, 28]\n",
    "\n",
    "Print every other temperature.\n",
    "\n",
    "Reverse the list.\n",
    "\n",
    "Print only the middle 4 values."
   ]
  },
  {
   "cell_type": "code",
   "execution_count": 7,
   "id": "76d90cd3",
   "metadata": {},
   "outputs": [],
   "source": [
    "temps = [23, 25, 24, 22, 26, 24, 27, 28]"
   ]
  },
  {
   "cell_type": "code",
   "execution_count": 8,
   "id": "5dc416cf",
   "metadata": {},
   "outputs": [
    {
     "data": {
      "text/plain": [
       "[23, 24, 26, 27]"
      ]
     },
     "execution_count": 8,
     "metadata": {},
     "output_type": "execute_result"
    }
   ],
   "source": [
    "# print every other temperature\n",
    "temps[::2]"
   ]
  },
  {
   "cell_type": "code",
   "execution_count": 9,
   "id": "ff65c9b1",
   "metadata": {},
   "outputs": [
    {
     "data": {
      "text/plain": [
       "[28, 27, 24, 26, 22, 24, 25, 23]"
      ]
     },
     "execution_count": 9,
     "metadata": {},
     "output_type": "execute_result"
    }
   ],
   "source": [
    "# reverse the list\n",
    "temps[::-1]"
   ]
  },
  {
   "cell_type": "code",
   "execution_count": 10,
   "id": "7fc4bb93",
   "metadata": {},
   "outputs": [
    {
     "name": "stdout",
     "output_type": "stream",
     "text": [
      "[24, 22, 26, 24]\n"
     ]
    }
   ],
   "source": [
    "# print only 4 middle values\n",
    "# print(len(temps)) # 8, even\n",
    "mid_of_temps_even = len(temps)//2\n",
    "print(temps[mid_of_temps_even-2:mid_of_temps_even+2]) # valid for all even lengths"
   ]
  },
  {
   "cell_type": "code",
   "execution_count": 11,
   "id": "77bc004b",
   "metadata": {},
   "outputs": [
    {
     "name": "stdout",
     "output_type": "stream",
     "text": [
      "[26, 24, 27, 28]\n"
     ]
    }
   ],
   "source": [
    "# another example\n",
    "temps_new = [23, 25, 24, 22, 26, 24, 27, 28, 29, 33, 34, 30]\n",
    "mid_of_temps_even = len(temps_new)//2\n",
    "print(temps_new[mid_of_temps_even-2:mid_of_temps_even+2]) # valid for all even lengths"
   ]
  },
  {
   "cell_type": "markdown",
   "id": "d71e3e34",
   "metadata": {},
   "source": [
    "## 5. Student Marks Dashboard\n",
    "\n",
    "students = [\"Ali\", \"Sara\", \"Ahmed\", \"Ayesha\"]\n",
    "\n",
    "marks = [88, 76, 91, 84]\n",
    "\n",
    "Print the student with the highest marks.\n",
    "\n",
    "Print the names of students who scored more than 80.\n",
    "\n",
    "Show the name and marks of the last student in the list."
   ]
  },
  {
   "cell_type": "code",
   "execution_count": 12,
   "id": "1caa95ff",
   "metadata": {},
   "outputs": [],
   "source": [
    "students = [\"Ali\", \"Sara\", \"Ahmed\", \"Ayesha\"]\n",
    "marks = [88, 76, 91, 84]\n",
    "\n",
    "# # zip lists togather\n",
    "# dashboard = list(zip(students, marks))"
   ]
  },
  {
   "cell_type": "code",
   "execution_count": 13,
   "id": "4526b299",
   "metadata": {},
   "outputs": [
    {
     "name": "stdout",
     "output_type": "stream",
     "text": [
      "Ahmed 91\n"
     ]
    }
   ],
   "source": [
    "# student with highest marks\n",
    "# assuming that student and their marks have same index in different lists\n",
    "index_of_heighest_marks = marks.index(max(marks))\n",
    "index_of_heighest_marks_student = index_of_heighest_marks\n",
    "\n",
    "# print results\n",
    "print(students[index_of_heighest_marks_student], marks[index_of_heighest_marks])"
   ]
  },
  {
   "cell_type": "code",
   "execution_count": 14,
   "id": "6f9cc3e4",
   "metadata": {},
   "outputs": [
    {
     "name": "stdout",
     "output_type": "stream",
     "text": [
      "Students with marks more than 80:\n",
      "Ali 88\n",
      "Ahmed 91\n",
      "Ayesha 84\n"
     ]
    }
   ],
   "source": [
    "# name of students who scored more than 80\n",
    "# assuming that student and their marks have same index in different lists\n",
    "marks_more_than_80 = [marks.index(mark) for mark in marks if mark > 80]\n",
    "\n",
    "# loop to print all students\n",
    "print(f'Students with marks more than 80:')\n",
    "\n",
    "#zip lists togather\n",
    "for student, mark in zip(students, marks):\n",
    "    if students.index(student) in marks_more_than_80:\n",
    "        print(student, mark)"
   ]
  },
  {
   "cell_type": "markdown",
   "id": "3c41f4e3",
   "metadata": {},
   "source": [
    "## 6. Daily Task Scheduler\n",
    "\n",
    "schedule = [\"Fajr\", \"Breakfast\", \"Work\", \"Lunch\", \"Meeting\", \"Study\", \"Isha\", \"Sleep\"]\n",
    "\n",
    "Show the morning routine (before lunch).\n",
    "\n",
    "Show the evening routine (after 5th task).\n",
    "\n",
    "Reverse the entire schedule."
   ]
  },
  {
   "cell_type": "code",
   "execution_count": 15,
   "id": "6081511d",
   "metadata": {},
   "outputs": [],
   "source": [
    "schedule = [\"Fajr\", \"Breakfast\", \"Work\", \"Lunch\", \"Meeting\", \"Study\", \"Isha\", \"Sleep\"]"
   ]
  },
  {
   "cell_type": "code",
   "execution_count": 16,
   "id": "12fe62f2",
   "metadata": {},
   "outputs": [
    {
     "name": "stdout",
     "output_type": "stream",
     "text": [
      "Morning Routine:  ['Fajr', 'Breakfast', 'Work']\n"
     ]
    }
   ],
   "source": [
    "# morning routine, before lunch\n",
    "morning_routine = [task for task in schedule if schedule.index(task)< schedule.index('Lunch')]\n",
    "print('Morning Routine: ', morning_routine)"
   ]
  },
  {
   "cell_type": "code",
   "execution_count": 17,
   "id": "2ae66c2b",
   "metadata": {},
   "outputs": [
    {
     "name": "stdout",
     "output_type": "stream",
     "text": [
      "Evening Routine:  ['Study', 'Isha', 'Sleep']\n"
     ]
    }
   ],
   "source": [
    "# evening routine, after task 5\n",
    "evening_routine = [task for task in schedule if schedule.index(task)> 4]\n",
    "print('Evening Routine: ', evening_routine)"
   ]
  },
  {
   "cell_type": "markdown",
   "id": "0659c2bf",
   "metadata": {},
   "source": [
    "## 7. Random Access Challenge\n",
    "\n",
    "Given:\n",
    "\n",
    "elements = ['a', 'b', 'c', 'd', 'e', 'f', 'g']\n",
    "\n",
    "Access every 3rd item starting from index 1.\n",
    "\n",
    "Access items from index 2 to 5 in reverse order."
   ]
  },
  {
   "cell_type": "code",
   "execution_count": 18,
   "id": "10c87ea1",
   "metadata": {},
   "outputs": [],
   "source": [
    "elements = ['a', 'b', 'c', 'd', 'e', 'f', 'g']"
   ]
  },
  {
   "cell_type": "code",
   "execution_count": 19,
   "id": "7109dc62",
   "metadata": {},
   "outputs": [
    {
     "data": {
      "text/plain": [
       "['b', 'e']"
      ]
     },
     "execution_count": 19,
     "metadata": {},
     "output_type": "execute_result"
    }
   ],
   "source": [
    "# every third item starting from index 1\n",
    "elements[1::3]"
   ]
  },
  {
   "cell_type": "code",
   "execution_count": 20,
   "id": "9bc7e243",
   "metadata": {},
   "outputs": [
    {
     "data": {
      "text/plain": [
       "['f', 'e', 'd', 'c']"
      ]
     },
     "execution_count": 20,
     "metadata": {},
     "output_type": "execute_result"
    }
   ],
   "source": [
    "# index 2 - 5 in reverse\n",
    "elements[5:1:-1]"
   ]
  }
 ],
 "metadata": {
  "kernelspec": {
   "display_name": "Python 3",
   "language": "python",
   "name": "python3"
  },
  "language_info": {
   "codemirror_mode": {
    "name": "ipython",
    "version": 3
   },
   "file_extension": ".py",
   "mimetype": "text/x-python",
   "name": "python",
   "nbconvert_exporter": "python",
   "pygments_lexer": "ipython3",
   "version": "3.13.1"
  }
 },
 "nbformat": 4,
 "nbformat_minor": 5
}
