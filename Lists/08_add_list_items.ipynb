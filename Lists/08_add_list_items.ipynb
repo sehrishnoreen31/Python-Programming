{
 "cells": [
  {
   "cell_type": "markdown",
   "id": "b7f54c63",
   "metadata": {},
   "source": [
    "# Add List Items"
   ]
  },
  {
   "cell_type": "code",
   "execution_count": 8,
   "id": "57a63031",
   "metadata": {},
   "outputs": [
    {
     "data": {
      "text/plain": [
       "['Pen',\n",
       " 'Pencil',\n",
       " 'Eraser',\n",
       " 'Sharpener',\n",
       " 'Ruler',\n",
       " 'Notebook',\n",
       " 'Stapler',\n",
       " 'Staples',\n",
       " 'Paper clips',\n",
       " 'Highlighter']"
      ]
     },
     "execution_count": 8,
     "metadata": {},
     "output_type": "execute_result"
    }
   ],
   "source": [
    "stationary = ['Pen', 'Pencil', 'Eraser', 'Sharpener', 'Ruler', 'Notebook', 'Stapler', 'Staples', 'Paper clips', 'Highlighter']\n",
    "stationary"
   ]
  },
  {
   "cell_type": "markdown",
   "id": "64fc965d",
   "metadata": {},
   "source": [
    "## append()"
   ]
  },
  {
   "cell_type": "code",
   "execution_count": 9,
   "id": "06fd0ee2",
   "metadata": {},
   "outputs": [
    {
     "data": {
      "text/plain": [
       "['Pen',\n",
       " 'Pencil',\n",
       " 'Eraser',\n",
       " 'Sharpener',\n",
       " 'Ruler',\n",
       " 'Notebook',\n",
       " 'Stapler',\n",
       " 'Staples',\n",
       " 'Paper clips',\n",
       " 'Highlighter',\n",
       " 'Marker',\n",
       " 'Scissors',\n",
       " 'Glue stick']"
      ]
     },
     "execution_count": 9,
     "metadata": {},
     "output_type": "execute_result"
    }
   ],
   "source": [
    "stationary.append('Marker')\n",
    "stationary.append('Scissors')\n",
    "stationary.append('Glue stick')\n",
    "\n",
    "stationary"
   ]
  },
  {
   "cell_type": "markdown",
   "id": "735d3479",
   "metadata": {},
   "source": [
    "## insert()"
   ]
  },
  {
   "cell_type": "code",
   "execution_count": 10,
   "id": "5290647b",
   "metadata": {},
   "outputs": [
    {
     "data": {
      "text/plain": [
       "['Tape',\n",
       " 'Sticky notes',\n",
       " 'Folder',\n",
       " ['Binder', 'Calculator'],\n",
       " 'Pen',\n",
       " 'Pencil',\n",
       " 'Eraser',\n",
       " 'Sharpener',\n",
       " 'Ruler',\n",
       " 'Notebook',\n",
       " 'Stapler',\n",
       " 'Staples',\n",
       " 'Paper clips',\n",
       " 'Highlighter',\n",
       " 'Marker',\n",
       " 'Scissors',\n",
       " 'Glue stick']"
      ]
     },
     "execution_count": 10,
     "metadata": {},
     "output_type": "execute_result"
    }
   ],
   "source": [
    "stationary.insert(0, 'Tape')\n",
    "stationary.insert(1, 'Sticky notes')\n",
    "stationary.insert(2, 'Folder')\n",
    "stationary.insert(3, ['Binder', 'Calculator'])\n",
    "stationary"
   ]
  },
  {
   "cell_type": "markdown",
   "id": "2f22f793",
   "metadata": {},
   "source": [
    "## extend()"
   ]
  },
  {
   "cell_type": "code",
   "execution_count": 11,
   "id": "c3b44fc0",
   "metadata": {},
   "outputs": [
    {
     "data": {
      "text/plain": [
       "['Push pins', 'Index cards']"
      ]
     },
     "execution_count": 11,
     "metadata": {},
     "output_type": "execute_result"
    }
   ],
   "source": [
    "other_stationary_items = ['Push pins', 'Index cards']\n",
    "other_stationary_items"
   ]
  },
  {
   "cell_type": "code",
   "execution_count": 12,
   "id": "6080d597",
   "metadata": {},
   "outputs": [
    {
     "data": {
      "text/plain": [
       "['Tape',\n",
       " 'Sticky notes',\n",
       " 'Folder',\n",
       " ['Binder', 'Calculator'],\n",
       " 'Pen',\n",
       " 'Pencil',\n",
       " 'Eraser',\n",
       " 'Sharpener',\n",
       " 'Ruler',\n",
       " 'Notebook',\n",
       " 'Stapler',\n",
       " 'Staples',\n",
       " 'Paper clips',\n",
       " 'Highlighter',\n",
       " 'Marker',\n",
       " 'Scissors',\n",
       " 'Glue stick',\n",
       " 'Push pins',\n",
       " 'Index cards']"
      ]
     },
     "execution_count": 12,
     "metadata": {},
     "output_type": "execute_result"
    }
   ],
   "source": [
    "stationary.extend(other_stationary_items)\n",
    "stationary"
   ]
  },
  {
   "cell_type": "code",
   "execution_count": 14,
   "id": "d8c0fd08",
   "metadata": {},
   "outputs": [
    {
     "data": {
      "text/plain": [
       "('Whiteout', 'Rubber bands', 'Stencil')"
      ]
     },
     "execution_count": 14,
     "metadata": {},
     "output_type": "execute_result"
    }
   ],
   "source": [
    "other_stationary_items = ('Whiteout', 'Rubber bands', 'Stencil')\n",
    "other_stationary_items"
   ]
  },
  {
   "cell_type": "code",
   "execution_count": 15,
   "id": "537dbb76",
   "metadata": {},
   "outputs": [
    {
     "data": {
      "text/plain": [
       "['Tape',\n",
       " 'Sticky notes',\n",
       " 'Folder',\n",
       " ['Binder', 'Calculator'],\n",
       " 'Pen',\n",
       " 'Pencil',\n",
       " 'Eraser',\n",
       " 'Sharpener',\n",
       " 'Ruler',\n",
       " 'Notebook',\n",
       " 'Stapler',\n",
       " 'Staples',\n",
       " 'Paper clips',\n",
       " 'Highlighter',\n",
       " 'Marker',\n",
       " 'Scissors',\n",
       " 'Glue stick',\n",
       " 'Push pins',\n",
       " 'Index cards',\n",
       " 'Whiteout',\n",
       " 'Rubber bands',\n",
       " 'Stencil']"
      ]
     },
     "execution_count": 15,
     "metadata": {},
     "output_type": "execute_result"
    }
   ],
   "source": [
    "stationary.extend(other_stationary_items)\n",
    "stationary"
   ]
  },
  {
   "cell_type": "code",
   "execution_count": 17,
   "id": "30a3621d",
   "metadata": {},
   "outputs": [
    {
     "data": {
      "text/plain": [
       "{'Bookmarks', 'Hole punch', 'Thumb tacks'}"
      ]
     },
     "execution_count": 17,
     "metadata": {},
     "output_type": "execute_result"
    }
   ],
   "source": [
    "other_stationary_items = {'Thumb tacks', 'Bookmarks', 'Hole punch'}\n",
    "other_stationary_items"
   ]
  },
  {
   "cell_type": "code",
   "execution_count": 19,
   "id": "98afddf4",
   "metadata": {},
   "outputs": [
    {
     "data": {
      "text/plain": [
       "['Tape',\n",
       " 'Sticky notes',\n",
       " 'Folder',\n",
       " ['Binder', 'Calculator'],\n",
       " 'Pen',\n",
       " 'Pencil',\n",
       " 'Eraser',\n",
       " 'Sharpener',\n",
       " 'Ruler',\n",
       " 'Notebook',\n",
       " 'Stapler',\n",
       " 'Staples',\n",
       " 'Paper clips',\n",
       " 'Highlighter',\n",
       " 'Marker',\n",
       " 'Scissors',\n",
       " 'Glue stick',\n",
       " 'Push pins',\n",
       " 'Index cards',\n",
       " 'Whiteout',\n",
       " 'Rubber bands',\n",
       " 'Stencil',\n",
       " 'Bookmarks',\n",
       " 'Hole punch',\n",
       " 'Thumb tacks',\n",
       " 'Bookmarks',\n",
       " 'Hole punch',\n",
       " 'Thumb tacks']"
      ]
     },
     "execution_count": 19,
     "metadata": {},
     "output_type": "execute_result"
    }
   ],
   "source": [
    "stationary.extend(other_stationary_items)\n",
    "stationary"
   ]
  }
 ],
 "metadata": {
  "kernelspec": {
   "display_name": "Python 3",
   "language": "python",
   "name": "python3"
  },
  "language_info": {
   "codemirror_mode": {
    "name": "ipython",
    "version": 3
   },
   "file_extension": ".py",
   "mimetype": "text/x-python",
   "name": "python",
   "nbconvert_exporter": "python",
   "pygments_lexer": "ipython3",
   "version": "3.13.1"
  }
 },
 "nbformat": 4,
 "nbformat_minor": 5
}
