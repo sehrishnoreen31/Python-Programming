{
 "cells": [
  {
   "cell_type": "markdown",
   "id": "a51f485c",
   "metadata": {},
   "source": [
    "# Practice Problems: Change List Items"
   ]
  },
  {
   "cell_type": "markdown",
   "id": "2e2c2c56",
   "metadata": {},
   "source": [
    "## Problem 1: Update City Name\n",
    "\n",
    "You are maintaining a list of city names:\n",
    "\n",
    "cities = [\"Lahore\", \"Karachi\", \"Islamabad\", \"Peshawar\", \"Multan\"]\n",
    "\n",
    "Replace \"Multan\" with \"Quetta\".\n",
    "\n",
    "Change the second city to \"Hyderabad\"."
   ]
  },
  {
   "cell_type": "code",
   "execution_count": 1,
   "id": "5aa2cac2",
   "metadata": {},
   "outputs": [],
   "source": [
    "cities = [\"Lahore\", \"Karachi\", \"Islamabad\", \"Peshawar\", \"Multan\"]"
   ]
  },
  {
   "cell_type": "code",
   "execution_count": 10,
   "id": "8e16c017",
   "metadata": {},
   "outputs": [
    {
     "data": {
      "text/plain": [
       "['Lahore', 'Karachi', 'Islamabad', 'Peshawar', 'Quetta']"
      ]
     },
     "execution_count": 10,
     "metadata": {},
     "output_type": "execute_result"
    }
   ],
   "source": [
    "# replace 'Multan' with 'Quetta'\n",
    "index = 0\n",
    "for city in cities:\n",
    "    if cities[index] == 'Multan':\n",
    "        cities[index] = 'Quetta'\n",
    "    index+=1\n",
    "cities"
   ]
  },
  {
   "cell_type": "code",
   "execution_count": 11,
   "id": "31f6270a",
   "metadata": {},
   "outputs": [
    {
     "data": {
      "text/plain": [
       "['Lahore', 'Hyderabad', 'Islamabad', 'Peshawar', 'Quetta']"
      ]
     },
     "execution_count": 11,
     "metadata": {},
     "output_type": "execute_result"
    }
   ],
   "source": [
    "# change second city to 'Hyderabad'\n",
    "cities[1] = 'Hyderabad'\n",
    "cities"
   ]
  },
  {
   "cell_type": "markdown",
   "id": "6ef7eab3",
   "metadata": {},
   "source": [
    "# Problem 2: Update Scores\n",
    "\n",
    "You are storing test scores in a list:\n",
    "\n",
    "scores = [45, 67, 89, 33, 55]\n",
    "\n",
    "Increase the first score by 10.\n",
    "\n",
    "Change the last score to the average of all scores."
   ]
  },
  {
   "cell_type": "code",
   "execution_count": 12,
   "id": "31164cf1",
   "metadata": {},
   "outputs": [],
   "source": [
    "scores = [45, 67, 89, 33, 55]"
   ]
  },
  {
   "cell_type": "code",
   "execution_count": 13,
   "id": "28dd2bf0",
   "metadata": {},
   "outputs": [
    {
     "data": {
      "text/plain": [
       "[55, 67, 89, 33, 55]"
      ]
     },
     "execution_count": 13,
     "metadata": {},
     "output_type": "execute_result"
    }
   ],
   "source": [
    "# increase first score by 10\n",
    "scores[0] = scores[0]+10\n",
    "scores"
   ]
  },
  {
   "cell_type": "code",
   "execution_count": 15,
   "id": "f1caed8a",
   "metadata": {},
   "outputs": [
    {
     "data": {
      "text/plain": [
       "[55, 67, 89, 33, 78.7]"
      ]
     },
     "execution_count": 15,
     "metadata": {},
     "output_type": "execute_result"
    }
   ],
   "source": [
    "# change last score to avg of all scores\n",
    "avg = sum(scores)/len(scores)\n",
    "scores[-1] = avg\n",
    "scores"
   ]
  },
  {
   "cell_type": "markdown",
   "id": "271221ae",
   "metadata": {},
   "source": [
    "## Problem 3: Fix Calendar Days\n",
    "\n",
    "You have a list of days, but some are incorrect:\n",
    "\n",
    "days = [\"Monday\", \"Tuesday\", \"Funday\", \"Thursay\", \"Friday\"]\n",
    "\n",
    "Replace \"Funday\" with \"Wednesday\".\n",
    "\n",
    "Fix the spelling of \"Thursay\"."
   ]
  },
  {
   "cell_type": "code",
   "execution_count": 16,
   "id": "002b70e7",
   "metadata": {},
   "outputs": [],
   "source": [
    "days = [\"Monday\", \"Tuesday\", \"Funday\", \"Thursay\", \"Friday\"]"
   ]
  },
  {
   "cell_type": "code",
   "execution_count": 17,
   "id": "fc21ecd1",
   "metadata": {},
   "outputs": [
    {
     "data": {
      "text/plain": [
       "['Monday', 'Tuesday', 'Wednesday', 'Thursay', 'Friday']"
      ]
     },
     "execution_count": 17,
     "metadata": {},
     "output_type": "execute_result"
    }
   ],
   "source": [
    "# replace 'Funday' with 'Wednesday'\n",
    "index = 0\n",
    "for day in days:\n",
    "    if days[index] == 'Funday':\n",
    "        days[index] = 'Wednesday'\n",
    "    index += 1\n",
    "days"
   ]
  },
  {
   "cell_type": "code",
   "execution_count": 19,
   "id": "dd7aa03a",
   "metadata": {},
   "outputs": [
    {
     "data": {
      "text/plain": [
       "['Monday', 'Tuesday', 'Wednesday', 'Thursday', 'Friday']"
      ]
     },
     "execution_count": 19,
     "metadata": {},
     "output_type": "execute_result"
    }
   ],
   "source": [
    "# fix spelling of 'Thursday'\n",
    "# assuming the days a in correct order starting from monday\n",
    "days[3] = 'Thursday'\n",
    "days"
   ]
  },
  {
   "cell_type": "markdown",
   "id": "4d2cc92e",
   "metadata": {},
   "source": [
    "## Problem 4: Shopping List Corrections\n",
    "\n",
    "You are working with a grocery list:\n",
    "\n",
    "grocery = [\"milk\", \"eggs\", \"bread\", \"butter\", \"apple\"]\n",
    "\n",
    "Replace \"apple\" with \"apples\".\n",
    "\n",
    "Replace \"bread\" and \"butter\" with \"cheese\" and \"jam\" using slicing."
   ]
  },
  {
   "cell_type": "code",
   "execution_count": 20,
   "id": "5a1dfa83",
   "metadata": {},
   "outputs": [],
   "source": [
    "grocery = [\"milk\", \"eggs\", \"bread\", \"butter\", \"apple\"]"
   ]
  },
  {
   "cell_type": "code",
   "execution_count": 21,
   "id": "bd24a388",
   "metadata": {},
   "outputs": [
    {
     "data": {
      "text/plain": [
       "['milk', 'eggs', 'bread', 'butter', 'apples']"
      ]
     },
     "execution_count": 21,
     "metadata": {},
     "output_type": "execute_result"
    }
   ],
   "source": [
    "# replace apple with apples\n",
    "index = 0\n",
    "for item in grocery:\n",
    "    if grocery[index] == 'apple':\n",
    "        grocery[index] = 'apples'\n",
    "    index += 1\n",
    "\n",
    "grocery"
   ]
  },
  {
   "cell_type": "code",
   "execution_count": 22,
   "id": "c677ae98",
   "metadata": {},
   "outputs": [
    {
     "data": {
      "text/plain": [
       "['milk', 'eggs', 'cheese', 'jam', 'apples']"
      ]
     },
     "execution_count": 22,
     "metadata": {},
     "output_type": "execute_result"
    }
   ],
   "source": [
    "# replace bread and butter with cheese and jam\n",
    "\n",
    "grocery[2:4] = ['cheese', 'jam']\n",
    "grocery"
   ]
  },
  {
   "cell_type": "markdown",
   "id": "9299b109",
   "metadata": {},
   "source": [
    "## Problem 5: Replace Even Numbers with 0\n",
    "\n",
    "You have a list of numbers:\n",
    "\n",
    "nums = [3, 4, 7, 10, 15, 20]\n",
    "\n",
    "Replace all even numbers with 0 by accessing their indices."
   ]
  },
  {
   "cell_type": "code",
   "execution_count": 23,
   "id": "a3cfb89f",
   "metadata": {},
   "outputs": [],
   "source": [
    "nums = [3, 4, 7, 10, 15, 20]"
   ]
  },
  {
   "cell_type": "code",
   "execution_count": 25,
   "id": "1ee48213",
   "metadata": {},
   "outputs": [
    {
     "data": {
      "text/plain": [
       "[3, 0, 7, 0, 15, 0]"
      ]
     },
     "execution_count": 25,
     "metadata": {},
     "output_type": "execute_result"
    }
   ],
   "source": [
    "# replace even numbers with zero\n",
    "index = 0\n",
    "for num in nums:\n",
    "    if nums[index]%2 == 0:\n",
    "        nums[index] = 0\n",
    "    index += 1\n",
    "\n",
    "nums "
   ]
  }
 ],
 "metadata": {
  "kernelspec": {
   "display_name": "Python 3",
   "language": "python",
   "name": "python3"
  },
  "language_info": {
   "codemirror_mode": {
    "name": "ipython",
    "version": 3
   },
   "file_extension": ".py",
   "mimetype": "text/x-python",
   "name": "python",
   "nbconvert_exporter": "python",
   "pygments_lexer": "ipython3",
   "version": "3.13.1"
  }
 },
 "nbformat": 4,
 "nbformat_minor": 5
}
