{
 "cells": [
  {
   "cell_type": "markdown",
   "id": "aedb7b39",
   "metadata": {},
   "source": [
    "# Problems: Adding List Items\n"
   ]
  },
  {
   "cell_type": "markdown",
   "id": "fe63d2cd",
   "metadata": {},
   "source": [
    "## 1. Dynamic To-Do List\n",
    "Scenario: Simulate a to-do list manager where a user can keep adding new tasks.\n",
    "\n",
    "Continuously take input from the user (until they enter 'done')\n",
    "\n",
    "Use append() to store all tasks in a list\n",
    "\n",
    "After completion, display the list of tasks entered"
   ]
  },
  {
   "cell_type": "code",
   "execution_count": 13,
   "id": "a3175ae3",
   "metadata": {},
   "outputs": [
    {
     "name": "stdout",
     "output_type": "stream",
     "text": [
      "1. Exam\n",
      "2. Class\n",
      "3. Visit Library\n"
     ]
    }
   ],
   "source": [
    "# empty list to store tasks\n",
    "to_do_list = []\n",
    "\n",
    "# display function\n",
    "def display_list():\n",
    "    for index, task in enumerate(to_do_list, start=1):\n",
    "        print(f'{index}. {task.strip().title()}')\n",
    "\n",
    "# add task function\n",
    "def add_task():\n",
    "    while(True):\n",
    "        # take user input\n",
    "        task = input('Enter a task: ')\n",
    "        # terminate loop\n",
    "        if task == 'done':\n",
    "            break\n",
    "        if task not in to_do_list:\n",
    "        # handling case sensitivity by lowercase\n",
    "            to_do_list.append(task.lower())\n",
    "        else:\n",
    "            return 'Task already exists!'\n",
    "        \n",
    "# call add_task() function\n",
    "add_task()\n",
    "\n",
    "# display list\n",
    "display_list()"
   ]
  },
  {
   "cell_type": "markdown",
   "id": "2af39fe2",
   "metadata": {},
   "source": [
    "## 2. Index-Based Insertion\n",
    "\n",
    "Scenario: Insert new items at specific indexes in a shopping list.\n",
    "\n",
    "Given a list like [\"Milk\", \"Eggs\", \"Bread\"]\n",
    "\n",
    "Insert \"Butter\" at index 1 and \"Juice\" at the end using insert() and append()\n",
    "\n",
    "Display the final shopping list"
   ]
  },
  {
   "cell_type": "code",
   "execution_count": 1,
   "id": "e676cc5e",
   "metadata": {},
   "outputs": [
    {
     "data": {
      "text/plain": [
       "['Milk', 'Butter', 'Eggs', 'Bread', 'Juice']"
      ]
     },
     "execution_count": 1,
     "metadata": {},
     "output_type": "execute_result"
    }
   ],
   "source": [
    "shopping_list = [\"Milk\", \"Eggs\", \"Bread\"]\n",
    "shopping_list.insert(1, 'Butter')\n",
    "shopping_list.append('Juice')\n",
    "shopping_list"
   ]
  },
  {
   "cell_type": "markdown",
   "id": "02067c12",
   "metadata": {},
   "source": [
    "## 3. Merging Weekly Reports\n",
    "\n",
    "Scenario: Merge two weekly sales reports.\n",
    "\n",
    "week1 = [1200, 1350, 1600] and week2 = [1550, 1400, 1700]\n",
    "\n",
    "Use extend() to create a final report that contains both weeks\n",
    "\n",
    "Also, print total length and average of combined report"
   ]
  },
  {
   "cell_type": "code",
   "execution_count": 6,
   "id": "3e2b3d31",
   "metadata": {},
   "outputs": [
    {
     "name": "stdout",
     "output_type": "stream",
     "text": [
      "Length: 6\n",
      "Average: 2325.0\n"
     ]
    }
   ],
   "source": [
    "week1 = [1200, 1350, 1600]\n",
    "week2 = [1550, 1400, 1700]\n",
    "\n",
    "week1.extend(week2)\n",
    "\n",
    "print(f'Length: {len(week1)}')\n",
    "print(f'Average: {sum(week2)/2}')"
   ]
  },
  {
   "cell_type": "markdown",
   "id": "cb356dc4",
   "metadata": {},
   "source": [
    "## 4. Building a List from Scratch\n",
    "\n",
    "Scenario: Generate a list of the first 10 square numbers using a loop.\n",
    "\n",
    "Start with an empty list\n",
    "\n",
    "Append squares of numbers 1–10 using a for loop"
   ]
  },
  {
   "cell_type": "code",
   "execution_count": 7,
   "id": "4e5ef970",
   "metadata": {},
   "outputs": [
    {
     "data": {
      "text/plain": [
       "[1, 4, 9, 16, 25, 36, 49, 64, 81, 100]"
      ]
     },
     "execution_count": 7,
     "metadata": {},
     "output_type": "execute_result"
    }
   ],
   "source": [
    "# empty list for squares\n",
    "squares_list = []\n",
    "\n",
    "# loop to create list items\n",
    "for num in range(1, 11):\n",
    "    num = num**2\n",
    "    squares_list.append(num)\n",
    "\n",
    "# print list\n",
    "squares_list"
   ]
  },
  {
   "cell_type": "markdown",
   "id": "24f10d47",
   "metadata": {},
   "source": [
    "## 5. Even/Odd Splitter\n",
    "\n",
    "Scenario: Categorize numbers as even or odd while reading them from a list.\n",
    "\n",
    "Given a list: [1, 3, 4, 6, 7, 8, 10]\n",
    "\n",
    "Use two separate lists: even_numbers and odd_numbers\n",
    "\n",
    "Append numbers accordingly\n",
    "\n",
    "Print both lists"
   ]
  },
  {
   "cell_type": "code",
   "execution_count": 8,
   "id": "4fc50885",
   "metadata": {},
   "outputs": [
    {
     "name": "stdout",
     "output_type": "stream",
     "text": [
      "Even numbers list: [4, 6, 8, 10]\n",
      "Odd numbers list: [1, 3, 7]\n"
     ]
    }
   ],
   "source": [
    "numbers = [1, 3, 4, 6, 7, 8, 10]\n",
    "\n",
    "# empty lists for even and odd numbers\n",
    "even_numbers = []\n",
    "odd_numbers = []\n",
    "\n",
    "# separating items to even and odd\n",
    "for num in numbers:\n",
    "    if num % 2 == 0:\n",
    "        even_numbers.append(num)\n",
    "    else:\n",
    "        odd_numbers.append(num)\n",
    "\n",
    "# print both lists\n",
    "print(f'Even numbers list: {even_numbers}')\n",
    "print(f'Odd numbers list: {odd_numbers}')"
   ]
  },
  {
   "cell_type": "markdown",
   "id": "331e457f",
   "metadata": {},
   "source": [
    "## 6. Sentence Rebuilder\n",
    "\n",
    "Scenario: Rebuild a sentence from individual words added one by one.\n",
    "\n",
    "Start with an empty list\n",
    "\n",
    "Add each word using append()\n",
    "\n",
    "Finally, join them using \" \".join() and print the full sentence"
   ]
  },
  {
   "cell_type": "code",
   "execution_count": 10,
   "id": "d8253bd2",
   "metadata": {},
   "outputs": [
    {
     "data": {
      "text/plain": [
       "'Hello python progrmming !'"
      ]
     },
     "execution_count": 10,
     "metadata": {},
     "output_type": "execute_result"
    }
   ],
   "source": [
    "# empty list for sentence\n",
    "sentence = []\n",
    "\n",
    "# append words\n",
    "sentence.append('hello')\n",
    "sentence.append('python')\n",
    "sentence.append('progrmming')\n",
    "sentence.append('!')\n",
    "\n",
    "# joining all to make sentence\n",
    "rebuilt_sentence = ' '.join(sentence).capitalize()\n",
    "\n",
    "# print full sentence\n",
    "rebuilt_sentence"
   ]
  },
  {
   "cell_type": "markdown",
   "id": "31a566a2",
   "metadata": {},
   "source": [
    "## 7. Custom Extend Simulation\n",
    "\n",
    "Challenge: Without using the built-in extend(), write a loop to extend list A using list B."
   ]
  },
  {
   "cell_type": "code",
   "execution_count": 11,
   "id": "ff2106b2",
   "metadata": {},
   "outputs": [
    {
     "name": "stdout",
     "output_type": "stream",
     "text": [
      "List 1 extended: ['A', 'B', 'C', 'D', 'E', 'F', 'G', 'H']\n"
     ]
    }
   ],
   "source": [
    "list1 = ['A', 'B', 'C', 'D']\n",
    "list2 = ['E', 'F', 'G', 'H']\n",
    "\n",
    "for alphabet in list2:\n",
    "    list1.append(alphabet)\n",
    "\n",
    "print(f'List 1 extended: {list1}')"
   ]
  }
 ],
 "metadata": {
  "kernelspec": {
   "display_name": "Python 3",
   "language": "python",
   "name": "python3"
  },
  "language_info": {
   "codemirror_mode": {
    "name": "ipython",
    "version": 3
   },
   "file_extension": ".py",
   "mimetype": "text/x-python",
   "name": "python",
   "nbconvert_exporter": "python",
   "pygments_lexer": "ipython3",
   "version": "3.13.1"
  }
 },
 "nbformat": 4,
 "nbformat_minor": 5
}
