{
 "cells": [
  {
   "cell_type": "markdown",
   "id": "5136e7dc",
   "metadata": {},
   "source": [
    "# Access List Items"
   ]
  },
  {
   "cell_type": "code",
   "execution_count": 23,
   "id": "e2f71fa3",
   "metadata": {},
   "outputs": [],
   "source": [
    "garden_items = ['Gardening Gloves', 'Pruning Shears', 'Watering Can', 'Hand Trowel', 'Garden Hose', 'Wheelbarrow', 'Potting Soil', 'Plant Pots', 'Garden Rake', 'Mulch']"
   ]
  },
  {
   "cell_type": "markdown",
   "id": "a6275a71",
   "metadata": {},
   "source": [
    "## Access Items With Index"
   ]
  },
  {
   "cell_type": "code",
   "execution_count": 24,
   "id": "6023ef45",
   "metadata": {},
   "outputs": [
    {
     "name": "stdout",
     "output_type": "stream",
     "text": [
      "Potting Soil\n",
      "Hand Trowel\n",
      "Garden Rake\n"
     ]
    }
   ],
   "source": [
    "print(garden_items[6])\n",
    "print(garden_items[3])\n",
    "print(garden_items[8])"
   ]
  },
  {
   "cell_type": "markdown",
   "id": "ec84e61e",
   "metadata": {},
   "source": [
    "## Access Items With Negative Index"
   ]
  },
  {
   "cell_type": "code",
   "execution_count": 25,
   "id": "08adb008",
   "metadata": {},
   "outputs": [
    {
     "name": "stdout",
     "output_type": "stream",
     "text": [
      "Mulch\n",
      "Garden Rake\n",
      "Plant Pots\n"
     ]
    }
   ],
   "source": [
    "print(garden_items[-1])\n",
    "print(garden_items[-2])\n",
    "print(garden_items[-3])"
   ]
  },
  {
   "cell_type": "markdown",
   "id": "116ef4db",
   "metadata": {},
   "source": [
    "## Access Items With Slice Operator (Range)"
   ]
  },
  {
   "cell_type": "code",
   "execution_count": 26,
   "id": "4407fe4f",
   "metadata": {},
   "outputs": [
    {
     "name": "stdout",
     "output_type": "stream",
     "text": [
      "1:4 => ['Pruning Shears', 'Watering Can', 'Hand Trowel']\n",
      "3:7 => ['Hand Trowel', 'Garden Hose', 'Wheelbarrow', 'Potting Soil']\n",
      "3: => ['Hand Trowel', 'Garden Hose', 'Wheelbarrow', 'Potting Soil', 'Plant Pots', 'Garden Rake', 'Mulch']\n",
      ":7 => ['Gardening Gloves', 'Pruning Shears', 'Watering Can', 'Hand Trowel', 'Garden Hose', 'Wheelbarrow', 'Potting Soil']\n",
      "-4:-1 => ['Potting Soil', 'Plant Pots', 'Garden Rake']\n",
      ":-4 => ['Gardening Gloves', 'Pruning Shears', 'Watering Can', 'Hand Trowel', 'Garden Hose', 'Wheelbarrow']\n",
      "-4: => ['Potting Soil', 'Plant Pots', 'Garden Rake', 'Mulch']\n"
     ]
    }
   ],
   "source": [
    "# [start:stop] range\n",
    "print('1:4 =>', garden_items[1:4])\n",
    "print('3:7 =>', garden_items[3:7])\n",
    "print('3: =>', garden_items[3:])\n",
    "print(':7 =>', garden_items[:7])\n",
    "print('-4:-1 =>', garden_items[-4:-1])\n",
    "print(':-4 =>', garden_items[:-4])\n",
    "print('-4: =>', garden_items[-4:])"
   ]
  },
  {
   "cell_type": "code",
   "execution_count": 27,
   "id": "e101bd04",
   "metadata": {},
   "outputs": [
    {
     "name": "stdout",
     "output_type": "stream",
     "text": [
      "['Watering Can', 'Garden Hose', 'Potting Soil', 'Garden Rake']\n",
      "['Pruning Shears', 'Garden Hose', 'Plant Pots']\n"
     ]
    }
   ],
   "source": [
    "# [start:stop:step] range\n",
    "print(garden_items[2:9:2]) # start from index 2, uptill index 9, skip 1 item\n",
    "print(garden_items[1:9:3]) # start from index 1, uptill index 9, skip 2 items"
   ]
  },
  {
   "cell_type": "markdown",
   "id": "6eedfc2c",
   "metadata": {},
   "source": [
    "## Use Range To Perform Operations"
   ]
  },
  {
   "cell_type": "markdown",
   "id": "11972f34",
   "metadata": {},
   "source": [
    "### Reverse List"
   ]
  },
  {
   "cell_type": "code",
   "execution_count": 28,
   "id": "a823226f",
   "metadata": {},
   "outputs": [
    {
     "name": "stdout",
     "output_type": "stream",
     "text": [
      "['Mulch', 'Garden Rake', 'Plant Pots', 'Potting Soil', 'Wheelbarrow', 'Garden Hose', 'Hand Trowel', 'Watering Can', 'Pruning Shears', 'Gardening Gloves']\n"
     ]
    }
   ],
   "source": [
    "print(garden_items[::-1])"
   ]
  },
  {
   "cell_type": "code",
   "execution_count": 29,
   "id": "5d71b63c",
   "metadata": {},
   "outputs": [
    {
     "name": "stdout",
     "output_type": "stream",
     "text": [
      "['Mulch', 'Plant Pots', 'Wheelbarrow', 'Hand Trowel', 'Pruning Shears']\n",
      "['Mulch', 'Potting Soil', 'Hand Trowel', 'Gardening Gloves']\n"
     ]
    }
   ],
   "source": [
    "# reverse skipping items\n",
    "print(garden_items[::-2])\n",
    "print(garden_items[::-3])"
   ]
  },
  {
   "cell_type": "markdown",
   "id": "751a7494",
   "metadata": {},
   "source": [
    "### Get Every nth Item"
   ]
  },
  {
   "cell_type": "markdown",
   "id": "ae614734",
   "metadata": {},
   "source": [
    "Useful in data sampling, down-sampling, or skipping elements."
   ]
  },
  {
   "cell_type": "code",
   "execution_count": 30,
   "id": "60cd31be",
   "metadata": {},
   "outputs": [
    {
     "name": "stdout",
     "output_type": "stream",
     "text": [
      "['Gardening Gloves', 'Watering Can', 'Garden Hose', 'Potting Soil', 'Garden Rake']\n",
      "['Gardening Gloves', 'Hand Trowel', 'Potting Soil', 'Mulch']\n"
     ]
    }
   ],
   "source": [
    "print(garden_items[::2]) # every second item, skips 1 item\n",
    "print(garden_items[::3]) # every third item, skips 2 items"
   ]
  },
  {
   "cell_type": "markdown",
   "id": "25c8d418",
   "metadata": {},
   "source": [
    "### Copy a list"
   ]
  },
  {
   "cell_type": "markdown",
   "id": "476c2906",
   "metadata": {},
   "source": [
    "Creates a shallow copy of the list."
   ]
  },
  {
   "cell_type": "code",
   "execution_count": 31,
   "id": "b6c9273b",
   "metadata": {},
   "outputs": [
    {
     "data": {
      "text/plain": [
       "['Gardening Gloves',\n",
       " 'Pruning Shears',\n",
       " 'Watering Can',\n",
       " 'Hand Trowel',\n",
       " 'Garden Hose',\n",
       " 'Wheelbarrow',\n",
       " 'Potting Soil',\n",
       " 'Plant Pots',\n",
       " 'Garden Rake',\n",
       " 'Mulch']"
      ]
     },
     "execution_count": 31,
     "metadata": {},
     "output_type": "execute_result"
    }
   ],
   "source": [
    "new_garden_list = garden_items[:]\n",
    "new_garden_list"
   ]
  },
  {
   "cell_type": "markdown",
   "id": "5c37dee2",
   "metadata": {},
   "source": [
    "### Omitting Items From Start/End"
   ]
  },
  {
   "cell_type": "markdown",
   "id": "2c3a5ada",
   "metadata": {},
   "source": [
    "Useful for trimming edge values or headers/footers in data."
   ]
  },
  {
   "cell_type": "code",
   "execution_count": 32,
   "id": "90d14cd4",
   "metadata": {},
   "outputs": [
    {
     "data": {
      "text/plain": [
       "['Pruning Shears',\n",
       " 'Watering Can',\n",
       " 'Hand Trowel',\n",
       " 'Garden Hose',\n",
       " 'Wheelbarrow',\n",
       " 'Potting Soil',\n",
       " 'Plant Pots',\n",
       " 'Garden Rake']"
      ]
     },
     "execution_count": 32,
     "metadata": {},
     "output_type": "execute_result"
    }
   ],
   "source": [
    "garden_items[1:-1]"
   ]
  },
  {
   "cell_type": "markdown",
   "id": "0fb2d09a",
   "metadata": {},
   "source": [
    "### Split in Halves or Thirds"
   ]
  },
  {
   "cell_type": "code",
   "execution_count": 33,
   "id": "3e8c3e81",
   "metadata": {},
   "outputs": [
    {
     "name": "stdout",
     "output_type": "stream",
     "text": [
      "['Gardening Gloves', 'Pruning Shears', 'Watering Can', 'Hand Trowel', 'Garden Hose']\n",
      "['Wheelbarrow', 'Potting Soil', 'Plant Pots', 'Garden Rake', 'Mulch']\n"
     ]
    }
   ],
   "source": [
    "mid = len(garden_items)//2\n",
    "\n",
    "first_half = garden_items[:mid]\n",
    "second_half = garden_items[mid:]\n",
    "\n",
    "print(first_half)\n",
    "print(second_half)"
   ]
  },
  {
   "cell_type": "markdown",
   "id": "819bd56d",
   "metadata": {},
   "source": [
    "### Conditional Filtering with Slicing"
   ]
  },
  {
   "cell_type": "code",
   "execution_count": 43,
   "id": "c3dba2ee",
   "metadata": {},
   "outputs": [
    {
     "data": {
      "text/plain": [
       "['Gardening Gloves', 'Garden Hose', 'Garden Rake']"
      ]
     },
     "execution_count": 43,
     "metadata": {},
     "output_type": "execute_result"
    }
   ],
   "source": [
    "another_garden_list = [item for item in garden_items[::2] if item[0]=='G']\n",
    "another_garden_list"
   ]
  },
  {
   "cell_type": "code",
   "execution_count": 44,
   "id": "2cbfe911",
   "metadata": {},
   "outputs": [
    {
     "data": {
      "text/plain": [
       "['Gardening Gloves', 'Garden Hose', 'Garden Rake']"
      ]
     },
     "execution_count": 44,
     "metadata": {},
     "output_type": "execute_result"
    }
   ],
   "source": [
    "another_garden_list = [item for item in garden_items[::2] if isinstance(item, str) and item[0] == 'G']\n",
    "another_garden_list"
   ]
  }
 ],
 "metadata": {
  "kernelspec": {
   "display_name": "Python 3",
   "language": "python",
   "name": "python3"
  },
  "language_info": {
   "codemirror_mode": {
    "name": "ipython",
    "version": 3
   },
   "file_extension": ".py",
   "mimetype": "text/x-python",
   "name": "python",
   "nbconvert_exporter": "python",
   "pygments_lexer": "ipython3",
   "version": "3.13.1"
  }
 },
 "nbformat": 4,
 "nbformat_minor": 5
}
