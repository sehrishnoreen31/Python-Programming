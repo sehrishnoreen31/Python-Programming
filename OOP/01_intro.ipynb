{
 "cells": [
  {
   "cell_type": "markdown",
   "id": "5078cadc",
   "metadata": {},
   "source": [
    "# OOP"
   ]
  },
  {
   "cell_type": "code",
   "execution_count": 3,
   "id": "436d654a",
   "metadata": {},
   "outputs": [
    {
     "name": "stdout",
     "output_type": "stream",
     "text": [
      "Persian\n",
      "Black\n",
      "Cat Speed: Persian\n",
      "Cat Color: Black\n"
     ]
    }
   ],
   "source": [
    "class Cat:\n",
    "    def __init__(self, breed, color):\n",
    "        self.breed = breed \n",
    "        self.color = color\n",
    "\n",
    "    def display(self):\n",
    "        return f'Cat Speed: {self.breed}\\nCat Color: {self.color}'\n",
    "    \n",
    "bella = Cat('Persian', 'Black')\n",
    "\n",
    "print(bella.breed)\n",
    "print(bella.color)\n",
    "print(bella.display())"
   ]
  }
 ],
 "metadata": {
  "kernelspec": {
   "display_name": "Python 3",
   "language": "python",
   "name": "python3"
  },
  "language_info": {
   "codemirror_mode": {
    "name": "ipython",
    "version": 3
   },
   "file_extension": ".py",
   "mimetype": "text/x-python",
   "name": "python",
   "nbconvert_exporter": "python",
   "pygments_lexer": "ipython3",
   "version": "3.13.1"
  }
 },
 "nbformat": 4,
 "nbformat_minor": 5
}
