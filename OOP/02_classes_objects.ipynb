{
 "cells": [
  {
   "cell_type": "markdown",
   "id": "6be1f4f0",
   "metadata": {},
   "source": [
    "# Classes and Objects"
   ]
  },
  {
   "cell_type": "code",
   "execution_count": 18,
   "id": "426384fc",
   "metadata": {},
   "outputs": [
    {
     "name": "stdout",
     "output_type": "stream",
     "text": [
      "Maria\n",
      "45000\n",
      "Total employees: 4\n"
     ]
    }
   ],
   "source": [
    "class Employee:\n",
    "    emp_count = 0\n",
    "    def __init__(self, name, salary):\n",
    "        self.name = name\n",
    "        self.salary = salary\n",
    "        Employee.emp_count += 1\n",
    "\n",
    "    def display_count(self):\n",
    "        return f'Total Employees: {Employee.emp_count}'\n",
    "    \n",
    "    def display_info(self):\n",
    "        return f'Employee Name: {self.name}, Employee Salary: {self.salary}'\n",
    "    \n",
    "# objects\n",
    "E1 = Employee('Maria', 45000)\n",
    "E2 = Employee('Ali', 40000)\n",
    "E3 = Employee('Ayesha', 380000)\n",
    "E4 = Employee('Ahmed', 56000)\n",
    "\n",
    "print(E1.name)\n",
    "print(E1.salary)\n",
    "\n",
    "# total employees\n",
    "print(f'Total employees: {Employee.emp_count}')"
   ]
  },
  {
   "cell_type": "code",
   "execution_count": 19,
   "id": "0a2f9dfc",
   "metadata": {},
   "outputs": [
    {
     "name": "stdout",
     "output_type": "stream",
     "text": [
      "Maria 45000\n",
      "Ali 40000\n",
      "Ayesha 380000\n",
      "Ahmed 56000\n",
      "Total Employees: 4\n"
     ]
    }
   ],
   "source": [
    "class Employee:\n",
    "    emp_count = 0\n",
    "    def __init__(self, name, salary):\n",
    "        self.name = name\n",
    "        self.salary = salary\n",
    "        Employee.emp_count += 1\n",
    "\n",
    "    def display_count(self):\n",
    "        return f'Total Employees: {Employee.emp_count}'\n",
    "    \n",
    "    def display_info(self):\n",
    "        return f'Employee Name: {self.name}, Employee Salary: {self.salary}'\n",
    "    \n",
    "employees = dict(\n",
    "E1 = Employee('Maria', 45000),\n",
    "E2 = Employee('Ali', 40000),\n",
    "E3 = Employee('Ayesha', 380000),\n",
    "E4 = Employee('Ahmed', 56000)\n",
    ")\n",
    "\n",
    "for employee in employees.values():\n",
    "    print(employee.name, employee.salary)  \n",
    "\n",
    "# total employees\n",
    "print(employee.display_count())"
   ]
  }
 ],
 "metadata": {
  "kernelspec": {
   "display_name": "Python 3",
   "language": "python",
   "name": "python3"
  },
  "language_info": {
   "codemirror_mode": {
    "name": "ipython",
    "version": 3
   },
   "file_extension": ".py",
   "mimetype": "text/x-python",
   "name": "python",
   "nbconvert_exporter": "python",
   "pygments_lexer": "ipython3",
   "version": "3.13.1"
  }
 },
 "nbformat": 4,
 "nbformat_minor": 5
}
