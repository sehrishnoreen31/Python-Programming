{
 "cells": [
  {
   "cell_type": "markdown",
   "id": "6b101f50",
   "metadata": {},
   "source": [
    "## Assignment 1: Employee Management System\n",
    "\n",
    "Concepts Used: Classes, Objects, Instance Attributes, Class Attributes\n",
    "\n",
    "### Task:\n",
    "\n",
    "Create an Employee class with:\n",
    "\n",
    "- Instance attributes: name, employee_id, salary\n",
    "- Class attribute: total_employees (tracks total employees)\n",
    "- Method: display_info() (prints employee details)\n",
    "- Add a class method get_total_employees() to return the total count.\n",
    "- Create 3 employees and test the methods."
   ]
  },
  {
   "cell_type": "code",
   "execution_count": null,
   "id": "3689d447",
   "metadata": {},
   "outputs": [
    {
     "name": "stdout",
     "output_type": "stream",
     "text": [
      "(1, 'Ali', 90000)\n",
      "(2, 'Maria', 80000)\n",
      "(3, 'Ayesha', 75000)\n",
      "(4, 'Huma', 100000)\n",
      "(5, 'Ahmed', 50000)\n",
      "Total: employees: 5\n"
     ]
    }
   ],
   "source": [
    "class Employee():\n",
    "    # track total employees\n",
    "    total_employees = 0\n",
    "\n",
    "    # instance attributes\n",
    "    def __init__(self, id, name, salary):\n",
    "        self.id = id\n",
    "        self.name = name\n",
    "        self.salary = salary\n",
    "        Employee.total_employees += 1\n",
    "    \n",
    "    # display info\n",
    "    def display_info(self):\n",
    "        return self.id, self.name, self.salary\n",
    "    \n",
    "    # class method to get total employees\n",
    "    @classmethod\n",
    "    def get_total_employees(cls):\n",
    "        return Employee.total_employees\n",
    "    \n",
    "# objects\n",
    "e1 = Employee(1, 'Ali', 90000)\n",
    "e2 = Employee(2, 'Maria', 80000)\n",
    "e3 = Employee(3, 'Ayesha', 75000)\n",
    "e4 = Employee(4, 'Huma', 100000)\n",
    "e5 = Employee(5, 'Ahmed', 50000)\n",
    "\n",
    "# print info\n",
    "print(e1.display_info())\n",
    "print(e2.display_info())\n",
    "print(e3.display_info())\n",
    "print(e4.display_info())\n",
    "print(e5.display_info())\n",
    "\n",
    "# total employees\n",
    "print(f'Total: employees: {Employee.get_total_employees()}')"
   ]
  },
  {
   "cell_type": "markdown",
   "id": "9684a0a6",
   "metadata": {},
   "source": [
    "### Bonus:\n",
    "Store employees in a dictionary ({employee_id: employee_object}) and add a method to print all employees."
   ]
  },
  {
   "cell_type": "code",
   "execution_count": 19,
   "id": "c2786735",
   "metadata": {},
   "outputs": [
    {
     "name": "stdout",
     "output_type": "stream",
     "text": [
      "(1, 'Ali', 90000)\n",
      "(2, 'Maria', 80000)\n",
      "(3, 'Ayesha', 75000)\n",
      "(4, 'Huma', 100000)\n",
      "Total: employees: 5\n"
     ]
    },
    {
     "data": {
      "text/plain": [
       "{1: {'name': 'Ali', 'salary': 90000},\n",
       " 2: {'name': 'Maria', 'salary': 80000},\n",
       " 3: {'name': 'Ayesha', 'salary': 75000},\n",
       " 4: {'name': 'Huma', 'salary': 100000},\n",
       " 5: {'name': 'Ahmed', 'salary': 50000}}"
      ]
     },
     "execution_count": 19,
     "metadata": {},
     "output_type": "execute_result"
    }
   ],
   "source": [
    "class Employee():\n",
    "    # track total employees\n",
    "    total_employees = 0\n",
    "    employees_dict = {}\n",
    "\n",
    "    # instance attributes\n",
    "    def __init__(self, id, name, salary):\n",
    "        self.id = id\n",
    "        self.name = name\n",
    "        self.salary = salary\n",
    "        Employee.total_employees += 1\n",
    "\n",
    "        # add employee data to dictionary\n",
    "        Employee.employees_dict[self.id] = {'name': self.name, 'salary': self.salary}\n",
    "        \n",
    "    # display info\n",
    "    def display_info(self):\n",
    "        return (self.id, self.name, self.salary)\n",
    "    \n",
    "    # class method to get total employees\n",
    "    @classmethod\n",
    "    def get_total_employees(cls):\n",
    "        return Employee.total_employees\n",
    "    \n",
    "# objects\n",
    "e1 = Employee(1, 'Ali', 90000)\n",
    "e2 = Employee(2, 'Maria', 80000)\n",
    "e3 = Employee(3, 'Ayesha', 75000)\n",
    "e4 = Employee(4, 'Huma', 100000)\n",
    "e5 = Employee(5, 'Ahmed', 50000)\n",
    "\n",
    "# employees dictionary\n",
    "employees_dict = {}\n",
    "\n",
    "# print info\n",
    "print(e1.display_info())\n",
    "print(e2.display_info())\n",
    "print(e3.display_info())\n",
    "print(e4.display_info())\n",
    "\n",
    "# total employees\n",
    "print(f'Total: employees: {Employee.get_total_employees()}')\n",
    "\n",
    "# all employees' data\n",
    "Employee.employees_dict"
   ]
  },
  {
   "cell_type": "markdown",
   "id": "62782113",
   "metadata": {},
   "source": [
    "## Assignment 2: Bank Account Simulator\n",
    "\n",
    "Concepts Used: Instance Methods, Class Methods, Static Methods\n",
    "\n",
    "### Task:\n",
    "\n",
    "Create a BankAccount class with:\n",
    "\n",
    "- Instance attributes: account_number, balance, owner_name\n",
    "- Methods: deposit(amount), withdraw(amount) (update balance), display_balance()\n",
    "- Class attribute: total_accounts (tracks all accounts)\n",
    "- Add a class method get_total_accounts() to return the total accounts.\n",
    "- Add a static method validate_amount(amount) to check if amount is positive."
   ]
  },
  {
   "cell_type": "markdown",
   "id": "fb291d9f",
   "metadata": {},
   "source": [
    "## Assignment 3: Library Book Tracker\n",
    "Concepts Used: Class/Instance Attributes, Static Methods\n",
    "### Task:\n",
    "\n",
    "Create a Book class with:\n",
    "\n",
    "- Instance attributes: title, author, is_borrowed (default False)\n",
    "- Class attribute: total_books (tracks all books)\n",
    "- Add methods: borrow() (sets is_borrowed = True), return_book() (sets is_borrowed = False)\n",
    "- Add a static method is_valid_book(title, author) to validate inputs (non-empty strings)."
   ]
  },
  {
   "cell_type": "markdown",
   "id": "df9ef7de",
   "metadata": {},
   "source": [
    "## Assignment 4: Animal Zoo System\n",
    "Concepts Used: Class Methods, Inheritance (Bonus)\n",
    "### Task:\n",
    "\n",
    "Create an Animal class with:\n",
    "\n",
    "- Class attribute: zoo_animals (list to store all animals)\n",
    "- Instance attributes: name, species\n",
    "- Class method: add_animal(cls, name, species) (creates and adds to zoo_animals)\n",
    "- Static method: is_domestic(species) (returns True if species is \"Dog\", \"Cat\", etc.)\n",
    "- Test by adding 3 animals and checking if they are domestic.\n",
    "\n",
    "### Bonus:\n",
    "\n",
    "Subclass Bird with attribute can_fly."
   ]
  },
  {
   "cell_type": "markdown",
   "id": "1250d093",
   "metadata": {},
   "source": [
    "## Assignment 5: Shopping Cart with Discounts\n",
    "Concepts Used: Static Methods, Class Attributes\n",
    "### Task:\n",
    "\n",
    "Create a ShoppingCart class with:\n",
    "\n",
    "- Class attribute: discount = 0.1 (10% discount)\n",
    "- Instance attributes: items (dictionary of {item: price})\n",
    "- Methods: add_item(item, price), calculate_total() (applies discount if total > 100)\n",
    "- Static method: validate_price(price) (checks if price is numeric).\n",
    "- Test with 5 items and print the discounted total.\n"
   ]
  },
  {
   "cell_type": "markdown",
   "id": "c8ebe08f",
   "metadata": {},
   "source": [
    "## Assignment 6: Student Gradebook\n",
    "Concepts Used: Class/Instance Attributes, Class Methods\n",
    "### Task:\n",
    "\n",
    "Create a Student class with:\n",
    "\n",
    "- Instance attributes: name, grades (list of scores)\n",
    "- Class attribute: all_students (list of all students)\n",
    "- Method: average_grade()\n",
    "- Class method: get_class_average() (returns average of all students)\n",
    "- Add 3 students and test the methods."
   ]
  }
 ],
 "metadata": {
  "kernelspec": {
   "display_name": "Python 3",
   "language": "python",
   "name": "python3"
  },
  "language_info": {
   "codemirror_mode": {
    "name": "ipython",
    "version": 3
   },
   "file_extension": ".py",
   "mimetype": "text/x-python",
   "name": "python",
   "nbconvert_exporter": "python",
   "pygments_lexer": "ipython3",
   "version": "3.13.1"
  }
 },
 "nbformat": 4,
 "nbformat_minor": 5
}
