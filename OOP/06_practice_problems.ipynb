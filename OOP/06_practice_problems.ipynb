{
 "cells": [
  {
   "cell_type": "markdown",
   "id": "6b101f50",
   "metadata": {},
   "source": [
    "## Assignment 1: Employee Management System\n",
    "\n",
    "Concepts Used: Classes, Objects, Instance Attributes, Class Attributes\n",
    "\n",
    "### Task:\n",
    "\n",
    "Create an Employee class with:\n",
    "\n",
    "- Instance attributes: name, employee_id, salary\n",
    "- Class attribute: total_employees (tracks total employees)\n",
    "- Method: display_info() (prints employee details)\n",
    "- Add a class method get_total_employees() to return the total count.\n",
    "- Create 3 employees and test the methods."
   ]
  },
  {
   "cell_type": "code",
   "execution_count": null,
   "id": "3689d447",
   "metadata": {},
   "outputs": [
    {
     "name": "stdout",
     "output_type": "stream",
     "text": [
      "(1, 'Ali', 90000)\n",
      "(2, 'Maria', 80000)\n",
      "(3, 'Ayesha', 75000)\n",
      "(4, 'Huma', 100000)\n",
      "(5, 'Ahmed', 50000)\n",
      "Total: employees: 5\n"
     ]
    }
   ],
   "source": [
    "class Employee():\n",
    "    # track total employees\n",
    "    total_employees = 0\n",
    "\n",
    "    # instance attributes\n",
    "    def __init__(self, id, name, salary):\n",
    "        self.id = id\n",
    "        self.name = name\n",
    "        self.salary = salary\n",
    "        Employee.total_employees += 1\n",
    "    \n",
    "    # display info\n",
    "    def display_info(self):\n",
    "        return self.id, self.name, self.salary\n",
    "    \n",
    "    # class method to get total employees\n",
    "    @classmethod\n",
    "    def get_total_employees(cls):\n",
    "        return Employee.total_employees\n",
    "    \n",
    "# objects\n",
    "e1 = Employee(1, 'Ali', 90000)\n",
    "e2 = Employee(2, 'Maria', 80000)\n",
    "e3 = Employee(3, 'Ayesha', 75000)\n",
    "e4 = Employee(4, 'Huma', 100000)\n",
    "e5 = Employee(5, 'Ahmed', 50000)\n",
    "\n",
    "# print info\n",
    "print(e1.display_info())\n",
    "print(e2.display_info())\n",
    "print(e3.display_info())\n",
    "print(e4.display_info())\n",
    "print(e5.display_info())\n",
    "\n",
    "# total employees\n",
    "print(f'Total: employees: {Employee.get_total_employees()}')"
   ]
  },
  {
   "cell_type": "markdown",
   "id": "9684a0a6",
   "metadata": {},
   "source": [
    "### Bonus:\n",
    "Store employees in a dictionary ({employee_id: employee_object}) and add a method to print all employees."
   ]
  },
  {
   "cell_type": "code",
   "execution_count": 14,
   "id": "c2786735",
   "metadata": {},
   "outputs": [
    {
     "name": "stdout",
     "output_type": "stream",
     "text": [
      "(1, 'Ali', 90000)\n",
      "(2, 'Maria', 80000)\n",
      "(3, 'Ayesha', 75000)\n",
      "(4, 'Huma', 100000)\n",
      "Total: employees: 5\n"
     ]
    },
    {
     "data": {
      "text/plain": [
       "{1: {'name': 'Ali', 'salary': 90000},\n",
       " 2: {'name': 'Maria', 'salary': 80000},\n",
       " 3: {'name': 'Ayesha', 'salary': 75000},\n",
       " 4: {'name': 'Huma', 'salary': 100000},\n",
       " 5: {'name': 'Ahmed', 'salary': 50000}}"
      ]
     },
     "execution_count": 14,
     "metadata": {},
     "output_type": "execute_result"
    }
   ],
   "source": [
    "class Employee():\n",
    "    # track total employees\n",
    "    total_employees = 0\n",
    "    employees_dict = {}\n",
    "\n",
    "    # instance attributes\n",
    "    def __init__(self, id, name, salary):\n",
    "        self.id = id\n",
    "        self.name = name\n",
    "        self.salary = salary\n",
    "        Employee.total_employees += 1\n",
    "\n",
    "        # add employee data to dictionary\n",
    "        Employee.employees_dict[self.id] = {'name': self.name, 'salary': self.salary}\n",
    "        \n",
    "    # display info\n",
    "    def display_info(self):\n",
    "        return (self.id, self.name, self.salary)\n",
    "    \n",
    "    # class method to get total employees\n",
    "    @classmethod\n",
    "    def get_total_employees(cls):\n",
    "        return Employee.total_employees\n",
    "    \n",
    "# objects\n",
    "e1 = Employee(1, 'Ali', 90000)\n",
    "e2 = Employee(2, 'Maria', 80000)\n",
    "e3 = Employee(3, 'Ayesha', 75000)\n",
    "e4 = Employee(4, 'Huma', 100000)\n",
    "e5 = Employee(5, 'Ahmed', 50000)\n",
    "\n",
    "# employees dictionary\n",
    "employees_dict = {}\n",
    "\n",
    "# print info\n",
    "print(e1.display_info())\n",
    "print(e2.display_info())\n",
    "print(e3.display_info())\n",
    "print(e4.display_info())\n",
    "\n",
    "# total employees\n",
    "print(f'Total: employees: {Employee.get_total_employees()}')\n",
    "\n",
    "# all employees' data\n",
    "Employee.employees_dict"
   ]
  }
 ],
 "metadata": {
  "kernelspec": {
   "display_name": "Python 3",
   "language": "python",
   "name": "python3"
  },
  "language_info": {
   "codemirror_mode": {
    "name": "ipython",
    "version": 3
   },
   "file_extension": ".py",
   "mimetype": "text/x-python",
   "name": "python",
   "nbconvert_exporter": "python",
   "pygments_lexer": "ipython3",
   "version": "3.13.1"
  }
 },
 "nbformat": 4,
 "nbformat_minor": 5
}
