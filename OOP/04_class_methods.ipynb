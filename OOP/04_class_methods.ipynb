{
 "cells": [
  {
   "cell_type": "markdown",
   "id": "7c439df9",
   "metadata": {},
   "source": [
    "# Class Methods"
   ]
  },
  {
   "cell_type": "markdown",
   "id": "d3a0a402",
   "metadata": {},
   "source": [
    "### classmethod(method)"
   ]
  },
  {
   "cell_type": "markdown",
   "id": "f7f4db09",
   "metadata": {},
   "source": [
    "A Python class method is a method that is bound to the class and not to the instance of the class. \n",
    "\n",
    "It can be called on the class itself, rather than on an instance of the class."
   ]
  },
  {
   "cell_type": "code",
   "execution_count": 1,
   "id": "b0d97340",
   "metadata": {},
   "outputs": [
    {
     "name": "stdout",
     "output_type": "stream",
     "text": [
      "Instance method call:  3\n",
      "Instance method call:  ('Rose', 'Rosa spp')\n",
      "Instance method call:  ('RoSun Flower', 'Helianthus annuus')\n",
      "Instance method call:  ('Fern', 'NephrAloe barbadensis miller')\n",
      "Class method call:  3\n",
      "Instance attributes:  Rose Rosa spp\n",
      "Class attributes:  3\n"
     ]
    }
   ],
   "source": [
    "class Plant():\n",
    "    plant_count = 0\n",
    "\n",
    "    def __init__(self, name, scientific_name):\n",
    "        self.name = name\n",
    "        self.scientific_name = scientific_name\n",
    "\n",
    "        Plant.plant_count += 1\n",
    "    \n",
    "    def display(self):\n",
    "        return self.name, self.scientific_name\n",
    "\n",
    "    def display_count(self):\n",
    "        return Plant.plant_count\n",
    "    \n",
    "    counter = classmethod(display_count)\n",
    "\n",
    "# objects\n",
    "plant1 = Plant('Rose', 'Rosa spp')\n",
    "plant2 = Plant('RoSun Flower', 'Helianthus annuus')\n",
    "plant3 = Plant('Fern', 'NephrAloe barbadensis miller')\n",
    "\n",
    "# instance method call\n",
    "print('Instance method call: ', plant1.display_count())\n",
    "print('Instance method call: ', plant1.display())\n",
    "print('Instance method call: ', plant2.display())\n",
    "print('Instance method call: ', plant3.display())\n",
    "\n",
    "# class method call\n",
    "print('Class method call: ', Plant.counter())\n",
    "\n",
    "# instance attributes access\n",
    "print('Instance attributes: ', plant1.name, plant1.scientific_name)\n",
    "\n",
    "# class attribute access\n",
    "print('Class attributes: ', Plant.plant_count)"
   ]
  },
  {
   "cell_type": "markdown",
   "id": "f9983549",
   "metadata": {},
   "source": [
    "## @classmethod Decorator"
   ]
  },
  {
   "cell_type": "code",
   "execution_count": 4,
   "id": "5ca07cb5",
   "metadata": {},
   "outputs": [
    {
     "name": "stdout",
     "output_type": "stream",
     "text": [
      "Cat 4\n",
      "Dog 5\n",
      "2\n"
     ]
    }
   ],
   "source": [
    "class Animal():\n",
    "    animal_count= 0\n",
    "    def __init__(self, name, age):\n",
    "        self.name = name\n",
    "        self.age  = age\n",
    "        Animal.animal_count += 1\n",
    "\n",
    "    @classmethod\n",
    "    def new_animal(cls,name, age):\n",
    "        return cls(name, age)\n",
    "    \n",
    "# objects\n",
    "a1 = Animal('Cat', 4)\n",
    "a2 = Animal.new_animal('Dog', 5)\n",
    "\n",
    "# print object info\n",
    "print(a1.name, a1.age)\n",
    "print(a2.name, a2.age)\n",
    "\n",
    "# print total animals\n",
    "print(Animal.animal_count)"
   ]
  }
 ],
 "metadata": {
  "kernelspec": {
   "display_name": "Python 3",
   "language": "python",
   "name": "python3"
  },
  "language_info": {
   "codemirror_mode": {
    "name": "ipython",
    "version": 3
   },
   "file_extension": ".py",
   "mimetype": "text/x-python",
   "name": "python",
   "nbconvert_exporter": "python",
   "pygments_lexer": "ipython3",
   "version": "3.13.1"
  }
 },
 "nbformat": 4,
 "nbformat_minor": 5
}
