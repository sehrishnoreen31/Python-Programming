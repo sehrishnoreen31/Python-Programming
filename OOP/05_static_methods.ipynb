{
 "cells": [
  {
   "cell_type": "markdown",
   "id": "8435609d",
   "metadata": {},
   "source": [
    "# Static Methods"
   ]
  },
  {
   "cell_type": "markdown",
   "id": "cfc43859",
   "metadata": {},
   "source": [
    "In Python, a static method is a type of method that does not require any instance to be called. It is very similar to the class method but the difference is that the static method doesn't have a mandatory argument like reference to the object − self or reference to the class − cls."
   ]
  },
  {
   "cell_type": "code",
   "execution_count": null,
   "id": "a72f46e9",
   "metadata": {},
   "outputs": [
    {
     "name": "stdout",
     "output_type": "stream",
     "text": [
      "Number of plants: 3\n",
      "Number of plants: 3\n"
     ]
    }
   ],
   "source": [
    "class Plant():\n",
    "    plant_count = 0\n",
    "\n",
    "    def __init__(self, name):\n",
    "        self.name = name\n",
    "        Plant.plant_count += 1\n",
    "\n",
    "    def show_count():\n",
    "        return f'Number of plants: {Plant.plant_count}'\n",
    "    # static method\n",
    "    counter = staticmethod(show_count)\n",
    "\n",
    "p1 = Plant('Rose')\n",
    "p2 = Plant('Fern')\n",
    "p3 = Plant('Mint')\n",
    "\n",
    "print(p1.counter())\n",
    "print(Plant.counter())"
   ]
  },
  {
   "cell_type": "markdown",
   "id": "d4bbe5c1",
   "metadata": {},
   "source": [
    "## @staticmethod Decorator"
   ]
  },
  {
   "cell_type": "code",
   "execution_count": 8,
   "id": "758a869c",
   "metadata": {},
   "outputs": [
    {
     "name": "stdout",
     "output_type": "stream",
     "text": [
      "Number of plants: 3\n",
      "Number of plants: 3\n"
     ]
    }
   ],
   "source": [
    "class Plant():\n",
    "    plant_count = 0\n",
    "\n",
    "    def __init__(self, name):\n",
    "        self.name = name\n",
    "        Plant.plant_count += 1\n",
    "\n",
    "    @staticmethod\n",
    "    def show_count():\n",
    "        return f'Number of plants: {Plant.plant_count}'\n",
    "    # static method\n",
    "\n",
    "p1 = Plant('Rose')\n",
    "p2 = Plant('Fern')\n",
    "p3 = Plant('Mint')\n",
    "\n",
    "print(p1.show_count())\n",
    "print(Plant.show_count())"
   ]
  }
 ],
 "metadata": {
  "kernelspec": {
   "display_name": "Python 3",
   "language": "python",
   "name": "python3"
  },
  "language_info": {
   "codemirror_mode": {
    "name": "ipython",
    "version": 3
   },
   "file_extension": ".py",
   "mimetype": "text/x-python",
   "name": "python",
   "nbconvert_exporter": "python",
   "pygments_lexer": "ipython3",
   "version": "3.13.1"
  }
 },
 "nbformat": 4,
 "nbformat_minor": 5
}
