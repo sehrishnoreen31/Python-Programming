{
 "cells": [
  {
   "cell_type": "markdown",
   "id": "3d4335ad",
   "metadata": {},
   "source": [
    "# Attributes"
   ]
  },
  {
   "cell_type": "markdown",
   "id": "82be625b",
   "metadata": {},
   "source": [
    "Class attributes are those variables that belong to a class and whose value is shared among all the instances of that class. A class attribute remains the same for every instance of the class."
   ]
  },
  {
   "cell_type": "code",
   "execution_count": 4,
   "id": "7cfbde0c",
   "metadata": {},
   "outputs": [
    {
     "name": "stdout",
     "output_type": "stream",
     "text": [
      "name:  Tommy\n",
      "age:  3\n"
     ]
    }
   ],
   "source": [
    "class Dog:\n",
    "    name = 'Tommy'\n",
    "    age = 3\n",
    "\n",
    "d1 = Dog()\n",
    "print('name: ', d1.name)\n",
    "print('age: ', d1.age)"
   ]
  },
  {
   "cell_type": "markdown",
   "id": "8ef517d9",
   "metadata": {},
   "source": [
    "## Modifying Class Attributes"
   ]
  },
  {
   "cell_type": "code",
   "execution_count": 14,
   "id": "bf438b08",
   "metadata": {},
   "outputs": [
    {
     "name": "stdout",
     "output_type": "stream",
     "text": [
      "('Luna', 5)\n",
      "('Milo', 4)\n",
      "('Leo', 4)\n",
      "Total of cats:  3\n"
     ]
    }
   ],
   "source": [
    "class Cat:\n",
    "    cat_count = 0\n",
    "    name = 'Kitty'\n",
    "    age = 4\n",
    "\n",
    "    def __init__(self, name, age):\n",
    "        self.__name = name\n",
    "        self.__age = age\n",
    "        Cat.cat_count += 1\n",
    "    def display (self):\n",
    "        return self.__name, self.__age\n",
    "\n",
    "# objects\n",
    "c1 = Cat('Luna', 5)\n",
    "c2 = Cat('Milo', 4)\n",
    "c3 = Cat('Leo', 4)\n",
    "\n",
    "\n",
    "# print information\n",
    "print(c1.display())\n",
    "print(c2.display())\n",
    "print(c3.display())\n",
    "print('Total of cats: ', c1.cat_count)"
   ]
  }
 ],
 "metadata": {
  "kernelspec": {
   "display_name": "Python 3",
   "language": "python",
   "name": "python3"
  },
  "language_info": {
   "codemirror_mode": {
    "name": "ipython",
    "version": 3
   },
   "file_extension": ".py",
   "mimetype": "text/x-python",
   "name": "python",
   "nbconvert_exporter": "python",
   "pygments_lexer": "ipython3",
   "version": "3.13.1"
  }
 },
 "nbformat": 4,
 "nbformat_minor": 5
}
