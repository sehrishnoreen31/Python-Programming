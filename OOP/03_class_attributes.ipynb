{
 "cells": [
  {
   "cell_type": "markdown",
   "id": "3d4335ad",
   "metadata": {},
   "source": [
    "# Attributes"
   ]
  },
  {
   "cell_type": "markdown",
   "id": "82be625b",
   "metadata": {},
   "source": [
    "Class attributes are those variables that belong to a class and whose value is shared among all the instances of that class. A class attribute remains the same for every instance of the class."
   ]
  },
  {
   "cell_type": "code",
   "execution_count": 4,
   "id": "7cfbde0c",
   "metadata": {},
   "outputs": [
    {
     "name": "stdout",
     "output_type": "stream",
     "text": [
      "name:  Tommy\n",
      "age:  3\n"
     ]
    }
   ],
   "source": [
    "class Dog:\n",
    "    name = 'Tommy'\n",
    "    age = 3\n",
    "\n",
    "d1 = Dog()\n",
    "print('name: ', d1.name)\n",
    "print('age: ', d1.age)"
   ]
  },
  {
   "cell_type": "markdown",
   "id": "8ef517d9",
   "metadata": {},
   "source": [
    "## Modifying Class Attributes"
   ]
  },
  {
   "cell_type": "code",
   "execution_count": 15,
   "id": "bf438b08",
   "metadata": {},
   "outputs": [
    {
     "name": "stdout",
     "output_type": "stream",
     "text": [
      "('Luna', 5)\n",
      "('Milo', 4)\n",
      "('Leo', 4)\n",
      "Total of cats:  3\n"
     ]
    }
   ],
   "source": [
    "class Cat:\n",
    "    cat_count = 0\n",
    "    name = 'Kitty'\n",
    "    age = 4\n",
    "\n",
    "    def __init__(self, name, age):\n",
    "        self.__name = name\n",
    "        self.__age = age\n",
    "        Cat.cat_count += 1\n",
    "        \n",
    "    def display (self):\n",
    "        return self.__name, self.__age\n",
    "\n",
    "# objects\n",
    "c1 = Cat('Luna', 5)\n",
    "c2 = Cat('Milo', 4)\n",
    "c3 = Cat('Leo', 4)\n",
    "\n",
    "\n",
    "# print information\n",
    "print(c1.display())\n",
    "print(c2.display())\n",
    "print(c3.display())\n",
    "print('Total of cats: ', Cat.cat_count)"
   ]
  },
  {
   "cell_type": "markdown",
   "id": "0e0e82b0",
   "metadata": {},
   "source": [
    "## Instance Attributes"
   ]
  },
  {
   "cell_type": "markdown",
   "id": "81629e57",
   "metadata": {},
   "source": [
    "An instance attribute in Python is a variable that is specific to an individual object of a class. \n",
    "\n",
    "\n",
    "It is defined inside the __init__() method."
   ]
  },
  {
   "cell_type": "code",
   "execution_count": 18,
   "id": "5a4bcf9b",
   "metadata": {},
   "outputs": [
    {
     "name": "stdout",
     "output_type": "stream",
     "text": [
      "('Ayesha', 1)\n",
      "('Fatima', 2)\n",
      "('Ali', 3)\n",
      "('Iqra', 4)\n",
      "('Ahmed', 5)\n",
      "Total Students: 5\n"
     ]
    }
   ],
   "source": [
    "class Student():\n",
    "    student_count = 0\n",
    "\n",
    "    def __init__(self, name, id):\n",
    "        self.name = name\n",
    "        self.id = id\n",
    "        Student.student_count += 1\n",
    "\n",
    "    def display(self):\n",
    "        return self.name, self.id\n",
    "    \n",
    "# objects\n",
    "student1 = Student('Ayesha', 1)\n",
    "student2 = Student('Fatima', 2)\n",
    "student3 = Student('Ali', 3)\n",
    "student4 = Student('Iqra', 4)\n",
    "student5 = Student('Ahmed', 5)\n",
    "\n",
    "# print info\n",
    "print(student1.display())\n",
    "print(student2.display())\n",
    "print(student3.display())\n",
    "print(student4.display())\n",
    "print(student5.display())\n",
    "\n",
    "# student count\n",
    "print(f'Total Students: {Student.student_count}')"
   ]
  }
 ],
 "metadata": {
  "kernelspec": {
   "display_name": "Python 3",
   "language": "python",
   "name": "python3"
  },
  "language_info": {
   "codemirror_mode": {
    "name": "ipython",
    "version": 3
   },
   "file_extension": ".py",
   "mimetype": "text/x-python",
   "name": "python",
   "nbconvert_exporter": "python",
   "pygments_lexer": "ipython3",
   "version": "3.13.1"
  }
 },
 "nbformat": 4,
 "nbformat_minor": 5
}
