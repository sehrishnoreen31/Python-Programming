{
 "cells": [
  {
   "cell_type": "markdown",
   "id": "4f3bf71b",
   "metadata": {},
   "source": [
    "# Access Modifiers"
   ]
  },
  {
   "cell_type": "markdown",
   "id": "3a8c14fb",
   "metadata": {},
   "source": [
    "- Public members − A class member is said to be public if it can be accessed from anywhere in the program.\n",
    "\n",
    "- Protected members − They are accessible from within the class as well as by classes derived from that class.\n",
    "\n",
    "- Private members − They can be accessed from within the class only.\n",
    "\n",
    "**Private and Protected**\n",
    "\n",
    "- To indicate that an instance variable is private, prefix it with double underscore (such as \"__age\").\n",
    "\n",
    "- To imply that a certain instance variable is protected, prefix it with single underscore (such as \"_salary\")."
   ]
  },
  {
   "cell_type": "code",
   "execution_count": null,
   "id": "beae70c8",
   "metadata": {},
   "outputs": [
    {
     "name": "stdout",
     "output_type": "stream",
     "text": [
      "Maria\n",
      "22\n"
     ]
    },
    {
     "ename": "AttributeError",
     "evalue": "'employee' object has no attribute '__salary'",
     "output_type": "error",
     "traceback": [
      "\u001b[1;31m---------------------------------------------------------------------------\u001b[0m",
      "\u001b[1;31mAttributeError\u001b[0m                            Traceback (most recent call last)",
      "Cell \u001b[1;32mIn[1], line 12\u001b[0m\n\u001b[0;32m     10\u001b[0m \u001b[38;5;28mprint\u001b[39m(e1\u001b[38;5;241m.\u001b[39mname)\n\u001b[0;32m     11\u001b[0m \u001b[38;5;28mprint\u001b[39m(e1\u001b[38;5;241m.\u001b[39m_age)\n\u001b[1;32m---> 12\u001b[0m \u001b[38;5;28mprint\u001b[39m(\u001b[43me1\u001b[49m\u001b[38;5;241;43m.\u001b[39;49m\u001b[43m__salary\u001b[49m)\n",
      "\u001b[1;31mAttributeError\u001b[0m: 'employee' object has no attribute '__salary'"
     ]
    }
   ],
   "source": [
    "class employee():\n",
    "    def __init__(self, name, age, salary):\n",
    "        self.name = name # public\n",
    "        self._age = age # protected\n",
    "        self.__salary = salary # private\n",
    "\n",
    "# objects\n",
    "e1 = employee('Maria', 22, 500000)\n",
    "\n",
    "print(e1.name)\n",
    "print(e1._age)\n",
    "print(e1.__salary) # error , private attribute"
   ]
  },
  {
   "cell_type": "markdown",
   "id": "7e45fb79",
   "metadata": {},
   "source": [
    "## Name Mangling"
   ]
  },
  {
   "cell_type": "markdown",
   "id": "ae12d9b5",
   "metadata": {},
   "source": [
    "Python doesn't block access to private data, it just leaves for the wisdom of the programmer, not to write any code that access it from outside the class. You can still access the private members by Python's name mangling technique.\n",
    "\n",
    "Name mangling is the process of changing name of a member with double underscore to the form object._class__variable. If so required, it can still be accessed from outside the class, but the practice should be refrained."
   ]
  },
  {
   "cell_type": "code",
   "execution_count": 2,
   "id": "9ed8d892",
   "metadata": {},
   "outputs": [
    {
     "data": {
      "text/plain": [
       "500000"
      ]
     },
     "execution_count": 2,
     "metadata": {},
     "output_type": "execute_result"
    }
   ],
   "source": [
    "e1._employee__salary"
   ]
  },
  {
   "cell_type": "markdown",
   "id": "d5006c2a",
   "metadata": {},
   "source": [
    "## getter and setter methods"
   ]
  },
  {
   "cell_type": "code",
   "execution_count": 8,
   "id": "54c5014f",
   "metadata": {},
   "outputs": [
    {
     "name": "stdout",
     "output_type": "stream",
     "text": [
      "Get:  Sehrish \t 23\n",
      "Set:  Ayesha \t 22\n"
     ]
    }
   ],
   "source": [
    "class Student():\n",
    "    def __init__(self, name, age):\n",
    "        self.__name = name\n",
    "        self.__age = age\n",
    "\n",
    "    def get_name(self):\n",
    "        return self.__name\n",
    "    def get_age(self):\n",
    "        return self.__age\n",
    "    def set_name(self, name):\n",
    "        self.__name = name\n",
    "        return self.__name\n",
    "    def set_age(self, age):\n",
    "        self.__age = age\n",
    "        return self.__age\n",
    "    \n",
    "# objects\n",
    "s1 = Student('Sehrish', 23)\n",
    "\n",
    "# get details\n",
    "print('Get: ', s1.get_name(), '\\t', s1.get_age())\n",
    "\n",
    "# set name and age\n",
    "s1.set_name('Ayesha')\n",
    "s1.set_age(22)\n",
    "\n",
    "# again get details\n",
    "print('Set: ', s1.get_name(), '\\t', s1.get_age())"
   ]
  }
 ],
 "metadata": {
  "kernelspec": {
   "display_name": "Python 3",
   "language": "python",
   "name": "python3"
  },
  "language_info": {
   "codemirror_mode": {
    "name": "ipython",
    "version": 3
   },
   "file_extension": ".py",
   "mimetype": "text/x-python",
   "name": "python",
   "nbconvert_exporter": "python",
   "pygments_lexer": "ipython3",
   "version": "3.13.1"
  }
 },
 "nbformat": 4,
 "nbformat_minor": 5
}
