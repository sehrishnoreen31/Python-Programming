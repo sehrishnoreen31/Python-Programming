{
 "cells": [
  {
   "cell_type": "markdown",
   "id": "6875d21c",
   "metadata": {},
   "source": [
    "# Inheritance Practice Problems"
   ]
  },
  {
   "cell_type": "markdown",
   "id": "f902465e",
   "metadata": {},
   "source": [
    "## 1. Smart Home Device Control\n",
    "\n",
    "Problem: Manage smart home devices (lights, thermostats, cameras) with shared controls (turn on/off) but device-specific features (adjust brightness for lights, set temperature for thermostats).\n",
    "\n",
    "Guidelines:\n",
    "\n",
    "- Base class: SmartDevice with methods like toggle_power().\n",
    "\n",
    "- Subclasses: SmartLight (adds set_brightness()), SmartThermostat (adds set_temperature()).\n",
    "\n",
    "Use polymorphism to iterate through devices and call common methods."
   ]
  },
  {
   "cell_type": "markdown",
   "id": "0c38fc98",
   "metadata": {},
   "source": [
    "## 2. Healthcare System with User Roles\n",
    "Problem: Model a healthcare system with roles (doctor, nurse, patient) where all users share basic info (name, contact) but have role-specific permissions (doctor can prescribe, nurse can update records).\n",
    "\n",
    "Guidelines:\n",
    "\n",
    "- Base class: User with attributes like name and login().\n",
    "\n",
    "- Subclasses: Doctor (adds prescribe_medication()), Nurse (adds update_records()).\n",
    "\n",
    "Use class-level permissions or method overriding for role-specific actions."
   ]
  },
  {
   "cell_type": "markdown",
   "id": "f6e8500a",
   "metadata": {},
   "source": [
    "## 3. Transportation Network (Ride-Sharing)\n",
    "Problem: Design a ride-sharing system with vehicle types (car, bike, scooter) that share booking logic but differ in fare calculation or capacity.\n",
    "\n",
    "Guidelines:\n",
    "\n",
    "- Base class: Vehicle with methods like book_ride().\n",
    "\n",
    "- Subclasses: Car (adds calculate_fare(distance)), Bike (adds max_speed).\n",
    "\n",
    "Override calculate_fare() for each vehicle type."
   ]
  },
  {
   "cell_type": "markdown",
   "id": "96d4c4e9",
   "metadata": {},
   "source": [
    "## 4. Social Media Post Types\n",
    "Problem: Implement a social media platform with post types (text, image, video) where all posts support likes/comments but have unique rendering logic (display image for ImagePost).\n",
    "\n",
    "Guidelines:\n",
    "\n",
    "- Base class: Post with methods like add_comment().\n",
    "\n",
    "- Subclasses: ImagePost (adds display_image()), VideoPost (adds play()).\n",
    "\n",
    "Use a render() method overridden in each subclass."
   ]
  },
  {
   "cell_type": "markdown",
   "id": "eaa47441",
   "metadata": {},
   "source": [
    "## 5. AI Model Training Pipeline\n",
    "Problem: Build a framework for training AI models (CNN, RNN, Transformer) where all models share training steps but differ in architecture or hyperparameters.\n",
    "\n",
    "Guidelines:\n",
    "\n",
    "- Base class: Model with methods like train() and evaluate().\n",
    "\n",
    "- Subclasses: CNN (adds convolutional_layers), RNN (adds recurrent_layers).\n",
    "\n",
    "Override build_architecture() in each subclass."
   ]
  },
  {
   "cell_type": "markdown",
   "id": "5643bdbf",
   "metadata": {},
   "source": [
    "## 6. Game Character Design\n",
    "Problem: Create a game with character types (warrior, mage, archer) sharing health/attack attributes but with unique abilities (fireball for mages).\n",
    "\n",
    "Guidelines:\n",
    "\n",
    "- Base class: Character with methods like take_damage().\n",
    "\n",
    "- Subclasses: Mage (adds cast_spell()), Warrior (adds melee_attack()).\n",
    "\n",
    "Use abstract methods in the base class to enforce ability implementation."
   ]
  },
  {
   "cell_type": "markdown",
   "id": "4eb2760b",
   "metadata": {},
   "source": [
    "## 7. IoT Sensor Data Processing\n",
    "Problem: Process data from IoT sensors (temperature, humidity, motion) where all sensors report data but require different analysis (e.g., motion triggers alerts).\n",
    "\n",
    "Guidelines:\n",
    "\n",
    "- Base class: Sensor with methods like read_data().\n",
    "\n",
    "- Subclasses: MotionSensor (adds check_movement()), TempSensor (adds check_threshold()).\n",
    "\n",
    "Override process_data() for sensor-specific logic."
   ]
  },
  {
   "cell_type": "markdown",
   "id": "b0d6864c",
   "metadata": {},
   "source": [
    "## 8. Subscription Services (Streaming Platforms)\n",
    "Problem: Manage subscriptions for services (music, video, cloud storage) with shared billing but different content delivery methods.\n",
    "\n",
    "Guidelines:\n",
    "\n",
    "- Base class: Subscription with methods like renew().\n",
    "\n",
    "- Subclasses: VideoSubscription (adds stream_video()), MusicSubscription (adds play_playlist()).\n",
    "\n",
    "Use a factory method pattern to instantiate subclasses based on user choice."
   ]
  },
  {
   "cell_type": "markdown",
   "id": "68d27247",
   "metadata": {},
   "source": [
    "## 9. Medical Diagnostic Assistant\n",
    "Use Case: Help doctors diagnose various conditions using patient data.\n",
    "\n",
    "Base Class: MedicalRecord – patient ID, vitals, visit_date\n",
    "\n",
    "Derived Classes:\n",
    "\n",
    "- CardiologyRecord\n",
    "\n",
    "- NeurologyRecord\n",
    "\n",
    "- OrthopedicRecord\n",
    "\n",
    "Modern Relevance: Healthcare automation, EHR systems. Each subclass may define its own analyze_record() method using AI/ML insights."
   ]
  }
 ],
 "metadata": {
  "language_info": {
   "name": "python"
  }
 },
 "nbformat": 4,
 "nbformat_minor": 5
}
