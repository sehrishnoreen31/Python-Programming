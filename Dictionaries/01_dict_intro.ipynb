{
 "cells": [
  {
   "cell_type": "markdown",
   "id": "b370d8c1",
   "metadata": {},
   "source": [
    "# Dictionaries"
   ]
  },
  {
   "cell_type": "markdown",
   "id": "beac4209",
   "metadata": {},
   "source": [
    "Tuple, number and string can be used as key."
   ]
  },
  {
   "cell_type": "code",
   "execution_count": 28,
   "id": "e6d1b486",
   "metadata": {},
   "outputs": [
    {
     "data": {
      "text/plain": [
       "{1: 'Sehrish', 2: 'Rabia', 3: 'Iram'}"
      ]
     },
     "execution_count": 28,
     "metadata": {},
     "output_type": "execute_result"
    }
   ],
   "source": [
    "# numbers\n",
    "students = {\n",
    "    1: 'Sehrish',\n",
    "    2: 'Rabia',\n",
    "    3: 'Iram'\n",
    "}\n",
    "\n",
    "students"
   ]
  },
  {
   "cell_type": "code",
   "execution_count": 29,
   "id": "3bc53238",
   "metadata": {},
   "outputs": [
    {
     "data": {
      "text/plain": [
       "{'Pakistan': 'Islamabad',\n",
       " 'Punjab': 'Lahore',\n",
       " 'KPK': 'Peshawar',\n",
       " 'Sindh': 'Karachi',\n",
       " 'Balochistan': 'Quetta'}"
      ]
     },
     "execution_count": 29,
     "metadata": {},
     "output_type": "execute_result"
    }
   ],
   "source": [
    "# strings\n",
    "capitals = {\n",
    "    'Pakistan': 'Islamabad',\n",
    "    'Punjab': 'Lahore',\n",
    "    'KPK': 'Peshawar',\n",
    "    'Sindh': 'Karachi',\n",
    "    'Balochistan': 'Quetta'\n",
    "}\n",
    "\n",
    "capitals"
   ]
  },
  {
   "cell_type": "code",
   "execution_count": 30,
   "id": "eaabd7b6",
   "metadata": {},
   "outputs": [
    {
     "data": {
      "text/plain": [
       "{('India', 'Pakistan'): 'Sun-continent', ('UAE', 'Qatar'): 'Gulf'}"
      ]
     },
     "execution_count": 30,
     "metadata": {},
     "output_type": "execute_result"
    }
   ],
   "source": [
    "# tuples\n",
    "regions = {\n",
    "    ('India', 'Pakistan'): 'Sun-continent',\n",
    "    ('UAE', 'Qatar'): 'Gulf'\n",
    "}\n",
    "regions"
   ]
  },
  {
   "cell_type": "markdown",
   "id": "aaf0bf05",
   "metadata": {},
   "source": [
    "## dict()"
   ]
  },
  {
   "cell_type": "code",
   "execution_count": 31,
   "id": "f1610429",
   "metadata": {},
   "outputs": [
    {
     "data": {
      "text/plain": [
       "{'name': 'Babar Azam', 'country': 'Pakistan', 'Ranking': 1}"
      ]
     },
     "execution_count": 31,
     "metadata": {},
     "output_type": "execute_result"
    }
   ],
   "source": [
    "player_info = dict(name='Babar Azam', country='Pakistan', Ranking=1)\n",
    "player_info"
   ]
  },
  {
   "cell_type": "markdown",
   "id": "db94d2cc",
   "metadata": {},
   "source": [
    "## Access Dictionary Items"
   ]
  },
  {
   "cell_type": "code",
   "execution_count": 32,
   "id": "efae3cda",
   "metadata": {},
   "outputs": [
    {
     "name": "stdout",
     "output_type": "stream",
     "text": [
      "Babar Azam\n",
      "Pakistan\n"
     ]
    }
   ],
   "source": [
    "# using key\n",
    "print(player_info['name'])\n",
    "print(player_info['country'])"
   ]
  },
  {
   "cell_type": "code",
   "execution_count": 33,
   "id": "c814da93",
   "metadata": {},
   "outputs": [
    {
     "name": "stdout",
     "output_type": "stream",
     "text": [
      "Babar Azam\n",
      "Pakistan\n"
     ]
    }
   ],
   "source": [
    "# using get()\n",
    "print(player_info.get('name'))\n",
    "print(player_info.get('country'))"
   ]
  },
  {
   "cell_type": "markdown",
   "id": "5a380b8c",
   "metadata": {},
   "source": [
    "## Modify Dictionary Items"
   ]
  },
  {
   "cell_type": "code",
   "execution_count": 34,
   "id": "7795128d",
   "metadata": {},
   "outputs": [
    {
     "data": {
      "text/plain": [
       "{'name': 'Muhammad Rizwan', 'country': 'Pakistan', 'Ranking': 1}"
      ]
     },
     "execution_count": 34,
     "metadata": {},
     "output_type": "execute_result"
    }
   ],
   "source": [
    "player_info['name'] = 'Muhammad Rizwan'\n",
    "player_info"
   ]
  },
  {
   "cell_type": "markdown",
   "id": "36254af4",
   "metadata": {},
   "source": [
    "## Removing Dictionary Items"
   ]
  },
  {
   "cell_type": "code",
   "execution_count": 35,
   "id": "0734f4c4",
   "metadata": {},
   "outputs": [
    {
     "data": {
      "text/plain": [
       "{'name': 'Muhammad Rizwan', 'Ranking': 1}"
      ]
     },
     "execution_count": 35,
     "metadata": {},
     "output_type": "execute_result"
    }
   ],
   "source": [
    "# using pop()\n",
    "player_info.pop('country')\n",
    "player_info"
   ]
  },
  {
   "cell_type": "code",
   "execution_count": 36,
   "id": "40c5e77f",
   "metadata": {},
   "outputs": [
    {
     "data": {
      "text/plain": [
       "{'name': 'Muhammad Rizwan'}"
      ]
     },
     "execution_count": 36,
     "metadata": {},
     "output_type": "execute_result"
    }
   ],
   "source": [
    "# using del\n",
    "del player_info['Ranking']\n",
    "player_info"
   ]
  },
  {
   "cell_type": "markdown",
   "id": "a1159bc0",
   "metadata": {},
   "source": [
    "## Loop Through Dictionary"
   ]
  },
  {
   "cell_type": "code",
   "execution_count": 38,
   "id": "c2be4a5f",
   "metadata": {},
   "outputs": [
    {
     "name": "stdout",
     "output_type": "stream",
     "text": [
      "Pakistan -> Islamabad\n",
      "Punjab -> Lahore\n",
      "KPK -> Peshawar\n",
      "Sindh -> Karachi\n",
      "Balochistan -> Quetta\n"
     ]
    }
   ],
   "source": [
    "for key, value in capitals.items():\n",
    "    print(f'{key} -> {value}')"
   ]
  },
  {
   "cell_type": "code",
   "execution_count": 40,
   "id": "0c456d8d",
   "metadata": {},
   "outputs": [
    {
     "name": "stdout",
     "output_type": "stream",
     "text": [
      "1: Islamabad\n",
      "2: Lahore\n",
      "3: Peshawar\n",
      "4: Karachi\n",
      "5: Quetta\n"
     ]
    }
   ],
   "source": [
    "num = 1\n",
    "for value in capitals.values():\n",
    "    print(f'{num}: {value}')\n",
    "    num += 1"
   ]
  },
  {
   "cell_type": "code",
   "execution_count": 43,
   "id": "b4ccd65f",
   "metadata": {},
   "outputs": [
    {
     "name": "stdout",
     "output_type": "stream",
     "text": [
      "Pakistan\n",
      "Punjab\n",
      "KPK\n",
      "Sindh\n",
      "Balochistan\n"
     ]
    }
   ],
   "source": [
    "for key in capitals:\n",
    "    print(f'{key}')"
   ]
  },
  {
   "cell_type": "code",
   "execution_count": 44,
   "id": "59ea96d6",
   "metadata": {},
   "outputs": [
    {
     "name": "stdout",
     "output_type": "stream",
     "text": [
      "Pakistan: Islamabad\n",
      "Punjab: Lahore\n",
      "KPK: Peshawar\n",
      "Sindh: Karachi\n",
      "Balochistan: Quetta\n"
     ]
    }
   ],
   "source": [
    "for key in capitals:\n",
    "    print(f'{key}: {capitals[key]}')"
   ]
  }
 ],
 "metadata": {
  "kernelspec": {
   "display_name": "Python 3",
   "language": "python",
   "name": "python3"
  },
  "language_info": {
   "codemirror_mode": {
    "name": "ipython",
    "version": 3
   },
   "file_extension": ".py",
   "mimetype": "text/x-python",
   "name": "python",
   "nbconvert_exporter": "python",
   "pygments_lexer": "ipython3",
   "version": "3.13.1"
  }
 },
 "nbformat": 4,
 "nbformat_minor": 5
}
