{
 "cells": [
  {
   "cell_type": "markdown",
   "id": "a58fcb9f",
   "metadata": {},
   "source": [
    "# Access Dictionary Items"
   ]
  },
  {
   "cell_type": "code",
   "execution_count": 1,
   "id": "d1f808fa",
   "metadata": {},
   "outputs": [
    {
     "data": {
      "text/plain": [
       "{'Rose': 'Rosa spp.',\n",
       " 'Sunflower': 'Helianthus annuus',\n",
       " 'Tulip': 'Tulipa spp.',\n",
       " 'Lavender': 'Lavandula angustifolia',\n",
       " 'Basil': 'Ocimum basilicum',\n",
       " 'Jasmine': 'Jasminum officinale',\n",
       " 'Orchid': 'Orchidaceae spp.',\n",
       " 'Aloe Vera': 'Aloe barbadensis miller',\n",
       " 'Daisy': 'Bellis perennis',\n",
       " 'Mint': 'Mentha spp.',\n",
       " 'Cactus': 'Cactaceae spp.',\n",
       " 'Fern': 'Polypodiopsida spp.',\n",
       " 'Bamboo': 'Bambusoideae spp.'}"
      ]
     },
     "execution_count": 1,
     "metadata": {},
     "output_type": "execute_result"
    }
   ],
   "source": [
    "plants_dict = {\n",
    "    \"Rose\": \"Rosa spp.\",\n",
    "    \"Sunflower\": \"Helianthus annuus\",\n",
    "    \"Tulip\": \"Tulipa spp.\",\n",
    "    \"Lavender\": \"Lavandula angustifolia\",\n",
    "    \"Basil\": \"Ocimum basilicum\",\n",
    "    \"Jasmine\": \"Jasminum officinale\",\n",
    "    \"Orchid\": \"Orchidaceae spp.\",\n",
    "    \"Aloe Vera\": \"Aloe barbadensis miller\",\n",
    "    \"Daisy\": \"Bellis perennis\",\n",
    "    \"Mint\": \"Mentha spp.\",\n",
    "    \"Cactus\": \"Cactaceae spp.\",\n",
    "    \"Fern\": \"Polypodiopsida spp.\",\n",
    "    \"Bamboo\": \"Bambusoideae spp.\"\n",
    "}\n",
    "plants_dict"
   ]
  },
  {
   "cell_type": "markdown",
   "id": "3b16e1f9",
   "metadata": {},
   "source": [
    "## Access Items Using []"
   ]
  },
  {
   "cell_type": "code",
   "execution_count": 3,
   "id": "4435cb7a",
   "metadata": {},
   "outputs": [
    {
     "name": "stdout",
     "output_type": "stream",
     "text": [
      "Scientific name of rose:  Rosa spp.\n",
      "Scientific name of tulip:  Tulipa spp.\n",
      "Scientific name of orchid:  Orchidaceae spp.\n"
     ]
    }
   ],
   "source": [
    "print('Scientific name of rose: ', plants_dict['Rose'])\n",
    "print('Scientific name of tulip: ', plants_dict['Tulip'])\n",
    "print('Scientific name of orchid: ', plants_dict['Orchid'])"
   ]
  },
  {
   "cell_type": "markdown",
   "id": "602439be",
   "metadata": {},
   "source": [
    "## Using get() Method"
   ]
  },
  {
   "cell_type": "code",
   "execution_count": 6,
   "id": "444cef46",
   "metadata": {},
   "outputs": [
    {
     "name": "stdout",
     "output_type": "stream",
     "text": [
      "Scientific name of rose:  Rosa spp.\n",
      "Scientific name of tulip:  Tulipa spp.\n",
      "Scientific name of orchid:  Polypodiopsida spp.\n"
     ]
    }
   ],
   "source": [
    "print('Scientific name of rose: ', plants_dict.get('Rose'))\n",
    "print('Scientific name of tulip: ', plants_dict.get('Tulip'))\n",
    "print('Scientific name of orchid: ', plants_dict.get('Fern'))"
   ]
  },
  {
   "cell_type": "code",
   "execution_count": 11,
   "id": "d0344d50",
   "metadata": {},
   "outputs": [
    {
     "name": "stdout",
     "output_type": "stream",
     "text": [
      "Scientific name of Cactus:  Not Found\n",
      "Scientific name of tulip:  Tulipa spp.\n",
      "Scientific name of orchid:  Polypodiopsida spp.\n"
     ]
    }
   ],
   "source": [
    "# return optional string if value not found\n",
    "print('Scientific name of Cactus: ', plants_dict.get('Catctus', 'Not Found'))\n",
    "print('Scientific name of tulip: ', plants_dict.get('Tulip', 'Not Found'))\n",
    "print('Scientific name of orchid: ', plants_dict.get('Fern', 'Not Found'))"
   ]
  },
  {
   "cell_type": "markdown",
   "id": "b46c5bfc",
   "metadata": {},
   "source": [
    "## Access Dictionary Keys Using keys() Method"
   ]
  },
  {
   "cell_type": "code",
   "execution_count": 13,
   "id": "42b4e7ba",
   "metadata": {},
   "outputs": [
    {
     "data": {
      "text/plain": [
       "dict_keys(['Rose', 'Sunflower', 'Tulip', 'Lavender', 'Basil', 'Jasmine', 'Orchid', 'Aloe Vera', 'Daisy', 'Mint', 'Cactus', 'Fern', 'Bamboo'])"
      ]
     },
     "execution_count": 13,
     "metadata": {},
     "output_type": "execute_result"
    }
   ],
   "source": [
    "plants_dict.keys()"
   ]
  },
  {
   "cell_type": "code",
   "execution_count": 12,
   "id": "09c9a7d5",
   "metadata": {},
   "outputs": [
    {
     "name": "stdout",
     "output_type": "stream",
     "text": [
      "Rose\n",
      "Sunflower\n",
      "Tulip\n",
      "Lavender\n",
      "Basil\n",
      "Jasmine\n",
      "Orchid\n",
      "Aloe Vera\n",
      "Daisy\n",
      "Mint\n",
      "Cactus\n",
      "Fern\n",
      "Bamboo\n"
     ]
    }
   ],
   "source": [
    "for key in plants_dict.keys():\n",
    "    print(key)"
   ]
  },
  {
   "cell_type": "markdown",
   "id": "6b80af81",
   "metadata": {},
   "source": [
    "## Access Dictionary Values Using values() Method"
   ]
  },
  {
   "cell_type": "code",
   "execution_count": 14,
   "id": "828864e7",
   "metadata": {},
   "outputs": [
    {
     "data": {
      "text/plain": [
       "dict_values(['Rosa spp.', 'Helianthus annuus', 'Tulipa spp.', 'Lavandula angustifolia', 'Ocimum basilicum', 'Jasminum officinale', 'Orchidaceae spp.', 'Aloe barbadensis miller', 'Bellis perennis', 'Mentha spp.', 'Cactaceae spp.', 'Polypodiopsida spp.', 'Bambusoideae spp.'])"
      ]
     },
     "execution_count": 14,
     "metadata": {},
     "output_type": "execute_result"
    }
   ],
   "source": [
    "plants_dict.values()"
   ]
  },
  {
   "cell_type": "code",
   "execution_count": 17,
   "id": "75ef9a7d",
   "metadata": {},
   "outputs": [
    {
     "name": "stdout",
     "output_type": "stream",
     "text": [
      "Rosa spp.\n",
      "Helianthus annuus\n",
      "Tulipa spp.\n",
      "Lavandula angustifolia\n",
      "Ocimum basilicum\n",
      "Jasminum officinale\n",
      "Orchidaceae spp.\n",
      "Aloe barbadensis miller\n",
      "Bellis perennis\n",
      "Mentha spp.\n",
      "Cactaceae spp.\n",
      "Polypodiopsida spp.\n",
      "Bambusoideae spp.\n"
     ]
    }
   ],
   "source": [
    "for value in plants_dict.values():\n",
    "    print(value)"
   ]
  },
  {
   "cell_type": "markdown",
   "id": "f4ac3625",
   "metadata": {},
   "source": [
    "## Access Dictionary Items Using items() Method"
   ]
  },
  {
   "cell_type": "code",
   "execution_count": 18,
   "id": "c92f49fd",
   "metadata": {},
   "outputs": [
    {
     "name": "stdout",
     "output_type": "stream",
     "text": [
      "('Rose', 'Rosa spp.')\n",
      "('Sunflower', 'Helianthus annuus')\n",
      "('Tulip', 'Tulipa spp.')\n",
      "('Lavender', 'Lavandula angustifolia')\n",
      "('Basil', 'Ocimum basilicum')\n",
      "('Jasmine', 'Jasminum officinale')\n",
      "('Orchid', 'Orchidaceae spp.')\n",
      "('Aloe Vera', 'Aloe barbadensis miller')\n",
      "('Daisy', 'Bellis perennis')\n",
      "('Mint', 'Mentha spp.')\n",
      "('Cactus', 'Cactaceae spp.')\n",
      "('Fern', 'Polypodiopsida spp.')\n",
      "('Bamboo', 'Bambusoideae spp.')\n"
     ]
    }
   ],
   "source": [
    "for item in plants_dict.items():\n",
    "    print(item)"
   ]
  },
  {
   "cell_type": "code",
   "execution_count": 19,
   "id": "dafddc01",
   "metadata": {},
   "outputs": [
    {
     "name": "stdout",
     "output_type": "stream",
     "text": [
      "Rose :  Rosa spp.\n",
      "Sunflower :  Helianthus annuus\n",
      "Tulip :  Tulipa spp.\n",
      "Lavender :  Lavandula angustifolia\n",
      "Basil :  Ocimum basilicum\n",
      "Jasmine :  Jasminum officinale\n",
      "Orchid :  Orchidaceae spp.\n",
      "Aloe Vera :  Aloe barbadensis miller\n",
      "Daisy :  Bellis perennis\n",
      "Mint :  Mentha spp.\n",
      "Cactus :  Cactaceae spp.\n",
      "Fern :  Polypodiopsida spp.\n",
      "Bamboo :  Bambusoideae spp.\n"
     ]
    }
   ],
   "source": [
    "for key, value in plants_dict.items():\n",
    "    print(key, ': ', value)"
   ]
  }
 ],
 "metadata": {
  "kernelspec": {
   "display_name": "Python 3",
   "language": "python",
   "name": "python3"
  },
  "language_info": {
   "codemirror_mode": {
    "name": "ipython",
    "version": 3
   },
   "file_extension": ".py",
   "mimetype": "text/x-python",
   "name": "python",
   "nbconvert_exporter": "python",
   "pygments_lexer": "ipython3",
   "version": "3.13.1"
  }
 },
 "nbformat": 4,
 "nbformat_minor": 5
}
