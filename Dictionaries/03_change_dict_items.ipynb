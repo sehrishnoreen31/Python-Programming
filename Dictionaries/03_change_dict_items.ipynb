{
 "cells": [
  {
   "cell_type": "markdown",
   "id": "0a85b6d9",
   "metadata": {},
   "source": [
    "# Change Dictionary Items"
   ]
  },
  {
   "cell_type": "code",
   "execution_count": 11,
   "id": "65a90de9",
   "metadata": {},
   "outputs": [
    {
     "data": {
      "text/plain": [
       "{'MacBook Air (M2)': 'Apple M2 chip, 13.6\", 8GB RAM, 256GB SSD',\n",
       " 'Dell XPS 13': 'Intel Core i7, 13.4\" 4K, 16GB RAM, 512GB SSD',\n",
       " 'HP Spectre x360': 'Intel Core i5, 13.5\" touch, 8GB RAM, 512GB SSD',\n",
       " 'Lenovo ThinkPad X1': 'Intel Core i7, 14\" FHD, 16GB RAM, 1TB SSD',\n",
       " 'ASUS ROG Zephyrus': 'AMD Ryzen 9, 15.6\" 144Hz, 32GB RAM, 1TB SSD',\n",
       " 'Microsoft Surface Pro': 'Intel Core i5, 12.3\" touch, 8GB RAM, 256GB SSD',\n",
       " 'Acer Predator Helios': 'Intel Core i7, 17.3\" 240Hz, 32GB RAM, 1TB SSD',\n",
       " 'Razer Blade 15': 'Intel Core i7, 15.6\" QHD, 16GB RAM, 1TB SSD',\n",
       " 'Alienware m15': 'Intel Core i9, 15.6\" OLED, 32GB RAM, 2TB SSD'}"
      ]
     },
     "execution_count": 11,
     "metadata": {},
     "output_type": "execute_result"
    }
   ],
   "source": [
    "computers_dict = {\n",
    "    \"MacBook Air (M2)\": \"Apple M2 chip, 13.6\\\", 8GB RAM, 256GB SSD\",\n",
    "    \"Dell XPS 13\": \"Intel Core i7, 13.4\\\" 4K, 16GB RAM, 512GB SSD\",\n",
    "    \"HP Spectre x360\": \"Intel Core i5, 13.5\\\" touch, 8GB RAM, 512GB SSD\",\n",
    "    \"Lenovo ThinkPad X1\": \"Intel Core i7, 14\\\" FHD, 16GB RAM, 1TB SSD\",\n",
    "    \"ASUS ROG Zephyrus\": \"AMD Ryzen 9, 15.6\\\" 144Hz, 32GB RAM, 1TB SSD\",\n",
    "    \"Microsoft Surface Pro\": \"Intel Core i5, 12.3\\\" touch, 8GB RAM, 256GB SSD\",\n",
    "    \"Acer Predator Helios\": \"Intel Core i7, 17.3\\\" 240Hz, 32GB RAM, 1TB SSD\",\n",
    "    \"Razer Blade 15\": \"Intel Core i7, 15.6\\\" QHD, 16GB RAM, 1TB SSD\",\n",
    "    \"Alienware m15\": \"Intel Core i9, 15.6\\\" OLED, 32GB RAM, 2TB SSD\"\n",
    "}\n",
    "\n",
    "computers_dict"
   ]
  },
  {
   "cell_type": "markdown",
   "id": "2bed3286",
   "metadata": {},
   "source": [
    "## Modify Values"
   ]
  },
  {
   "cell_type": "markdown",
   "id": "60e8f0a2",
   "metadata": {},
   "source": [
    "### One Value"
   ]
  },
  {
   "cell_type": "code",
   "execution_count": 12,
   "id": "04700ef6",
   "metadata": {},
   "outputs": [
    {
     "data": {
      "text/plain": [
       "{'MacBook Air (M2)': 'Apple M2 chip, 13.6\", 8GB RAM, 256GB SSD',\n",
       " 'Dell XPS 13': 'Not Specified',\n",
       " 'HP Spectre x360': 'Intel Core i5, 13.5\" touch, 8GB RAM, 512GB SSD',\n",
       " 'Lenovo ThinkPad X1': 'Intel Core i7, 14\" FHD, 16GB RAM, 1TB SSD',\n",
       " 'ASUS ROG Zephyrus': 'AMD Ryzen 9, 15.6\" 144Hz, 32GB RAM, 1TB SSD',\n",
       " 'Microsoft Surface Pro': 'Intel Core i5, 12.3\" touch, 8GB RAM, 256GB SSD',\n",
       " 'Acer Predator Helios': 'Intel Core i7, 17.3\" 240Hz, 32GB RAM, 1TB SSD',\n",
       " 'Razer Blade 15': 'Intel Core i7, 15.6\" QHD, 16GB RAM, 1TB SSD',\n",
       " 'Alienware m15': 'Intel Core i9, 15.6\" OLED, 32GB RAM, 2TB SSD'}"
      ]
     },
     "execution_count": 12,
     "metadata": {},
     "output_type": "execute_result"
    }
   ],
   "source": [
    "computers_dict['Dell XPS 13'] = 'Not Specified'\n",
    "computers_dict"
   ]
  },
  {
   "cell_type": "markdown",
   "id": "37d630ff",
   "metadata": {},
   "source": [
    "### Multiple Values"
   ]
  },
  {
   "cell_type": "code",
   "execution_count": 13,
   "id": "9954022c",
   "metadata": {},
   "outputs": [
    {
     "data": {
      "text/plain": [
       "{'MacBook Air (M2)': 'Apple M2 chip, 13.6\", 8GB RAM, 256GB SSD',\n",
       " 'Dell XPS 13': 'Not Specified',\n",
       " 'HP Spectre x360': 'Intel Core i5, 13.5\" touch, 8GB RAM, 512GB SSD',\n",
       " 'Lenovo ThinkPad X1': 'Not Specified',\n",
       " 'ASUS ROG Zephyrus': 'AMD Ryzen 9, 15.6\" 144Hz, 32GB RAM, 1TB SSD',\n",
       " 'Microsoft Surface Pro': 'Intel Core i5, 12.3\" touch, 8GB RAM, 256GB SSD',\n",
       " 'Acer Predator Helios': 'Intel Core i7, 17.3\" 240Hz, 32GB RAM, 1TB SSD',\n",
       " 'Razer Blade 15': 'Intel Core i7, 15.6\" QHD, 16GB RAM, 1TB SSD',\n",
       " 'Alienware m15': 'Not Specified'}"
      ]
     },
     "execution_count": 13,
     "metadata": {},
     "output_type": "execute_result"
    }
   ],
   "source": [
    "computers_dict.update({'Lenovo ThinkPad X1': 'Not Specified', 'Alienware m15' : 'Not Specified'})\n",
    "computers_dict"
   ]
  },
  {
   "cell_type": "markdown",
   "id": "5af8cc3d",
   "metadata": {},
   "source": [
    "### Conditional Modification"
   ]
  },
  {
   "cell_type": "code",
   "execution_count": 14,
   "id": "0ceaf75a",
   "metadata": {},
   "outputs": [
    {
     "data": {
      "text/plain": [
       "{'MacBook Air (M2)': 'Apple M2 chip, 13.6\", 8GB RAM, 256GB SSD',\n",
       " 'Dell XPS 13': 'Not Specified',\n",
       " 'HP Spectre x360': 'Intel Core i5, 13.5\" touch, 8GB RAM, 512GB SSD',\n",
       " 'Lenovo ThinkPad X1': 'Not Specified',\n",
       " 'ASUS ROG Zephyrus': 'AMD Ryzen 9, 15.6\" 144Hz, 32GB RAM, 1TB SSD',\n",
       " 'Microsoft Surface Pro': 'Intel Core i5, 12.3\" touch, 8GB RAM, 256GB SSD',\n",
       " 'Acer Predator Helios': 'Intel Core i7, 17.3\" 240Hz, 32GB RAM, 1TB SSD',\n",
       " 'Razer Blade 15': 'Intel Core i7, 15.6\" QHD, 16GB RAM, 1TB SSD',\n",
       " 'Alienware m15': 'Intel Core i9, 15.6\" OLED, 32GB RAM, 2TB SSD'}"
      ]
     },
     "execution_count": 14,
     "metadata": {},
     "output_type": "execute_result"
    }
   ],
   "source": [
    "if computers_dict['Alienware m15'] == 'Not Specified':\n",
    "    computers_dict['Alienware m15'] = 'Intel Core i9, 15.6\" OLED, 32GB RAM, 2TB SSD'\n",
    "\n",
    "computers_dict"
   ]
  },
  {
   "cell_type": "markdown",
   "id": "b66f6d64",
   "metadata": {},
   "source": [
    "### Add New Key, Value Pairs"
   ]
  },
  {
   "cell_type": "markdown",
   "id": "919c6ef2",
   "metadata": {},
   "source": [
    "#### Add Using Assignment Operator = "
   ]
  },
  {
   "cell_type": "code",
   "execution_count": 15,
   "id": "fc974417",
   "metadata": {},
   "outputs": [
    {
     "data": {
      "text/plain": [
       "{'MacBook Air (M2)': 'Apple M2 chip, 13.6\", 8GB RAM, 256GB SSD',\n",
       " 'Dell XPS 13': 'Not Specified',\n",
       " 'HP Spectre x360': 'Intel Core i5, 13.5\" touch, 8GB RAM, 512GB SSD',\n",
       " 'Lenovo ThinkPad X1': 'Not Specified',\n",
       " 'ASUS ROG Zephyrus': 'AMD Ryzen 9, 15.6\" 144Hz, 32GB RAM, 1TB SSD',\n",
       " 'Microsoft Surface Pro': 'Intel Core i5, 12.3\" touch, 8GB RAM, 256GB SSD',\n",
       " 'Acer Predator Helios': 'Intel Core i7, 17.3\" 240Hz, 32GB RAM, 1TB SSD',\n",
       " 'Razer Blade 15': 'Intel Core i7, 15.6\" QHD, 16GB RAM, 1TB SSD',\n",
       " 'Alienware m15': 'Intel Core i9, 15.6\" OLED, 32GB RAM, 2TB SSD',\n",
       " 'HP Omen 45L': 'AMD Ryzen 9, desktop, 64GB RAM, 2TB SSD + 4TB HDD',\n",
       " 'Corsair One': 'Intel Core i9, compact desktop, 32GB RAM, 1TB SSD + 2TB HDD'}"
      ]
     },
     "execution_count": 15,
     "metadata": {},
     "output_type": "execute_result"
    }
   ],
   "source": [
    "computers_dict['HP Omen 45L'] = 'AMD Ryzen 9, desktop, 64GB RAM, 2TB SSD + 4TB HDD'\n",
    "computers_dict['Corsair One'] = 'Intel Core i9, compact desktop, 32GB RAM, 1TB SSD + 2TB HDD'\n",
    "\n",
    "computers_dict"
   ]
  },
  {
   "cell_type": "markdown",
   "id": "3d0dfa60",
   "metadata": {},
   "source": [
    "#### Add Using setdefault() Method"
   ]
  },
  {
   "cell_type": "code",
   "execution_count": 16,
   "id": "d605cd2e",
   "metadata": {},
   "outputs": [
    {
     "data": {
      "text/plain": [
       "{'MacBook Air (M2)': 'Apple M2 chip, 13.6\", 8GB RAM, 256GB SSD',\n",
       " 'Dell XPS 13': 'Not Specified',\n",
       " 'HP Spectre x360': 'Intel Core i5, 13.5\" touch, 8GB RAM, 512GB SSD',\n",
       " 'Lenovo ThinkPad X1': 'Not Specified',\n",
       " 'ASUS ROG Zephyrus': 'AMD Ryzen 9, 15.6\" 144Hz, 32GB RAM, 1TB SSD',\n",
       " 'Microsoft Surface Pro': 'Intel Core i5, 12.3\" touch, 8GB RAM, 256GB SSD',\n",
       " 'Acer Predator Helios': 'Intel Core i7, 17.3\" 240Hz, 32GB RAM, 1TB SSD',\n",
       " 'Razer Blade 15': 'Intel Core i7, 15.6\" QHD, 16GB RAM, 1TB SSD',\n",
       " 'Alienware m15': 'Intel Core i9, 15.6\" OLED, 32GB RAM, 2TB SSD',\n",
       " 'HP Omen 45L': 'AMD Ryzen 9, desktop, 64GB RAM, 2TB SSD + 4TB HDD',\n",
       " 'Corsair One': 'Intel Core i9, compact desktop, 32GB RAM, 1TB SSD + 2TB HDD',\n",
       " 'Raspberry Pi 5': 'Broadcom BCM2712, 8GB RAM, microcomputer',\n",
       " 'Google Chromebook': 'MediaTek Kompanio 1200, 14, 8GB RAM, 128GB eMMC'}"
      ]
     },
     "execution_count": 16,
     "metadata": {},
     "output_type": "execute_result"
    }
   ],
   "source": [
    "computers_dict.setdefault(\"Raspberry Pi 5\", \"Broadcom BCM2712, 8GB RAM, microcomputer\")\n",
    "computers_dict.setdefault( \"Google Chromebook\", \"MediaTek Kompanio 1200, 14, 8GB RAM, 128GB eMMC\")\n",
    "\n",
    "computers_dict"
   ]
  },
  {
   "cell_type": "markdown",
   "id": "a3207b60",
   "metadata": {},
   "source": [
    "### Remove Key, Value Pairs"
   ]
  },
  {
   "cell_type": "markdown",
   "id": "8f255a13",
   "metadata": {},
   "source": [
    "#### Remove Using Del Statement"
   ]
  },
  {
   "cell_type": "code",
   "execution_count": 17,
   "id": "3698f176",
   "metadata": {},
   "outputs": [
    {
     "data": {
      "text/plain": [
       "{'MacBook Air (M2)': 'Apple M2 chip, 13.6\", 8GB RAM, 256GB SSD',\n",
       " 'Dell XPS 13': 'Not Specified',\n",
       " 'HP Spectre x360': 'Intel Core i5, 13.5\" touch, 8GB RAM, 512GB SSD',\n",
       " 'Lenovo ThinkPad X1': 'Not Specified',\n",
       " 'ASUS ROG Zephyrus': 'AMD Ryzen 9, 15.6\" 144Hz, 32GB RAM, 1TB SSD',\n",
       " 'Microsoft Surface Pro': 'Intel Core i5, 12.3\" touch, 8GB RAM, 256GB SSD',\n",
       " 'Acer Predator Helios': 'Intel Core i7, 17.3\" 240Hz, 32GB RAM, 1TB SSD',\n",
       " 'Razer Blade 15': 'Intel Core i7, 15.6\" QHD, 16GB RAM, 1TB SSD',\n",
       " 'Alienware m15': 'Intel Core i9, 15.6\" OLED, 32GB RAM, 2TB SSD',\n",
       " 'HP Omen 45L': 'AMD Ryzen 9, desktop, 64GB RAM, 2TB SSD + 4TB HDD',\n",
       " 'Corsair One': 'Intel Core i9, compact desktop, 32GB RAM, 1TB SSD + 2TB HDD'}"
      ]
     },
     "execution_count": 17,
     "metadata": {},
     "output_type": "execute_result"
    }
   ],
   "source": [
    "del computers_dict['Google Chromebook']\n",
    "del computers_dict['Raspberry Pi 5']\n",
    "\n",
    "computers_dict"
   ]
  },
  {
   "cell_type": "markdown",
   "id": "ae4d6b52",
   "metadata": {},
   "source": [
    "#### Remove Using pop() Method"
   ]
  },
  {
   "cell_type": "code",
   "execution_count": null,
   "id": "a0ec026a",
   "metadata": {},
   "outputs": [
    {
     "data": {
      "text/plain": [
       "{'MacBook Air (M2)': 'Apple M2 chip, 13.6\", 8GB RAM, 256GB SSD',\n",
       " 'Lenovo ThinkPad X1': 'Not Specified',\n",
       " 'ASUS ROG Zephyrus': 'AMD Ryzen 9, 15.6\" 144Hz, 32GB RAM, 1TB SSD',\n",
       " 'Microsoft Surface Pro': 'Intel Core i5, 12.3\" touch, 8GB RAM, 256GB SSD',\n",
       " 'Acer Predator Helios': 'Intel Core i7, 17.3\" 240Hz, 32GB RAM, 1TB SSD',\n",
       " 'Razer Blade 15': 'Intel Core i7, 15.6\" QHD, 16GB RAM, 1TB SSD',\n",
       " 'Alienware m15': 'Intel Core i9, 15.6\" OLED, 32GB RAM, 2TB SSD',\n",
       " 'HP Omen 45L': 'AMD Ryzen 9, desktop, 64GB RAM, 2TB SSD + 4TB HDD',\n",
       " 'Corsair One': 'Intel Core i9, compact desktop, 32GB RAM, 1TB SSD + 2TB HDD'}"
      ]
     },
     "execution_count": 18,
     "metadata": {},
     "output_type": "execute_result"
    }
   ],
   "source": [
    "computers_dict.pop('Dell XPS 13')\n",
    "computers_dict.pop('HP Spectre x360')\n",
    "# computers_dict.pop() # error\n",
    "computers_dict"
   ]
  },
  {
   "cell_type": "markdown",
   "id": "61202543",
   "metadata": {},
   "source": [
    "#### Remove Using popitem() Method"
   ]
  },
  {
   "cell_type": "code",
   "execution_count": 19,
   "id": "f7bfe344",
   "metadata": {},
   "outputs": [
    {
     "data": {
      "text/plain": [
       "{'MacBook Air (M2)': 'Apple M2 chip, 13.6\", 8GB RAM, 256GB SSD',\n",
       " 'Lenovo ThinkPad X1': 'Not Specified',\n",
       " 'ASUS ROG Zephyrus': 'AMD Ryzen 9, 15.6\" 144Hz, 32GB RAM, 1TB SSD',\n",
       " 'Microsoft Surface Pro': 'Intel Core i5, 12.3\" touch, 8GB RAM, 256GB SSD',\n",
       " 'Acer Predator Helios': 'Intel Core i7, 17.3\" 240Hz, 32GB RAM, 1TB SSD',\n",
       " 'Razer Blade 15': 'Intel Core i7, 15.6\" QHD, 16GB RAM, 1TB SSD',\n",
       " 'Alienware m15': 'Intel Core i9, 15.6\" OLED, 32GB RAM, 2TB SSD',\n",
       " 'HP Omen 45L': 'AMD Ryzen 9, desktop, 64GB RAM, 2TB SSD + 4TB HDD'}"
      ]
     },
     "execution_count": 19,
     "metadata": {},
     "output_type": "execute_result"
    }
   ],
   "source": [
    "computers_dict.popitem() # last item removed\n",
    "computers_dict"
   ]
  }
 ],
 "metadata": {
  "kernelspec": {
   "display_name": "Python 3",
   "language": "python",
   "name": "python3"
  },
  "language_info": {
   "codemirror_mode": {
    "name": "ipython",
    "version": 3
   },
   "file_extension": ".py",
   "mimetype": "text/x-python",
   "name": "python",
   "nbconvert_exporter": "python",
   "pygments_lexer": "ipython3",
   "version": "3.13.1"
  }
 },
 "nbformat": 4,
 "nbformat_minor": 5
}
