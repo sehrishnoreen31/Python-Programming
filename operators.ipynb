{
 "cells": [
  {
   "cell_type": "markdown",
   "metadata": {},
   "source": [
    "# Operators"
   ]
  },
  {
   "cell_type": "markdown",
   "metadata": {},
   "source": [
    "## 1. Arithmetic Operators\n",
    "Arithmetic operators are used to perform mathematical operations like addition, subtraction, multiplication, etc.\n",
    "\n",
    "**Problems:**"
   ]
  },
  {
   "cell_type": "markdown",
   "metadata": {
    "vscode": {
     "languageId": "plaintext"
    }
   },
   "source": [
    "Write a program to calculate the area of a rectangle. Take length and width as input from the user.\n",
    "\n",
    "Area = 1/2 (base * height)"
   ]
  },
  {
   "cell_type": "code",
   "execution_count": 5,
   "metadata": {},
   "outputs": [
    {
     "name": "stdout",
     "output_type": "stream",
     "text": [
      "Area of trangle: 2025\n"
     ]
    }
   ],
   "source": [
    "height = 90\n",
    "base = 45\n",
    "area = 1/2 * ( base * height)\n",
    "print(f'Area of trangle: {int(area)}')"
   ]
  },
  {
   "cell_type": "markdown",
   "metadata": {
    "vscode": {
     "languageId": "plaintext"
    }
   },
   "source": [
    "Write a program to calculate the simple interest. Take principal, rate, and time as input from the user."
   ]
  },
  {
   "cell_type": "code",
   "execution_count": 6,
   "metadata": {},
   "outputs": [
    {
     "name": "stdout",
     "output_type": "stream",
     "text": [
      "Interset : 600%\n"
     ]
    }
   ],
   "source": [
    "principle = 10000 # actual loan\n",
    "rate = 2 # % per annum\n",
    "time = 3 # years\n",
    "\n",
    "interest = (principle * time * rate) / 100\n",
    "\n",
    "print(f'Interset : {int(interest)}%')"
   ]
  },
  {
   "cell_type": "markdown",
   "metadata": {},
   "source": [
    "Write a program to swap two numbers without using a third variable."
   ]
  },
  {
   "cell_type": "code",
   "execution_count": 7,
   "metadata": {},
   "outputs": [
    {
     "name": "stdout",
     "output_type": "stream",
     "text": [
      "Original values: a = 23\tb = 45\n",
      "After swappping: a = 45\tb = 23\n"
     ]
    }
   ],
   "source": [
    "a = 23\n",
    "b = 45\n",
    "\n",
    "# original values\n",
    "print(f'Original values: a = {a}\\tb = {b}')\n",
    "a, b = b, a\n",
    "\n",
    "print(f'After swappping: a = {a}\\tb = {b}')"
   ]
  },
  {
   "cell_type": "markdown",
   "metadata": {},
   "source": [
    "Write a program to calculate the remainder when one number is divided by another."
   ]
  },
  {
   "cell_type": "code",
   "execution_count": 8,
   "metadata": {},
   "outputs": [
    {
     "name": "stdout",
     "output_type": "stream",
     "text": [
      "Remainder: 9\n"
     ]
    }
   ],
   "source": [
    "num1 = 89\n",
    "num2 = 40\n",
    "rem = num1%num2\n",
    "\n",
    "print(f'Remainder: {rem}')"
   ]
  },
  {
   "cell_type": "markdown",
   "metadata": {},
   "source": [
    "Write a program to calculate the power of a number. Take the base and exponent as input from the user."
   ]
  },
  {
   "cell_type": "code",
   "execution_count": 9,
   "metadata": {},
   "outputs": [
    {
     "name": "stdout",
     "output_type": "stream",
     "text": [
      "4^3 = 64\n"
     ]
    }
   ],
   "source": [
    "num = 4\n",
    "num_power_3 = num**3\n",
    "\n",
    "print(f'4^3 = {num_power_3}')"
   ]
  },
  {
   "cell_type": "code",
   "execution_count": 10,
   "metadata": {},
   "outputs": [
    {
     "name": "stdout",
     "output_type": "stream",
     "text": [
      "125\n",
      "343\n",
      "39304\n",
      "32768\n",
      "91125\n",
      "12167\n"
     ]
    }
   ],
   "source": [
    "nums = [5,7,34,32,45,23]\n",
    "for num in nums:\n",
    "    print(num**3)"
   ]
  },
  {
   "cell_type": "markdown",
   "metadata": {},
   "source": [
    "## 2. Assignment Operators\n",
    "Assignment operators are used to assign values to variables.\n",
    "\n",
    "**Problems:**"
   ]
  },
  {
   "cell_type": "markdown",
   "metadata": {},
   "source": [
    "Write a program to add 5 to a variable x using the += operator."
   ]
  },
  {
   "cell_type": "code",
   "execution_count": 11,
   "metadata": {},
   "outputs": [
    {
     "name": "stdout",
     "output_type": "stream",
     "text": [
      "13\n"
     ]
    }
   ],
   "source": [
    "x = 8\n",
    "x += 5\n",
    "print(x)"
   ]
  },
  {
   "cell_type": "markdown",
   "metadata": {},
   "source": [
    "\n",
    "Write a program to multiply a variable y by 3 using the *= operator."
   ]
  },
  {
   "cell_type": "code",
   "execution_count": 12,
   "metadata": {},
   "outputs": [
    {
     "name": "stdout",
     "output_type": "stream",
     "text": [
      "135\n"
     ]
    }
   ],
   "source": [
    "num = 45\n",
    "num *= 3\n",
    "print(num)"
   ]
  },
  {
   "cell_type": "markdown",
   "metadata": {},
   "source": [
    "\n",
    "\n",
    "Write a program to divide a variable z by 2 using the /= operator."
   ]
  },
  {
   "cell_type": "code",
   "execution_count": 13,
   "metadata": {},
   "outputs": [
    {
     "name": "stdout",
     "output_type": "stream",
     "text": [
      "281.5\n"
     ]
    }
   ],
   "source": [
    "num = 563\n",
    "num /= 2\n",
    "print(num)"
   ]
  },
  {
   "cell_type": "markdown",
   "metadata": {},
   "source": [
    "\n",
    "Write a program to subtract 10 from a variable a using the -= operator."
   ]
  },
  {
   "cell_type": "code",
   "execution_count": 14,
   "metadata": {},
   "outputs": [
    {
     "name": "stdout",
     "output_type": "stream",
     "text": [
      "24\n"
     ]
    }
   ],
   "source": [
    "num = 34\n",
    "num -= 10\n",
    "print(num)"
   ]
  },
  {
   "cell_type": "markdown",
   "metadata": {},
   "source": [
    "\n",
    "Write a program to calculate the remainder when a variable b is divided by 4 using the %= operator."
   ]
  },
  {
   "cell_type": "code",
   "execution_count": 15,
   "metadata": {},
   "outputs": [
    {
     "name": "stdout",
     "output_type": "stream",
     "text": [
      "0\n",
      "1\n",
      "2\n"
     ]
    }
   ],
   "source": [
    "num = 20\n",
    "num %= 4\n",
    "print(num)\n",
    "\n",
    "num = 21\n",
    "num %= 4\n",
    "print(num)\n",
    "\n",
    "num = 22\n",
    "num %= 4\n",
    "print(num)"
   ]
  },
  {
   "cell_type": "markdown",
   "metadata": {},
   "source": [
    "## 3. Comparison Operators\n",
    "Comparison operators are used to compare two values.\n",
    "\n",
    "**Problems:**"
   ]
  },
  {
   "cell_type": "markdown",
   "metadata": {},
   "source": [
    "\n",
    "Write a program to check if a number is greater than 10."
   ]
  },
  {
   "cell_type": "code",
   "execution_count": 16,
   "metadata": {},
   "outputs": [
    {
     "name": "stdout",
     "output_type": "stream",
     "text": [
      "Num = 20\n",
      "Num != 20\n"
     ]
    }
   ],
   "source": [
    "# case 1\n",
    "num = 20\n",
    "if num==20:\n",
    "    print('Num = 20')\n",
    "else:\n",
    "    print('Num != 20')\n",
    "    \n",
    "# case 2\n",
    "num = 21\n",
    "if num==20:\n",
    "    print('Num = 20')\n",
    "else:\n",
    "    print('Num != 20')"
   ]
  },
  {
   "cell_type": "markdown",
   "metadata": {},
   "source": [
    "\n",
    "Write a program to check if two numbers are equal."
   ]
  },
  {
   "cell_type": "code",
   "execution_count": 17,
   "metadata": {},
   "outputs": [
    {
     "name": "stdout",
     "output_type": "stream",
     "text": [
      "45 = 45\n",
      "45 != 46\n"
     ]
    }
   ],
   "source": [
    "num1 = 45\n",
    "num2 = 45\n",
    "num3 = 46\n",
    "\n",
    "# case 1\n",
    "if num1 == num2:\n",
    "    print(f'{num1} = {num2}')\n",
    "else:\n",
    "    print(f'{num1} != {num2}')\n",
    "    \n",
    "# case 2 \n",
    "if num1 == num3:\n",
    "    print(f'{num1} = {num3}')\n",
    "else:\n",
    "    print(f'{num1} != {num3}')"
   ]
  },
  {
   "cell_type": "markdown",
   "metadata": {},
   "source": [
    "\n",
    "Write a program to check if a number is less than or equal to 100."
   ]
  },
  {
   "cell_type": "code",
   "execution_count": 18,
   "metadata": {},
   "outputs": [
    {
     "name": "stdout",
     "output_type": "stream",
     "text": [
      "56 < 100\n",
      "200 > 100\n"
     ]
    }
   ],
   "source": [
    "num1 = 56\n",
    "num2 = 200\n",
    "\n",
    "# case 1\n",
    "if num1 < 100:\n",
    "    print(f'{num1} < 100')\n",
    "else:\n",
    "    print(f'{num1} > 100')\n",
    "    \n",
    "# case 2\n",
    "if num2 < 100:\n",
    "    print(f'{num2} < 100')\n",
    "else:\n",
    "    print(f'{num2} > 100')"
   ]
  },
  {
   "cell_type": "markdown",
   "metadata": {},
   "source": [
    "\n",
    "Write a program to check if a number is not equal to 50."
   ]
  },
  {
   "cell_type": "code",
   "execution_count": 19,
   "metadata": {},
   "outputs": [
    {
     "name": "stdout",
     "output_type": "stream",
     "text": [
      "50 = 50\n",
      "45 != 50\n"
     ]
    }
   ],
   "source": [
    "num1 = 50\n",
    "num2 = 45\n",
    "\n",
    "# case 1\n",
    "if num1 == 50:\n",
    "    print(f'{num1} = 50')\n",
    "else:\n",
    "    print(f'{num1} != 50')\n",
    "\n",
    "# case 2\n",
    "if num2 == 50:\n",
    "    print(f'{num2} = 50')\n",
    "else:\n",
    "    print(f'{num2} != 50')"
   ]
  },
  {
   "cell_type": "markdown",
   "metadata": {},
   "source": [
    "\n",
    "Write a program to check if a number is between 20 and 50 (inclusive)."
   ]
  },
  {
   "cell_type": "code",
   "execution_count": 20,
   "metadata": {},
   "outputs": [
    {
     "name": "stdout",
     "output_type": "stream",
     "text": [
      "34 is between 20 nd 50\n",
      "34 is not between 20 nd 50\n"
     ]
    }
   ],
   "source": [
    "num1 = 34\n",
    "num2 = 55\n",
    "\n",
    "# case 1\n",
    "if num1 >= 20 and num1 <=50:\n",
    "    print(f'{num1} is between 20 nd 50')\n",
    "else:\n",
    "    print(f'{num1} is not between 20 nd 50')\n",
    "\n",
    "# case 2\n",
    "if num2 >= 20 and num2 <=50:\n",
    "    print(f'{num1} is between 20 nd 50')\n",
    "else:\n",
    "    print(f'{num1} is not between 20 nd 50')"
   ]
  },
  {
   "cell_type": "markdown",
   "metadata": {},
   "source": [
    "## 4. Logical Operators\n",
    "Logical operators are used to combine conditional statements.\n",
    "\n",
    "**Problems:**"
   ]
  },
  {
   "cell_type": "markdown",
   "metadata": {},
   "source": [
    "\n",
    "Write a program to check if a number is positive and even."
   ]
  },
  {
   "cell_type": "code",
   "execution_count": 21,
   "metadata": {},
   "outputs": [
    {
     "name": "stdout",
     "output_type": "stream",
     "text": [
      "45 is not Positive and Even\n",
      "22 is Positive and Even\n",
      "-5 is not Positive and Even\n",
      "-4 is not Positive and Even\n",
      "0 is not Positive and Even\n",
      "468 is Positive and Even\n",
      "0 is not Positive and Even\n",
      "18.0 is Positive and Even\n",
      "4.5 is not Positive and Even\n",
      "2 is Positive and Even\n"
     ]
    }
   ],
   "source": [
    "def check_positive_even(num):\n",
    "    if num%2==0 and num>0:\n",
    "        print(f'{num} is Positive and Even')\n",
    "    else:\n",
    "        print(f'{num} is not Positive and Even')\n",
    "\n",
    "# test\n",
    "check_positive_even(45)\n",
    "check_positive_even(22)\n",
    "check_positive_even(-5)\n",
    "check_positive_even(-4)\n",
    "check_positive_even(0)\n",
    "check_positive_even(468)\n",
    "check_positive_even(-0)\n",
    "check_positive_even(90/5)\n",
    "check_positive_even(9/2)\n",
    "check_positive_even(9-7)"
   ]
  },
  {
   "cell_type": "markdown",
   "metadata": {},
   "source": [
    "\n",
    "Write a program to check if a number is divisible by 3 or 5."
   ]
  },
  {
   "cell_type": "code",
   "execution_count": 22,
   "metadata": {},
   "outputs": [
    {
     "name": "stdout",
     "output_type": "stream",
     "text": [
      "15 is divisble by, 3 and 5\n",
      "3 is not divisble by, 3 and 5\n",
      "18 is not divisble by, 3 and 5\n",
      "30 is divisble by, 3 and 5\n",
      "-30 is divisble by, 3 and 5\n",
      "-15 is divisble by, 3 and 5\n",
      "0 is not divisble by, 3 and 5\n",
      "90 is divisble by, 3 and 5\n"
     ]
    }
   ],
   "source": [
    "def check_div_by_3_and_5(num):\n",
    "    if num%5==0 and num%3==0 and num!=0:\n",
    "        print(f'{num} is divisble by, 3 and 5')\n",
    "    else:\n",
    "        print(f'{num} is not divisble by, 3 and 5')\n",
    "\n",
    "# test\n",
    "check_div_by_3_and_5(15)\n",
    "check_div_by_3_and_5(3)\n",
    "check_div_by_3_and_5(18)\n",
    "check_div_by_3_and_5(30)\n",
    "check_div_by_3_and_5(-30)\n",
    "check_div_by_3_and_5(-15)\n",
    "check_div_by_3_and_5(0)\n",
    "check_div_by_3_and_5(90)"
   ]
  },
  {
   "cell_type": "markdown",
   "metadata": {},
   "source": [
    "\n",
    "Write a program to check if a number is not divisible by both 2 and 3."
   ]
  },
  {
   "cell_type": "code",
   "execution_count": 23,
   "metadata": {},
   "outputs": [
    {
     "name": "stdout",
     "output_type": "stream",
     "text": [
      "15 is not divisble by, 3 and 2\n",
      "3 is not divisble by, 3 and 2\n",
      "18 is divisble by, 3 and 2\n",
      "30 is divisble by, 3 and 2\n",
      "-30 is divisble by, 3 and 2\n",
      "-15 is not divisble by, 3 and 2\n",
      "0 is not divisble by, 3 and 2\n",
      "90 is divisble by, 3 and 2\n"
     ]
    }
   ],
   "source": [
    "def check_div_by_3_and_5(num):\n",
    "    if num%2==0 and num%3==0 and num!=0:\n",
    "        print(f'{num} is divisble by, 3 and 2')\n",
    "    else:\n",
    "        print(f'{num} is not divisble by, 3 and 2')\n",
    "\n",
    "# test\n",
    "check_div_by_3_and_5(15)\n",
    "check_div_by_3_and_5(3)\n",
    "check_div_by_3_and_5(18)\n",
    "check_div_by_3_and_5(30)\n",
    "check_div_by_3_and_5(-30)\n",
    "check_div_by_3_and_5(-15)\n",
    "check_div_by_3_and_5(0)\n",
    "check_div_by_3_and_5(90)"
   ]
  },
  {
   "cell_type": "markdown",
   "metadata": {},
   "source": [
    "\n",
    "Write a program to check if a number is either less than 10 or greater than 100."
   ]
  },
  {
   "cell_type": "code",
   "execution_count": 24,
   "metadata": {},
   "outputs": [
    {
     "name": "stdout",
     "output_type": "stream",
     "text": [
      "2 is less than 10 or greater than 100\n",
      "5 is less than 10 or greater than 100\n",
      "34 is not less than 10 or greater than 100\n",
      "0 is less than 10 or greater than 100\n",
      "-4 is less than 10 or greater than 100\n",
      "57 is not less than 10 or greater than 100\n",
      "101 is less than 10 or greater than 100\n",
      "347 is less than 10 or greater than 100\n"
     ]
    }
   ],
   "source": [
    "def check_less_10_greater_100(num):\n",
    "    if num < 10 or num > 100:\n",
    "        print(f'{num} is less than 10 or greater than 100')\n",
    "    else:\n",
    "        print(f'{num} is not less than 10 or greater than 100')\n",
    "\n",
    "# test\n",
    "check_less_10_greater_100(2)\n",
    "check_less_10_greater_100(5)\n",
    "check_less_10_greater_100(34)\n",
    "check_less_10_greater_100(0)\n",
    "check_less_10_greater_100(-4)\n",
    "check_less_10_greater_100(57)\n",
    "check_less_10_greater_100(101)\n",
    "check_less_10_greater_100(347)"
   ]
  },
  {
   "cell_type": "markdown",
   "metadata": {},
   "source": [
    "Write a program to check if a number is between 1 and 100 but not equal to 50."
   ]
  },
  {
   "cell_type": "code",
   "execution_count": 25,
   "metadata": {},
   "outputs": [
    {
     "name": "stdout",
     "output_type": "stream",
     "text": [
      "34 is between 1 and 100 but not equal to 50\n",
      "50 is between 1 and 100 and equal to 50\n",
      "100 is either not between 1 and 100 or not equal to 50\n",
      "-3 is either not between 1 and 100 or not equal to 50\n",
      "300 is either not between 1 and 100 or not equal to 50\n",
      "45 is between 1 and 100 but not equal to 50\n",
      "200 is either not between 1 and 100 or not equal to 50\n"
     ]
    }
   ],
   "source": [
    "def check_btw_1_100_not_50(num):\n",
    "    if num>1 and num <100 and num!=50:\n",
    "        print(f'{num} is between 1 and 100 but not equal to 50')\n",
    "    elif num>1 and num <100 and num==50:\n",
    "        print(f'{num} is between 1 and 100 and equal to 50')\n",
    "    else:\n",
    "        print(f'{num} is either not between 1 and 100 or not equal to 50')\n",
    "# test\n",
    "check_btw_1_100_not_50(34)\n",
    "check_btw_1_100_not_50(50)\n",
    "check_btw_1_100_not_50(100)\n",
    "check_btw_1_100_not_50(-3)\n",
    "check_btw_1_100_not_50(300)\n",
    "check_btw_1_100_not_50(45)\n",
    "check_btw_1_100_not_50(200)"
   ]
  },
  {
   "cell_type": "markdown",
   "metadata": {},
   "source": [
    "## Mixed Problems:"
   ]
  },
  {
   "cell_type": "markdown",
   "metadata": {},
   "source": [
    "Write a program to calculate the total cost of apples. Take the number of apples and price per apple as input. If the total cost is greater than 100, give a 10% discount."
   ]
  },
  {
   "cell_type": "code",
   "execution_count": 11,
   "metadata": {},
   "outputs": [
    {
     "name": "stdout",
     "output_type": "stream",
     "text": [
      "Total Price: 100\n",
      "Final Price: 100\n",
      "\n",
      "Total Price: 120\n",
      "You have been given 10% discount\n",
      "Final price is: 108.0\n",
      "\n",
      "Enter valid price/ number of items!\n",
      "\n",
      "Enter valid price/ number of items!\n",
      "\n"
     ]
    }
   ],
   "source": [
    "def discount(num_of_apples, price_per_apple):\n",
    "    if num_of_apples>0 and price_per_apple>0:\n",
    "        # original price\n",
    "        total_price = num_of_apples * price_per_apple\n",
    "        print(f'Total Price: {total_price}')\n",
    "        # discount\n",
    "        if total_price > 100:\n",
    "            final_price = total_price - total_price * 0.1\n",
    "            print(f'You have been given 10% discount\\nFinal price is: {final_price}\\n')\n",
    "        else: \n",
    "            print(f'Final Price: {total_price}\\n')\n",
    "    else:\n",
    "        print('Enter valid price/ number of items!\\n')\n",
    "\n",
    "# test\n",
    "discount(5, 20)\n",
    "discount(6, 20)\n",
    "discount(-4, 20)\n",
    "discount(4, -20)"
   ]
  },
  {
   "cell_type": "markdown",
   "metadata": {},
   "source": [
    "\n",
    "Write a program to check if a year is a leap year."
   ]
  },
  {
   "cell_type": "markdown",
   "metadata": {},
   "source": [
    "A year is a leap year if it is divisible by 4 but not by 100, unless it is also divisible by 400."
   ]
  },
  {
   "cell_type": "code",
   "execution_count": 18,
   "metadata": {},
   "outputs": [
    {
     "name": "stdout",
     "output_type": "stream",
     "text": [
      "2024 is a leap year!\n",
      "2025 is not a leap year!\n",
      "2026 is not a leap year!\n",
      "2027 is not a leap year!\n",
      "2028 is a leap year!\n",
      "2029 is not a leap year!\n",
      "2030 is not a leap year!\n",
      "2031 is not a leap year!\n",
      "2032 is a leap year!\n",
      "2033 is not a leap year!\n"
     ]
    }
   ],
   "source": [
    "def is_leap(year):\n",
    "    if year%4 == 0 or year%400 == 0 and year%100 != 0:\n",
    "        print(f'{year} is a leap year!')\n",
    "    else:\n",
    "        print(f'{year} is not a leap year!')\n",
    "\n",
    "# test\n",
    "is_leap(2024)\n",
    "is_leap(2025)\n",
    "is_leap(2026)\n",
    "is_leap(2027)\n",
    "is_leap(2028)\n",
    "is_leap(2029)\n",
    "is_leap(2030)\n",
    "is_leap(2031)\n",
    "is_leap(2032)\n",
    "is_leap(2033)"
   ]
  },
  {
   "cell_type": "markdown",
   "metadata": {},
   "source": [
    "\n",
    "Write a program to check if a triangle is valid. Take the lengths of the three sides as input.\n",
    "\n",
    "A triangle is valid if the sum of any two sides is greater than the third side."
   ]
  },
  {
   "cell_type": "code",
   "execution_count": 26,
   "metadata": {},
   "outputs": [
    {
     "name": "stdout",
     "output_type": "stream",
     "text": [
      "Valid triangle!\n",
      "Not a valid triangle!\n",
      "Valid triangle!\n",
      "Not a valid triangle!\n",
      "Not a valid triangle!\n"
     ]
    }
   ],
   "source": [
    "def is_triangle(side1, side2, side3):\n",
    "    if (side1+side2 > side3 ) and (side1+side3 > side2) and (side2+side3 > side1):\n",
    "        print('Valid triangle!')\n",
    "    else:\n",
    "        print('Not a valid triangle!')\n",
    "\n",
    "is_triangle(4,5,2)\n",
    "is_triangle(0,0,0)\n",
    "is_triangle(2,2,2)\n",
    "is_triangle(2,2,-2)\n",
    "is_triangle(-2,-2,-2)"
   ]
  },
  {
   "cell_type": "markdown",
   "metadata": {},
   "source": [
    "\n",
    "Write a program to check if a number is a palindrome.\n",
    "\n",
    "A palindrome is a number that remains the same when its digits are reversed (e.g., 121)."
   ]
  },
  {
   "cell_type": "code",
   "execution_count": 37,
   "metadata": {},
   "outputs": [
    {
     "name": "stdout",
     "output_type": "stream",
     "text": [
      "121 is a palindrome!\n",
      "111 is a palindrome!\n",
      "900 is not a palindrome!\n",
      "333 is a palindrome!\n",
      "90 is not a palindrome!\n",
      "0 is a palindrome!\n",
      "8 is a palindrome!\n",
      "Please enter a valid positive number!\n",
      "Please enter a valid positive number!\n"
     ]
    }
   ],
   "source": [
    "def is_palindrome(num):\n",
    "    if num >= 0:\n",
    "        num = str(num)\n",
    "        if num == num[::-1]:\n",
    "            print(f'{num} is a palindrome!')\n",
    "        else:\n",
    "            print(f'{num} is not a palindrome!')\n",
    "    else:\n",
    "        print('Please enter a valid positive number!')\n",
    "\n",
    "# test\n",
    "is_palindrome(121)\n",
    "is_palindrome(111)\n",
    "is_palindrome(900)\n",
    "is_palindrome(333)\n",
    "is_palindrome(90)\n",
    "is_palindrome(0)\n",
    "is_palindrome(8)\n",
    "is_palindrome(-8)\n",
    "is_palindrome(-989)"
   ]
  }
 ],
 "metadata": {
  "kernelspec": {
   "display_name": "Python 3",
   "language": "python",
   "name": "python3"
  },
  "language_info": {
   "codemirror_mode": {
    "name": "ipython",
    "version": 3
   },
   "file_extension": ".py",
   "mimetype": "text/x-python",
   "name": "python",
   "nbconvert_exporter": "python",
   "pygments_lexer": "ipython3",
   "version": "3.13.1"
  }
 },
 "nbformat": 4,
 "nbformat_minor": 2
}
