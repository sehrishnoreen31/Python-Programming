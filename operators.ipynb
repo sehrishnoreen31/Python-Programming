{
 "cells": [
  {
   "cell_type": "markdown",
   "metadata": {},
   "source": [
    "# Operators"
   ]
  },
  {
   "cell_type": "markdown",
   "metadata": {},
   "source": [
    "## 1. Arithmetic Operators\n",
    "Arithmetic operators are used to perform mathematical operations like addition, subtraction, multiplication, etc.\n",
    "\n",
    "**Problems:**"
   ]
  },
  {
   "cell_type": "markdown",
   "metadata": {
    "vscode": {
     "languageId": "plaintext"
    }
   },
   "source": [
    "Write a program to calculate the area of a rectangle. Take length and width as input from the user.\n",
    "\n",
    "Area = 1/2 (base * height)"
   ]
  },
  {
   "cell_type": "code",
   "execution_count": 6,
   "metadata": {},
   "outputs": [
    {
     "name": "stdout",
     "output_type": "stream",
     "text": [
      "Area of trangle: 2025\n"
     ]
    }
   ],
   "source": [
    "height = 90\n",
    "base = 45\n",
    "area = 1/2 * ( base * height)\n",
    "print(f'Area of trangle: {int(area)}')"
   ]
  },
  {
   "cell_type": "markdown",
   "metadata": {
    "vscode": {
     "languageId": "plaintext"
    }
   },
   "source": [
    "Write a program to calculate the simple interest. Take principal, rate, and time as input from the user."
   ]
  },
  {
   "cell_type": "code",
   "execution_count": 10,
   "metadata": {},
   "outputs": [
    {
     "name": "stdout",
     "output_type": "stream",
     "text": [
      "Interset : 600%\n"
     ]
    }
   ],
   "source": [
    "principle = 10000 # actual loan\n",
    "rate = 2 # % per annum\n",
    "time = 3 # years\n",
    "\n",
    "interest = (principle * time * rate) / 100\n",
    "\n",
    "print(f'Interset : {int(interest)}%')"
   ]
  },
  {
   "cell_type": "markdown",
   "metadata": {},
   "source": [
    "Write a program to swap two numbers without using a third variable."
   ]
  },
  {
   "cell_type": "code",
   "execution_count": 12,
   "metadata": {},
   "outputs": [
    {
     "name": "stdout",
     "output_type": "stream",
     "text": [
      "Original values: a = 23\tb = 45\n",
      "After swappping: a = 45\tb = 23\n"
     ]
    }
   ],
   "source": [
    "a = 23\n",
    "b = 45\n",
    "\n",
    "# original values\n",
    "print(f'Original values: a = {a}\\tb = {b}')\n",
    "a, b = b, a\n",
    "\n",
    "print(f'After swappping: a = {a}\\tb = {b}')"
   ]
  },
  {
   "cell_type": "markdown",
   "metadata": {},
   "source": [
    "Write a program to calculate the remainder when one number is divided by another."
   ]
  },
  {
   "cell_type": "code",
   "execution_count": 14,
   "metadata": {},
   "outputs": [
    {
     "name": "stdout",
     "output_type": "stream",
     "text": [
      "Remainder: 9\n"
     ]
    }
   ],
   "source": [
    "num1 = 89\n",
    "num2 = 40\n",
    "rem = num1%num2\n",
    "\n",
    "print(f'Remainder: {rem}')"
   ]
  },
  {
   "cell_type": "markdown",
   "metadata": {},
   "source": [
    "Write a program to calculate the power of a number. Take the base and exponent as input from the user."
   ]
  },
  {
   "cell_type": "code",
   "execution_count": 15,
   "metadata": {},
   "outputs": [
    {
     "name": "stdout",
     "output_type": "stream",
     "text": [
      "4^3 = 64\n"
     ]
    }
   ],
   "source": [
    "num = 4\n",
    "num_power_3 = num**3\n",
    "\n",
    "print(f'4^3 = {num_power_3}')"
   ]
  },
  {
   "cell_type": "code",
   "execution_count": 16,
   "metadata": {},
   "outputs": [
    {
     "name": "stdout",
     "output_type": "stream",
     "text": [
      "125\n",
      "343\n",
      "39304\n",
      "32768\n",
      "91125\n",
      "12167\n"
     ]
    }
   ],
   "source": [
    "nums = [5,7,34,32,45,23]\n",
    "for num in nums:\n",
    "    print(num**3)"
   ]
  },
  {
   "cell_type": "markdown",
   "metadata": {},
   "source": [
    "## 2. Assignment Operators\n",
    "Assignment operators are used to assign values to variables.\n",
    "\n",
    "**Problems:**"
   ]
  },
  {
   "cell_type": "markdown",
   "metadata": {},
   "source": [
    "Write a program to add 5 to a variable x using the += operator."
   ]
  },
  {
   "cell_type": "code",
   "execution_count": 21,
   "metadata": {},
   "outputs": [
    {
     "name": "stdout",
     "output_type": "stream",
     "text": [
      "13\n"
     ]
    }
   ],
   "source": [
    "x = 8\n",
    "x += 5\n",
    "print(x)"
   ]
  },
  {
   "cell_type": "markdown",
   "metadata": {},
   "source": [
    "\n",
    "Write a program to multiply a variable y by 3 using the *= operator."
   ]
  },
  {
   "cell_type": "code",
   "execution_count": 22,
   "metadata": {},
   "outputs": [
    {
     "name": "stdout",
     "output_type": "stream",
     "text": [
      "135\n"
     ]
    }
   ],
   "source": [
    "num = 45\n",
    "num *= 3\n",
    "print(num)"
   ]
  },
  {
   "cell_type": "markdown",
   "metadata": {},
   "source": [
    "\n",
    "\n",
    "Write a program to divide a variable z by 2 using the /= operator."
   ]
  },
  {
   "cell_type": "code",
   "execution_count": 23,
   "metadata": {},
   "outputs": [
    {
     "name": "stdout",
     "output_type": "stream",
     "text": [
      "281.5\n"
     ]
    }
   ],
   "source": [
    "num = 563\n",
    "num /= 2\n",
    "print(num)"
   ]
  },
  {
   "cell_type": "markdown",
   "metadata": {},
   "source": [
    "\n",
    "Write a program to subtract 10 from a variable a using the -= operator."
   ]
  },
  {
   "cell_type": "code",
   "execution_count": 24,
   "metadata": {},
   "outputs": [
    {
     "name": "stdout",
     "output_type": "stream",
     "text": [
      "24\n"
     ]
    }
   ],
   "source": [
    "num = 34\n",
    "num -= 10\n",
    "print(num)"
   ]
  },
  {
   "cell_type": "markdown",
   "metadata": {},
   "source": [
    "\n",
    "Write a program to calculate the remainder when a variable b is divided by 4 using the %= operator."
   ]
  },
  {
   "cell_type": "code",
   "execution_count": 30,
   "metadata": {},
   "outputs": [
    {
     "name": "stdout",
     "output_type": "stream",
     "text": [
      "0\n",
      "1\n",
      "2\n"
     ]
    }
   ],
   "source": [
    "num = 20\n",
    "num %= 4\n",
    "print(num)\n",
    "\n",
    "num = 21\n",
    "num %= 4\n",
    "print(num)\n",
    "\n",
    "num = 22\n",
    "num %= 4\n",
    "print(num)"
   ]
  },
  {
   "cell_type": "markdown",
   "metadata": {},
   "source": [
    "## 3. Comparison Operators\n",
    "Comparison operators are used to compare two values.\n",
    "\n",
    "**Problems:**"
   ]
  },
  {
   "cell_type": "markdown",
   "metadata": {},
   "source": [
    "\n",
    "Write a program to check if a number is greater than 10."
   ]
  },
  {
   "cell_type": "code",
   "execution_count": 46,
   "metadata": {},
   "outputs": [
    {
     "name": "stdout",
     "output_type": "stream",
     "text": [
      "Num = 20\n",
      "Num != 20\n"
     ]
    }
   ],
   "source": [
    "# case 1\n",
    "num = 20\n",
    "if num==20:\n",
    "    print('Num = 20')\n",
    "else:\n",
    "    print('Num != 20')\n",
    "    \n",
    "# case 2\n",
    "num = 21\n",
    "if num==20:\n",
    "    print('Num = 20')\n",
    "else:\n",
    "    print('Num != 20')"
   ]
  },
  {
   "cell_type": "markdown",
   "metadata": {},
   "source": [
    "\n",
    "Write a program to check if two numbers are equal."
   ]
  },
  {
   "cell_type": "code",
   "execution_count": 47,
   "metadata": {},
   "outputs": [
    {
     "name": "stdout",
     "output_type": "stream",
     "text": [
      "45 = 45\n",
      "45 != 46\n"
     ]
    }
   ],
   "source": [
    "num1 = 45\n",
    "num2 = 45\n",
    "num3 = 46\n",
    "\n",
    "# case 1\n",
    "if num1 == num2:\n",
    "    print(f'{num1} = {num2}')\n",
    "else:\n",
    "    print(f'{num1} != {num2}')\n",
    "    \n",
    "# case 2 \n",
    "if num1 == num3:\n",
    "    print(f'{num1} = {num3}')\n",
    "else:\n",
    "    print(f'{num1} != {num3}')"
   ]
  },
  {
   "cell_type": "markdown",
   "metadata": {},
   "source": [
    "\n",
    "Write a program to check if a number is less than or equal to 100."
   ]
  },
  {
   "cell_type": "code",
   "execution_count": 48,
   "metadata": {},
   "outputs": [
    {
     "name": "stdout",
     "output_type": "stream",
     "text": [
      "56 < 100\n",
      "200 > 100\n"
     ]
    }
   ],
   "source": [
    "num1 = 56\n",
    "num2 = 200\n",
    "\n",
    "# case 1\n",
    "if num1 < 100:\n",
    "    print(f'{num1} < 100')\n",
    "else:\n",
    "    print(f'{num1} > 100')\n",
    "    \n",
    "# case 2\n",
    "if num2 < 100:\n",
    "    print(f'{num2} < 100')\n",
    "else:\n",
    "    print(f'{num2} > 100')"
   ]
  },
  {
   "cell_type": "markdown",
   "metadata": {},
   "source": [
    "\n",
    "Write a program to check if a number is not equal to 50."
   ]
  },
  {
   "cell_type": "code",
   "execution_count": 49,
   "metadata": {},
   "outputs": [
    {
     "name": "stdout",
     "output_type": "stream",
     "text": [
      "50 = 50\n",
      "45 != 50\n"
     ]
    }
   ],
   "source": [
    "num1 = 50\n",
    "num2 = 45\n",
    "\n",
    "# case 1\n",
    "if num1 == 50:\n",
    "    print(f'{num1} = 50')\n",
    "else:\n",
    "    print(f'{num1} != 50')\n",
    "\n",
    "# case 2\n",
    "if num2 == 50:\n",
    "    print(f'{num2} = 50')\n",
    "else:\n",
    "    print(f'{num2} != 50')"
   ]
  },
  {
   "cell_type": "markdown",
   "metadata": {},
   "source": [
    "\n",
    "Write a program to check if a number is between 20 and 50 (inclusive)."
   ]
  },
  {
   "cell_type": "code",
   "execution_count": 50,
   "metadata": {},
   "outputs": [
    {
     "name": "stdout",
     "output_type": "stream",
     "text": [
      "34 is between 20 nd 50\n",
      "34 is not between 20 nd 50\n"
     ]
    }
   ],
   "source": [
    "num1 = 34\n",
    "num2 = 55\n",
    "\n",
    "# case 1\n",
    "if num1 >= 20 and num1 <=50:\n",
    "    print(f'{num1} is between 20 nd 50')\n",
    "else:\n",
    "    print(f'{num1} is not between 20 nd 50')\n",
    "\n",
    "# case 2\n",
    "if num2 >= 20 and num2 <=50:\n",
    "    print(f'{num1} is between 20 nd 50')\n",
    "else:\n",
    "    print(f'{num1} is not between 20 nd 50')"
   ]
  }
 ],
 "metadata": {
  "kernelspec": {
   "display_name": "Python 3",
   "language": "python",
   "name": "python3"
  },
  "language_info": {
   "codemirror_mode": {
    "name": "ipython",
    "version": 3
   },
   "file_extension": ".py",
   "mimetype": "text/x-python",
   "name": "python",
   "nbconvert_exporter": "python",
   "pygments_lexer": "ipython3",
   "version": "3.13.1"
  }
 },
 "nbformat": 4,
 "nbformat_minor": 2
}
