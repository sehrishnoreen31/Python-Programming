{
 "cells": [
  {
   "cell_type": "markdown",
   "metadata": {},
   "source": [
    "# List"
   ]
  },
  {
   "cell_type": "markdown",
   "metadata": {},
   "source": [
    "## Declaration"
   ]
  },
  {
   "cell_type": "markdown",
   "metadata": {},
   "source": [
    "### List Declaration Using [ ]"
   ]
  },
  {
   "cell_type": "code",
   "execution_count": 158,
   "metadata": {},
   "outputs": [
    {
     "name": "stdout",
     "output_type": "stream",
     "text": [
      "['Banana', 'Apple', 'Grapes', 'BlueBerry', 'Watermelon']\n"
     ]
    }
   ],
   "source": [
    "fruits_list = ['Banana', 'Apple', 'Grapes', 'BlueBerry', 'Watermelon']\n",
    "print(fruits_list)"
   ]
  },
  {
   "cell_type": "markdown",
   "metadata": {},
   "source": [
    "### List Declaration Using list() constructor"
   ]
  },
  {
   "cell_type": "code",
   "execution_count": 159,
   "metadata": {},
   "outputs": [
    {
     "data": {
      "text/plain": [
       "['Banana', 'Apple', 'Grapes', 'BlueBerry', 'Watermelon']"
      ]
     },
     "execution_count": 159,
     "metadata": {},
     "output_type": "execute_result"
    }
   ],
   "source": [
    "fruits_list = list(('Banana', 'Apple', 'Grapes', 'BlueBerry', 'Watermelon'))\n",
    "fruits_list"
   ]
  },
  {
   "cell_type": "markdown",
   "metadata": {},
   "source": [
    "## List Methods"
   ]
  },
  {
   "cell_type": "markdown",
   "metadata": {},
   "source": [
    "### append()"
   ]
  },
  {
   "cell_type": "markdown",
   "metadata": {},
   "source": [
    "Append an element to end of list."
   ]
  },
  {
   "cell_type": "code",
   "execution_count": 160,
   "metadata": {},
   "outputs": [
    {
     "data": {
      "text/plain": [
       "['Banana', 'Apple', 'Grapes', 'BlueBerry', 'Watermelon', 'Kiwi']"
      ]
     },
     "execution_count": 160,
     "metadata": {},
     "output_type": "execute_result"
    }
   ],
   "source": [
    "fruits_list.append('Kiwi')\n",
    "fruits_list"
   ]
  },
  {
   "cell_type": "code",
   "execution_count": 161,
   "metadata": {},
   "outputs": [
    {
     "data": {
      "text/plain": [
       "['Banana', 'Apple', 'Grapes', 'BlueBerry', 'Watermelon', 'Kiwi', 'Mulberry']"
      ]
     },
     "execution_count": 161,
     "metadata": {},
     "output_type": "execute_result"
    }
   ],
   "source": [
    "fruits_list.append('Mulberry')\n",
    "fruits_list"
   ]
  },
  {
   "cell_type": "markdown",
   "metadata": {},
   "source": [
    "### insert()"
   ]
  },
  {
   "cell_type": "markdown",
   "metadata": {},
   "source": [
    "Insert an element at specified index."
   ]
  },
  {
   "cell_type": "code",
   "execution_count": 162,
   "metadata": {},
   "outputs": [
    {
     "data": {
      "text/plain": [
       "'Strawberry'"
      ]
     },
     "execution_count": 162,
     "metadata": {},
     "output_type": "execute_result"
    }
   ],
   "source": [
    "fruits_list.insert(6, 'Strawberry')\n",
    "fruits_list[6]"
   ]
  },
  {
   "cell_type": "code",
   "execution_count": 163,
   "metadata": {},
   "outputs": [
    {
     "data": {
      "text/plain": [
       "['Banana',\n",
       " 'Apple',\n",
       " 'Grapes',\n",
       " 'BlueBerry',\n",
       " 'Watermelon',\n",
       " 'Kiwi',\n",
       " 'Strawberry',\n",
       " 'Mulberry',\n",
       " 'Mango']"
      ]
     },
     "execution_count": 163,
     "metadata": {},
     "output_type": "execute_result"
    }
   ],
   "source": [
    "fruits_list.insert(10, 'Mango')\n",
    "fruits_list"
   ]
  },
  {
   "cell_type": "code",
   "execution_count": 164,
   "metadata": {},
   "outputs": [
    {
     "data": {
      "text/plain": [
       "['Banana',\n",
       " 'Apple',\n",
       " 'Grapes',\n",
       " 'BlueBerry',\n",
       " 'Watermelon',\n",
       " 'Kiwi',\n",
       " 'Strawberry',\n",
       " 'Mulberry',\n",
       " 'Mango',\n",
       " 'Raspeberry']"
      ]
     },
     "execution_count": 164,
     "metadata": {},
     "output_type": "execute_result"
    }
   ],
   "source": [
    "fruits_list.insert(60, 'Raspeberry')\n",
    "fruits_list"
   ]
  },
  {
   "cell_type": "code",
   "execution_count": 165,
   "metadata": {},
   "outputs": [
    {
     "data": {
      "text/plain": [
       "10"
      ]
     },
     "execution_count": 165,
     "metadata": {},
     "output_type": "execute_result"
    }
   ],
   "source": [
    "len(fruits_list)"
   ]
  },
  {
   "cell_type": "markdown",
   "metadata": {},
   "source": [
    "### count()"
   ]
  },
  {
   "cell_type": "markdown",
   "metadata": {},
   "source": [
    "The number of elements with the specified value"
   ]
  },
  {
   "cell_type": "code",
   "execution_count": 166,
   "metadata": {},
   "outputs": [
    {
     "name": "stdout",
     "output_type": "stream",
     "text": [
      "1\n",
      "1\n",
      "0\n",
      "1\n",
      "0\n"
     ]
    }
   ],
   "source": [
    "print(fruits_list.count('Banana'))\n",
    "print(fruits_list.count('Apple'))\n",
    "print(fruits_list.count('apple'))\n",
    "print(fruits_list.count('Strawberry'))\n",
    "print(fruits_list.count(0))"
   ]
  },
  {
   "cell_type": "markdown",
   "metadata": {},
   "source": [
    "### index()"
   ]
  },
  {
   "cell_type": "markdown",
   "metadata": {},
   "source": [
    "Index of specified value."
   ]
  },
  {
   "cell_type": "code",
   "execution_count": 167,
   "metadata": {},
   "outputs": [
    {
     "name": "stdout",
     "output_type": "stream",
     "text": [
      "Index of Banana:  0\n",
      "Index of Strawberry:  6\n",
      "Index of Apple:  1\n"
     ]
    }
   ],
   "source": [
    "print('Index of Banana: ', fruits_list.index('Banana'))\n",
    "print('Index of Strawberry: ', fruits_list.index('Strawberry'))\n",
    "print('Index of Apple: ', fruits_list.index('Apple'))\n",
    "# print('Index of apple: ', fruits_list.index('apple')) # error\n",
    "# print('Index of Orange: ', fruits_list.index('Orange')) # error\n",
    "# print('Index of 6: ', fruits_list.index(6)) # error\n"
   ]
  },
  {
   "cell_type": "markdown",
   "metadata": {},
   "source": [
    "### reverse()"
   ]
  },
  {
   "cell_type": "markdown",
   "metadata": {},
   "source": [
    "Reverse the list order."
   ]
  },
  {
   "cell_type": "code",
   "execution_count": 168,
   "metadata": {},
   "outputs": [
    {
     "name": "stdout",
     "output_type": "stream",
     "text": [
      "Fruits List ['Banana', 'Apple', 'Grapes', 'BlueBerry', 'Watermelon', 'Kiwi', 'Strawberry', 'Mulberry', 'Mango', 'Raspeberry'] \n",
      "\n",
      "Reversed Fruits List:  ['Raspeberry', 'Mango', 'Mulberry', 'Strawberry', 'Kiwi', 'Watermelon', 'BlueBerry', 'Grapes', 'Apple', 'Banana']\n"
     ]
    }
   ],
   "source": [
    "print('Fruits List', fruits_list, '\\n')\n",
    "fruits_list.reverse()\n",
    "print('Reversed Fruits List: ', fruits_list)"
   ]
  },
  {
   "cell_type": "markdown",
   "metadata": {},
   "source": [
    "### copy()"
   ]
  },
  {
   "cell_type": "markdown",
   "metadata": {},
   "source": [
    "Make copy of a list."
   ]
  },
  {
   "cell_type": "code",
   "execution_count": 169,
   "metadata": {},
   "outputs": [
    {
     "name": "stdout",
     "output_type": "stream",
     "text": [
      "Copy of fruits list:  ['Raspeberry', 'Mango', 'Mulberry', 'Strawberry', 'Kiwi', 'Watermelon', 'BlueBerry', 'Grapes', 'Apple', 'Banana']\n"
     ]
    }
   ],
   "source": [
    "new_fruits_list = fruits_list.copy()\n",
    "print('Copy of fruits list: ', new_fruits_list)"
   ]
  },
  {
   "cell_type": "markdown",
   "metadata": {},
   "source": [
    "### sort()"
   ]
  },
  {
   "cell_type": "markdown",
   "metadata": {},
   "source": [
    "Sort list elements."
   ]
  },
  {
   "cell_type": "code",
   "execution_count": 170,
   "metadata": {},
   "outputs": [
    {
     "name": "stdout",
     "output_type": "stream",
     "text": [
      "Sorted fruits list:  ['Apple', 'Banana', 'BlueBerry', 'Grapes', 'Kiwi', 'Mango', 'Mulberry', 'Raspeberry', 'Strawberry', 'Watermelon']\n"
     ]
    }
   ],
   "source": [
    "fruits_list.sort()\n",
    "print('Sorted fruits list: ', fruits_list)"
   ]
  },
  {
   "cell_type": "markdown",
   "metadata": {},
   "source": [
    "### extend()"
   ]
  },
  {
   "cell_type": "markdown",
   "metadata": {},
   "source": [
    "Add another list to end of a list."
   ]
  },
  {
   "cell_type": "code",
   "execution_count": 171,
   "metadata": {},
   "outputs": [
    {
     "data": {
      "text/plain": [
       "['Apple',\n",
       " 'Banana',\n",
       " 'BlueBerry',\n",
       " 'Grapes',\n",
       " 'Kiwi',\n",
       " 'Mango',\n",
       " 'Mulberry',\n",
       " 'Raspeberry',\n",
       " 'Strawberry',\n",
       " 'Watermelon',\n",
       " 'Orange',\n",
       " 'Lemon',\n",
       " 'Lime']"
      ]
     },
     "execution_count": 171,
     "metadata": {},
     "output_type": "execute_result"
    }
   ],
   "source": [
    "citrus_fruits = ['Orange', 'Lemon', 'Lime']\n",
    "fruits_list.extend(citrus_fruits)\n",
    "fruits_list"
   ]
  },
  {
   "cell_type": "markdown",
   "metadata": {},
   "source": [
    "### pop()"
   ]
  },
  {
   "cell_type": "markdown",
   "metadata": {},
   "source": [
    "Remove last element."
   ]
  },
  {
   "cell_type": "code",
   "execution_count": 172,
   "metadata": {},
   "outputs": [
    {
     "data": {
      "text/plain": [
       "['Apple',\n",
       " 'Banana',\n",
       " 'BlueBerry',\n",
       " 'Grapes',\n",
       " 'Kiwi',\n",
       " 'Mango',\n",
       " 'Mulberry',\n",
       " 'Raspeberry',\n",
       " 'Strawberry',\n",
       " 'Watermelon',\n",
       " 'Orange',\n",
       " 'Lemon']"
      ]
     },
     "execution_count": 172,
     "metadata": {},
     "output_type": "execute_result"
    }
   ],
   "source": [
    "fruits_list.pop()\n",
    "fruits_list"
   ]
  },
  {
   "cell_type": "markdown",
   "metadata": {},
   "source": [
    "### remove()"
   ]
  },
  {
   "cell_type": "markdown",
   "metadata": {},
   "source": [
    "Remove specified element from list."
   ]
  },
  {
   "cell_type": "code",
   "execution_count": 173,
   "metadata": {},
   "outputs": [
    {
     "data": {
      "text/plain": [
       "['Apple',\n",
       " 'Banana',\n",
       " 'BlueBerry',\n",
       " 'Grapes',\n",
       " 'Mango',\n",
       " 'Mulberry',\n",
       " 'Raspeberry',\n",
       " 'Strawberry',\n",
       " 'Watermelon',\n",
       " 'Orange',\n",
       " 'Lemon']"
      ]
     },
     "execution_count": 173,
     "metadata": {},
     "output_type": "execute_result"
    }
   ],
   "source": [
    "fruits_list.remove('Kiwi')\n",
    "fruits_list"
   ]
  },
  {
   "cell_type": "markdown",
   "metadata": {},
   "source": [
    "### clear()"
   ]
  },
  {
   "cell_type": "markdown",
   "metadata": {},
   "source": [
    "Remove all elements from list, return empty list."
   ]
  },
  {
   "cell_type": "code",
   "execution_count": 174,
   "metadata": {},
   "outputs": [
    {
     "data": {
      "text/plain": [
       "[]"
      ]
     },
     "execution_count": 174,
     "metadata": {},
     "output_type": "execute_result"
    }
   ],
   "source": [
    "fruits_list.clear()\n",
    "fruits_list"
   ]
  },
  {
   "cell_type": "markdown",
   "metadata": {},
   "source": [
    "## Slicing"
   ]
  },
  {
   "cell_type": "markdown",
   "metadata": {},
   "source": [
    "### Range"
   ]
  },
  {
   "cell_type": "code",
   "execution_count": 175,
   "metadata": {},
   "outputs": [],
   "source": [
    "fruits_list = ['Apple',\n",
    " 'Banana',\n",
    " 'BlueBerry',\n",
    " 'Grapes',\n",
    " 'Kiwi',\n",
    " 'Mango',\n",
    " 'Mulberry',\n",
    " 'Raspeberry',\n",
    " 'Strawberry',\n",
    " 'Watermelon',\n",
    " 'Orange',\n",
    " 'Lemon',\n",
    " 'Lime']"
   ]
  },
  {
   "cell_type": "code",
   "execution_count": 176,
   "metadata": {},
   "outputs": [
    {
     "data": {
      "text/plain": [
       "['Apple',\n",
       " 'Banana',\n",
       " 'BlueBerry',\n",
       " 'Grapes',\n",
       " 'Kiwi',\n",
       " 'Mango',\n",
       " 'Mulberry',\n",
       " 'Raspeberry',\n",
       " 'Strawberry',\n",
       " 'Watermelon',\n",
       " 'Orange',\n",
       " 'Lemon',\n",
       " 'Lime']"
      ]
     },
     "execution_count": 176,
     "metadata": {},
     "output_type": "execute_result"
    }
   ],
   "source": [
    "fruits_list[0:]"
   ]
  },
  {
   "cell_type": "code",
   "execution_count": 177,
   "metadata": {},
   "outputs": [
    {
     "data": {
      "text/plain": [
       "['Kiwi', 'Mango']"
      ]
     },
     "execution_count": 177,
     "metadata": {},
     "output_type": "execute_result"
    }
   ],
   "source": [
    "fruits_list[4:6]"
   ]
  },
  {
   "cell_type": "code",
   "execution_count": 178,
   "metadata": {},
   "outputs": [
    {
     "data": {
      "text/plain": [
       "['Watermelon', 'Orange', 'Lemon']"
      ]
     },
     "execution_count": 178,
     "metadata": {},
     "output_type": "execute_result"
    }
   ],
   "source": [
    "fruits_list[-4:-1]"
   ]
  },
  {
   "cell_type": "code",
   "execution_count": 182,
   "metadata": {},
   "outputs": [
    {
     "data": {
      "text/plain": [
       "['Watermelon', 'Orange', 'Lemon', 'Lime']"
      ]
     },
     "execution_count": 182,
     "metadata": {},
     "output_type": "execute_result"
    }
   ],
   "source": [
    "fruits_list[-4:]"
   ]
  },
  {
   "cell_type": "code",
   "execution_count": 179,
   "metadata": {},
   "outputs": [
    {
     "data": {
      "text/plain": [
       "['Apple',\n",
       " 'Banana',\n",
       " 'BlueBerry',\n",
       " 'Grapes',\n",
       " 'Kiwi',\n",
       " 'Mango',\n",
       " 'Mulberry',\n",
       " 'Raspeberry',\n",
       " 'Strawberry',\n",
       " 'Watermelon',\n",
       " 'Orange',\n",
       " 'Lemon']"
      ]
     },
     "execution_count": 179,
     "metadata": {},
     "output_type": "execute_result"
    }
   ],
   "source": [
    "fruits_list[:-1]"
   ]
  },
  {
   "cell_type": "code",
   "execution_count": 180,
   "metadata": {},
   "outputs": [
    {
     "data": {
      "text/plain": [
       "['Apple',\n",
       " 'Banana',\n",
       " 'BlueBerry',\n",
       " 'Grapes',\n",
       " 'Kiwi',\n",
       " 'Mango',\n",
       " 'Mulberry',\n",
       " 'Raspeberry',\n",
       " 'Strawberry',\n",
       " 'Watermelon',\n",
       " 'Orange',\n",
       " 'Lemon',\n",
       " 'Lime']"
      ]
     },
     "execution_count": 180,
     "metadata": {},
     "output_type": "execute_result"
    }
   ],
   "source": [
    "fruits_list[:]"
   ]
  },
  {
   "cell_type": "markdown",
   "metadata": {},
   "source": [
    "### Reverse using range"
   ]
  },
  {
   "cell_type": "code",
   "execution_count": 181,
   "metadata": {},
   "outputs": [
    {
     "data": {
      "text/plain": [
       "['Lime',\n",
       " 'Lemon',\n",
       " 'Orange',\n",
       " 'Watermelon',\n",
       " 'Strawberry',\n",
       " 'Raspeberry',\n",
       " 'Mulberry',\n",
       " 'Mango',\n",
       " 'Kiwi',\n",
       " 'Grapes',\n",
       " 'BlueBerry',\n",
       " 'Banana',\n",
       " 'Apple']"
      ]
     },
     "execution_count": 181,
     "metadata": {},
     "output_type": "execute_result"
    }
   ],
   "source": [
    "fruits_list[::-1]"
   ]
  },
  {
   "cell_type": "code",
   "execution_count": 183,
   "metadata": {},
   "outputs": [
    {
     "data": {
      "text/plain": [
       "['Apple',\n",
       " 'Banana',\n",
       " 'BlueBerry',\n",
       " 'Grapes',\n",
       " 'Kiwi',\n",
       " 'Mango',\n",
       " 'Mulberry',\n",
       " 'Raspeberry',\n",
       " 'Strawberry',\n",
       " 'Watermelon',\n",
       " 'Orange',\n",
       " 'Lemon']"
      ]
     },
     "execution_count": 183,
     "metadata": {},
     "output_type": "execute_result"
    }
   ],
   "source": [
    "fruits_list[:-1:]"
   ]
  },
  {
   "cell_type": "code",
   "execution_count": 188,
   "metadata": {},
   "outputs": [
    {
     "data": {
      "text/plain": [
       "['Lime']"
      ]
     },
     "execution_count": 188,
     "metadata": {},
     "output_type": "execute_result"
    }
   ],
   "source": [
    "fruits_list[-1::]"
   ]
  }
 ],
 "metadata": {
  "kernelspec": {
   "display_name": "Python 3",
   "language": "python",
   "name": "python3"
  },
  "language_info": {
   "codemirror_mode": {
    "name": "ipython",
    "version": 3
   },
   "file_extension": ".py",
   "mimetype": "text/x-python",
   "name": "python",
   "nbconvert_exporter": "python",
   "pygments_lexer": "ipython3",
   "version": "3.13.1"
  }
 },
 "nbformat": 4,
 "nbformat_minor": 2
}
