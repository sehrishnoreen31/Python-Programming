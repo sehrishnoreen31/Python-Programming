{
 "cells": [
  {
   "cell_type": "markdown",
   "metadata": {},
   "source": [
    "**1. Counter Function**\n",
    "\n",
    "Create a global variable counter and initialize it to 0.\n",
    "\n",
    "Define a function increment() that increases the value of counter by 1.\n",
    "\n",
    "Call the function multiple times and print counter to see the changes."
   ]
  },
  {
   "cell_type": "code",
   "execution_count": 3,
   "metadata": {},
   "outputs": [
    {
     "name": "stdout",
     "output_type": "stream",
     "text": [
      "1\n",
      "2\n",
      "3\n",
      "4\n"
     ]
    }
   ],
   "source": [
    "counter = 0\n",
    "\n",
    "def increment():\n",
    "    global counter\n",
    "    counter += 1\n",
    "    print(counter)\n",
    "\n",
    "increment()\n",
    "increment()\n",
    "increment()\n",
    "increment()"
   ]
  },
  {
   "cell_type": "markdown",
   "metadata": {},
   "source": [
    "**2. Bank Account Balance**\n",
    "\n",
    "Define a global variable balance and set it to 1000.\n",
    "\n",
    "Create a function withdraw(amount) that deducts the given amount from balance.\n",
    "\n",
    "Create another function deposit(amount) that adds amount to balance.\n",
    "\n",
    "Test the functions by performing multiple deposits and withdrawals."
   ]
  },
  {
   "cell_type": "code",
   "execution_count": 8,
   "metadata": {},
   "outputs": [
    {
     "name": "stdout",
     "output_type": "stream",
     "text": [
      "Balance: 1000\n",
      "Balance after 200 withdraw: 800\n",
      "\n",
      "Balance: 800\n",
      "Balance after 100 deposit: 900\n",
      "\n",
      "Balance: 900\n",
      "Balance after 400 withdraw: 500\n",
      "\n",
      "Your balance:500 is less than amount provided: 5000\n",
      "\n"
     ]
    }
   ],
   "source": [
    "balance = 1000\n",
    "\n",
    "def withdraw(amount):\n",
    "    global balance\n",
    "    if amount <= balance:\n",
    "        print(f'Balance: {balance}')\n",
    "        balance -= amount\n",
    "        print(f'Balance after {amount} withdraw: {balance}\\n')\n",
    "    else:\n",
    "        print(f'Your balance:{balance} is less than amount provided: {amount}\\n')\n",
    "\n",
    "def deposit(amount):\n",
    "    global balance\n",
    "    print(f'Balance: {balance}')\n",
    "    balance += amount\n",
    "    print(f'Balance after {amount} deposit: {balance}\\n')\n",
    "\n",
    "# test\n",
    "withdraw(200)\n",
    "deposit(100)\n",
    "withdraw(400)\n",
    "withdraw(5000)"
   ]
  }
 ],
 "metadata": {
  "kernelspec": {
   "display_name": "Python 3",
   "language": "python",
   "name": "python3"
  },
  "language_info": {
   "codemirror_mode": {
    "name": "ipython",
    "version": 3
   },
   "file_extension": ".py",
   "mimetype": "text/x-python",
   "name": "python",
   "nbconvert_exporter": "python",
   "pygments_lexer": "ipython3",
   "version": "3.13.1"
  }
 },
 "nbformat": 4,
 "nbformat_minor": 2
}
