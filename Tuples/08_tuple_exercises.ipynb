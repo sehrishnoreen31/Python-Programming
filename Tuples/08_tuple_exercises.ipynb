{
 "cells": [
  {
   "cell_type": "markdown",
   "id": "94cf8021",
   "metadata": {},
   "source": [
    "# Tuple Exercises"
   ]
  },
  {
   "cell_type": "markdown",
   "id": "5ee19ac5",
   "metadata": {},
   "source": [
    "## Find Unique Numbers in Tuples"
   ]
  },
  {
   "cell_type": "code",
   "execution_count": 3,
   "id": "a09c1b36",
   "metadata": {},
   "outputs": [
    {
     "name": "stdout",
     "output_type": "stream",
     "text": [
      "Unique NUmbers:  (1, 9, 6, 3, 4, 5, 2, 7, 8)\n"
     ]
    }
   ],
   "source": [
    "numbers = (1, 9, 1, 6, 3, 4, 5, 1, 1, 2, 5, 6, 7, 8, 9, 2)\n",
    "unique_numbers = ()\n",
    "\n",
    "for num in numbers:\n",
    "    if num not in unique_numbers:\n",
    "        unique_numbers += (num, )\n",
    "print('Unique NUmbers: ', unique_numbers)"
   ]
  },
  {
   "cell_type": "markdown",
   "id": "6aa23aa9",
   "metadata": {},
   "source": [
    "## Find sum of all numbers in a tuple"
   ]
  },
  {
   "cell_type": "code",
   "execution_count": 5,
   "id": "19eb5bf2",
   "metadata": {},
   "outputs": [
    {
     "name": "stdout",
     "output_type": "stream",
     "text": [
      "24\n"
     ]
    }
   ],
   "source": [
    "numbers = (1, 9, 1, 6, 3, 4)\n",
    "sum_of_numbers = 0\n",
    "\n",
    "for num in numbers:\n",
    "    sum_of_numbers += num\n",
    "\n",
    "print(sum_of_numbers)"
   ]
  },
  {
   "cell_type": "code",
   "execution_count": 6,
   "id": "1d5a1a6c",
   "metadata": {},
   "outputs": [
    {
     "data": {
      "text/plain": [
       "24"
      ]
     },
     "execution_count": 6,
     "metadata": {},
     "output_type": "execute_result"
    }
   ],
   "source": [
    "sum_of_numbers = sum(numbers)\n",
    "sum_of_numbers"
   ]
  },
  {
   "cell_type": "markdown",
   "id": "c8439a87",
   "metadata": {},
   "source": [
    "## Create a tuple of 5 random integers"
   ]
  },
  {
   "cell_type": "code",
   "execution_count": 7,
   "id": "f8a6cbec",
   "metadata": {},
   "outputs": [
    {
     "data": {
      "text/plain": [
       "(150, 39, 110, 7, 148)"
      ]
     },
     "execution_count": 7,
     "metadata": {},
     "output_type": "execute_result"
    }
   ],
   "source": [
    "import random\n",
    "\n",
    "random_numbers = ()\n",
    "\n",
    "for num in range(5):\n",
    "    random_numbers += (random.randint(1,200),)\n",
    "\n",
    "random_numbers"
   ]
  }
 ],
 "metadata": {
  "kernelspec": {
   "display_name": "Python 3",
   "language": "python",
   "name": "python3"
  },
  "language_info": {
   "codemirror_mode": {
    "name": "ipython",
    "version": 3
   },
   "file_extension": ".py",
   "mimetype": "text/x-python",
   "name": "python",
   "nbconvert_exporter": "python",
   "pygments_lexer": "ipython3",
   "version": "3.13.1"
  }
 },
 "nbformat": 4,
 "nbformat_minor": 5
}
