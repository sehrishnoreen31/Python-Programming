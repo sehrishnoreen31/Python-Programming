{
 "cells": [
  {
   "cell_type": "markdown",
   "id": "0a5942eb",
   "metadata": {},
   "source": [
    "# Tuple Methods"
   ]
  },
  {
   "cell_type": "code",
   "execution_count": 4,
   "id": "427dbd52",
   "metadata": {},
   "outputs": [
    {
     "data": {
      "text/plain": [
       "('A+', 'A', 'A-', 'B+', 'B', 'B-', 'C+', 'C', 'B', 'C-', 'D', 'B+')"
      ]
     },
     "execution_count": 4,
     "metadata": {},
     "output_type": "execute_result"
    }
   ],
   "source": [
    "student_grades = ('A+', 'A', 'A-', 'B+', 'B', 'B-', 'C+', 'C', 'B', 'C-', 'D', 'B+')\n",
    "student_grades"
   ]
  },
  {
   "cell_type": "markdown",
   "id": "6ab6564a",
   "metadata": {},
   "source": [
    "## index(item)"
   ]
  },
  {
   "cell_type": "code",
   "execution_count": 5,
   "id": "59ff8e39",
   "metadata": {},
   "outputs": [
    {
     "data": {
      "text/plain": [
       "3"
      ]
     },
     "execution_count": 5,
     "metadata": {},
     "output_type": "execute_result"
    }
   ],
   "source": [
    "student_grades.index('B+')"
   ]
  },
  {
   "cell_type": "markdown",
   "id": "d456371c",
   "metadata": {},
   "source": [
    "## count(item)"
   ]
  },
  {
   "cell_type": "code",
   "execution_count": 6,
   "id": "8ba371f4",
   "metadata": {},
   "outputs": [
    {
     "data": {
      "text/plain": [
       "2"
      ]
     },
     "execution_count": 6,
     "metadata": {},
     "output_type": "execute_result"
    }
   ],
   "source": [
    "student_grades.count('B')"
   ]
  }
 ],
 "metadata": {
  "kernelspec": {
   "display_name": "Python 3",
   "language": "python",
   "name": "python3"
  },
  "language_info": {
   "codemirror_mode": {
    "name": "ipython",
    "version": 3
   },
   "file_extension": ".py",
   "mimetype": "text/x-python",
   "name": "python",
   "nbconvert_exporter": "python",
   "pygments_lexer": "ipython3",
   "version": "3.13.1"
  }
 },
 "nbformat": 4,
 "nbformat_minor": 5
}
