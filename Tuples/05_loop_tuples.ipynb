{
 "cells": [
  {
   "cell_type": "markdown",
   "id": "02e7fc0f",
   "metadata": {},
   "source": [
    "# Loop Through Tuples"
   ]
  },
  {
   "cell_type": "code",
   "execution_count": 1,
   "id": "264b5649",
   "metadata": {},
   "outputs": [
    {
     "data": {
      "text/plain": [
       "('Sofa',\n",
       " 'Table',\n",
       " 'Chair',\n",
       " 'Bed',\n",
       " 'Desk',\n",
       " 'Cabinet',\n",
       " 'Shelf',\n",
       " 'Dresser',\n",
       " 'Ottoman',\n",
       " 'Bench')"
      ]
     },
     "execution_count": 1,
     "metadata": {},
     "output_type": "execute_result"
    }
   ],
   "source": [
    "furniture_items = ('Sofa', 'Table', 'Chair', 'Bed', 'Desk', 'Cabinet', 'Shelf', 'Dresser', 'Ottoman', 'Bench')\n",
    "furniture_items"
   ]
  },
  {
   "cell_type": "markdown",
   "id": "56af4323",
   "metadata": {},
   "source": [
    "## for Loop"
   ]
  },
  {
   "cell_type": "code",
   "execution_count": 2,
   "id": "16240389",
   "metadata": {},
   "outputs": [
    {
     "name": "stdout",
     "output_type": "stream",
     "text": [
      "Sofa\n",
      "Table\n",
      "Chair\n",
      "Bed\n",
      "Desk\n",
      "Cabinet\n",
      "Shelf\n",
      "Dresser\n",
      "Ottoman\n",
      "Bench\n"
     ]
    }
   ],
   "source": [
    "for item in furniture_items:\n",
    "    print(item)"
   ]
  },
  {
   "cell_type": "code",
   "execution_count": 3,
   "id": "047ec78c",
   "metadata": {},
   "outputs": [
    {
     "name": "stdout",
     "output_type": "stream",
     "text": [
      "1 Sofa\n",
      "2 Table\n",
      "3 Chair\n",
      "4 Bed\n",
      "5 Desk\n",
      "6 Cabinet\n",
      "7 Shelf\n",
      "8 Dresser\n",
      "9 Ottoman\n",
      "10 Bench\n"
     ]
    }
   ],
   "source": [
    "for index, item in enumerate(furniture_items, start=1):\n",
    "    print(index, item)"
   ]
  },
  {
   "cell_type": "markdown",
   "id": "427af2cb",
   "metadata": {},
   "source": [
    "## while Loop"
   ]
  },
  {
   "cell_type": "code",
   "execution_count": 7,
   "id": "0044800b",
   "metadata": {},
   "outputs": [
    {
     "name": "stdout",
     "output_type": "stream",
     "text": [
      "Sofa\n",
      "Table\n",
      "Chair\n",
      "Bed\n",
      "Desk\n",
      "Cabinet\n",
      "Shelf\n",
      "Dresser\n",
      "Ottoman\n",
      "Bench\n"
     ]
    }
   ],
   "source": [
    "index = 0\n",
    "\n",
    "while index < len(furniture_items):\n",
    "    print(furniture_items[index])\n",
    "    index += 1"
   ]
  }
 ],
 "metadata": {
  "kernelspec": {
   "display_name": "Python 3",
   "language": "python",
   "name": "python3"
  },
  "language_info": {
   "codemirror_mode": {
    "name": "ipython",
    "version": 3
   },
   "file_extension": ".py",
   "mimetype": "text/x-python",
   "name": "python",
   "nbconvert_exporter": "python",
   "pygments_lexer": "ipython3",
   "version": "3.13.1"
  }
 },
 "nbformat": 4,
 "nbformat_minor": 5
}
