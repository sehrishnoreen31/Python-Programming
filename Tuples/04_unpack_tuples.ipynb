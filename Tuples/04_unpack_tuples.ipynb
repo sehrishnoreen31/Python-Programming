{
 "cells": [
  {
   "cell_type": "markdown",
   "id": "7ccbfa5f",
   "metadata": {},
   "source": [
    "# Unpack Tuples"
   ]
  },
  {
   "cell_type": "code",
   "execution_count": 1,
   "id": "65cc2a5e",
   "metadata": {},
   "outputs": [
    {
     "data": {
      "text/plain": [
       "('LED', 'Fluorescent', 'Incandescent', 'Halogen')"
      ]
     },
     "execution_count": 1,
     "metadata": {},
     "output_type": "execute_result"
    }
   ],
   "source": [
    "lights = ('LED', 'Fluorescent', 'Incandescent', 'Halogen')\n",
    "lights"
   ]
  },
  {
   "cell_type": "markdown",
   "id": "28da4bed",
   "metadata": {},
   "source": [
    "## Unpack Using Variables"
   ]
  },
  {
   "cell_type": "code",
   "execution_count": 2,
   "id": "2c1a1b7d",
   "metadata": {},
   "outputs": [
    {
     "name": "stdout",
     "output_type": "stream",
     "text": [
      "LED\n",
      "Fluorescent\n",
      "Incandescent\n",
      "Halogen\n"
     ]
    }
   ],
   "source": [
    "light1, light2, light3, light4 = lights\n",
    "print(light1)\n",
    "print(light2)\n",
    "print(light3)\n",
    "print(light4)"
   ]
  },
  {
   "cell_type": "markdown",
   "id": "fb1eab44",
   "metadata": {},
   "source": [
    "## Errors While Unpacking"
   ]
  },
  {
   "cell_type": "code",
   "execution_count": 6,
   "id": "5f9c8522",
   "metadata": {},
   "outputs": [
    {
     "ename": "ValueError",
     "evalue": "too many values to unpack (expected 2)",
     "output_type": "error",
     "traceback": [
      "\u001b[1;31m---------------------------------------------------------------------------\u001b[0m",
      "\u001b[1;31mValueError\u001b[0m                                Traceback (most recent call last)",
      "Cell \u001b[1;32mIn[6], line 1\u001b[0m\n\u001b[1;32m----> 1\u001b[0m light1, light2 \u001b[38;5;241m=\u001b[39m lights\n",
      "\u001b[1;31mValueError\u001b[0m: too many values to unpack (expected 2)"
     ]
    }
   ],
   "source": [
    "light1, light2 = lights"
   ]
  },
  {
   "cell_type": "code",
   "execution_count": 7,
   "id": "3317262a",
   "metadata": {},
   "outputs": [
    {
     "ename": "ValueError",
     "evalue": "not enough values to unpack (expected 6, got 4)",
     "output_type": "error",
     "traceback": [
      "\u001b[1;31m---------------------------------------------------------------------------\u001b[0m",
      "\u001b[1;31mValueError\u001b[0m                                Traceback (most recent call last)",
      "Cell \u001b[1;32mIn[7], line 1\u001b[0m\n\u001b[1;32m----> 1\u001b[0m light1, light2, light3, light4, light5, light6 \u001b[38;5;241m=\u001b[39m lights\n",
      "\u001b[1;31mValueError\u001b[0m: not enough values to unpack (expected 6, got 4)"
     ]
    }
   ],
   "source": [
    "light1, light2, light3, light4, light5, light6 = lights"
   ]
  },
  {
   "cell_type": "markdown",
   "id": "7f0f2ef6",
   "metadata": {},
   "source": [
    "## Unpacking Using Asterisk(*)"
   ]
  },
  {
   "cell_type": "code",
   "execution_count": 9,
   "id": "fc06fcbc",
   "metadata": {},
   "outputs": [
    {
     "name": "stdout",
     "output_type": "stream",
     "text": [
      "['LED', 'Fluorescent']\n",
      "Incandescent\n",
      "Halogen\n"
     ]
    }
   ],
   "source": [
    "*light1, light2, light3 = lights\n",
    "print(light1)\n",
    "print(light2)\n",
    "print(light3)"
   ]
  },
  {
   "cell_type": "code",
   "execution_count": 11,
   "id": "9e824b90",
   "metadata": {},
   "outputs": [
    {
     "name": "stdout",
     "output_type": "stream",
     "text": [
      "LED\n",
      "['Fluorescent', 'Incandescent']\n",
      "Halogen\n"
     ]
    }
   ],
   "source": [
    "light1, *light2, light3 = lights\n",
    "print(light1)\n",
    "print(light2)\n",
    "print(light3)"
   ]
  },
  {
   "cell_type": "code",
   "execution_count": 12,
   "id": "929cc7e0",
   "metadata": {},
   "outputs": [
    {
     "name": "stdout",
     "output_type": "stream",
     "text": [
      "LED\n",
      "Fluorescent\n",
      "['Incandescent', 'Halogen']\n"
     ]
    }
   ],
   "source": [
    "light1, light2, *light3 = lights\n",
    "print(light1)\n",
    "print(light2)\n",
    "print(light3)"
   ]
  }
 ],
 "metadata": {
  "kernelspec": {
   "display_name": "Python 3",
   "language": "python",
   "name": "python3"
  },
  "language_info": {
   "codemirror_mode": {
    "name": "ipython",
    "version": 3
   },
   "file_extension": ".py",
   "mimetype": "text/x-python",
   "name": "python",
   "nbconvert_exporter": "python",
   "pygments_lexer": "ipython3",
   "version": "3.13.1"
  }
 },
 "nbformat": 4,
 "nbformat_minor": 5
}
