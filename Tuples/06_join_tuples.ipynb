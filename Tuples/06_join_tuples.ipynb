{
 "cells": [
  {
   "cell_type": "markdown",
   "id": "9f19762e",
   "metadata": {},
   "source": [
    "# Join Tuples"
   ]
  },
  {
   "cell_type": "code",
   "execution_count": 20,
   "id": "f3b62410",
   "metadata": {},
   "outputs": [],
   "source": [
    "stationery_items_1= ('Pen', 'Pencil', 'Notebook', 'Paper', 'Eraser')\n",
    "stationery_items_2 = ('Ruler', 'Stapler', 'Scissors', 'Tape', 'Highlighter')"
   ]
  },
  {
   "cell_type": "markdown",
   "id": "6ab67b88",
   "metadata": {},
   "source": [
    "## Concatenate"
   ]
  },
  {
   "cell_type": "code",
   "execution_count": 21,
   "id": "b9f54693",
   "metadata": {},
   "outputs": [
    {
     "data": {
      "text/plain": [
       "('Pen',\n",
       " 'Pencil',\n",
       " 'Notebook',\n",
       " 'Paper',\n",
       " 'Eraser',\n",
       " 'Ruler',\n",
       " 'Stapler',\n",
       " 'Scissors',\n",
       " 'Tape',\n",
       " 'Highlighter')"
      ]
     },
     "execution_count": 21,
     "metadata": {},
     "output_type": "execute_result"
    }
   ],
   "source": [
    "stationery_items_3 = stationery_items_1 + stationery_items_2\n",
    "stationery_items_3"
   ]
  },
  {
   "cell_type": "markdown",
   "id": "42f62dd4",
   "metadata": {},
   "source": [
    "## Join With extend()"
   ]
  },
  {
   "cell_type": "code",
   "execution_count": 22,
   "id": "48bc3dc2",
   "metadata": {},
   "outputs": [
    {
     "data": {
      "text/plain": [
       "('Pen',\n",
       " 'Pencil',\n",
       " 'Notebook',\n",
       " 'Paper',\n",
       " 'Eraser',\n",
       " 'Ruler',\n",
       " 'Stapler',\n",
       " 'Scissors',\n",
       " 'Tape',\n",
       " 'Highlighter')"
      ]
     },
     "execution_count": 22,
     "metadata": {},
     "output_type": "execute_result"
    }
   ],
   "source": [
    "stationery_items_1_0 = list(stationery_items_1)\n",
    "stationery_items_2_0 = list(stationery_items_2)\n",
    "\n",
    "stationery_items_1_0.extend(stationery_items_2_0)\n",
    "\n",
    "stationery_items_1_0 = tuple(stationery_items_1_0)\n",
    "stationery_items_1_0"
   ]
  },
  {
   "cell_type": "markdown",
   "id": "42defa47",
   "metadata": {},
   "source": [
    "# Join Tuples Using sum()"
   ]
  },
  {
   "cell_type": "code",
   "execution_count": 23,
   "id": "b0bebbee",
   "metadata": {},
   "outputs": [
    {
     "data": {
      "text/plain": [
       "('Pen',\n",
       " 'Pencil',\n",
       " 'Notebook',\n",
       " 'Paper',\n",
       " 'Eraser',\n",
       " 'Ruler',\n",
       " 'Stapler',\n",
       " 'Scissors',\n",
       " 'Tape',\n",
       " 'Highlighter')"
      ]
     },
     "execution_count": 23,
     "metadata": {},
     "output_type": "execute_result"
    }
   ],
   "source": [
    "stationery_items_4 = sum((stationery_items_1, stationery_items_2), ())\n",
    "stationery_items_4"
   ]
  },
  {
   "cell_type": "markdown",
   "id": "8c886cc3",
   "metadata": {},
   "source": [
    "# Join Tuples Using Loop"
   ]
  },
  {
   "cell_type": "code",
   "execution_count": 24,
   "id": "a0fe8489",
   "metadata": {},
   "outputs": [
    {
     "name": "stdout",
     "output_type": "stream",
     "text": [
      "('Pen', 'Pencil', 'Notebook', 'Paper', 'Eraser', 'Ruler', 'Stapler', 'Scissors', 'Tape', 'Highlighter')\n"
     ]
    }
   ],
   "source": [
    "for item in stationery_items_2:\n",
    "    stationery_items_1 += (item,)\n",
    "\n",
    "print(stationery_items_1)"
   ]
  }
 ],
 "metadata": {
  "kernelspec": {
   "display_name": "Python 3",
   "language": "python",
   "name": "python3"
  },
  "language_info": {
   "codemirror_mode": {
    "name": "ipython",
    "version": 3
   },
   "file_extension": ".py",
   "mimetype": "text/x-python",
   "name": "python",
   "nbconvert_exporter": "python",
   "pygments_lexer": "ipython3",
   "version": "3.13.1"
  }
 },
 "nbformat": 4,
 "nbformat_minor": 5
}
