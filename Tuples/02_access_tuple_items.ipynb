{
 "cells": [
  {
   "cell_type": "markdown",
   "id": "425704a2",
   "metadata": {},
   "source": [
    "# Accessing Tuple Items"
   ]
  },
  {
   "cell_type": "code",
   "execution_count": 1,
   "id": "bed9a74a",
   "metadata": {},
   "outputs": [],
   "source": [
    "sports_wearables = ('Smartwatch', 'Fitness Tracker', 'Heart Rate Monitor', 'GPS Sports Watch', 'Smart Clothing', 'Cycling Computer', 'Sports Headphones', 'Wearable Camera', 'Smart Insoles', 'Recovery Wearable')"
   ]
  },
  {
   "cell_type": "markdown",
   "id": "23ab2b2a",
   "metadata": {},
   "source": [
    "## Access With Index"
   ]
  },
  {
   "cell_type": "code",
   "execution_count": 2,
   "id": "7830b045",
   "metadata": {},
   "outputs": [
    {
     "name": "stdout",
     "output_type": "stream",
     "text": [
      "Smartwatch\n",
      "Fitness Tracker\n",
      "Heart Rate Monitor\n"
     ]
    }
   ],
   "source": [
    "print(sports_wearables[0])\n",
    "print(sports_wearables[1])\n",
    "print(sports_wearables[2])"
   ]
  },
  {
   "cell_type": "markdown",
   "id": "bf7fd78f",
   "metadata": {},
   "source": [
    "## Access Range With Index"
   ]
  },
  {
   "cell_type": "code",
   "execution_count": 8,
   "id": "ea9a4529",
   "metadata": {},
   "outputs": [
    {
     "name": "stdout",
     "output_type": "stream",
     "text": [
      "('Smartwatch', 'Fitness Tracker', 'Heart Rate Monitor')\n",
      "('Smart Clothing', 'Cycling Computer')\n",
      "('Smart Clothing', 'Cycling Computer', 'Sports Headphones', 'Wearable Camera', 'Smart Insoles', 'Recovery Wearable')\n",
      "('Smartwatch', 'Fitness Tracker', 'Heart Rate Monitor', 'GPS Sports Watch', 'Smart Clothing', 'Cycling Computer', 'Sports Headphones', 'Wearable Camera', 'Smart Insoles', 'Recovery Wearable')\n"
     ]
    }
   ],
   "source": [
    "print(sports_wearables[0:3])\n",
    "print(sports_wearables[4:6])\n",
    "print(sports_wearables[4:])\n",
    "print(sports_wearables[:])"
   ]
  },
  {
   "cell_type": "markdown",
   "id": "bf56c883",
   "metadata": {},
   "source": [
    "## Access With Negative Index"
   ]
  },
  {
   "cell_type": "code",
   "execution_count": 3,
   "id": "0916ffba",
   "metadata": {},
   "outputs": [
    {
     "name": "stdout",
     "output_type": "stream",
     "text": [
      "Recovery Wearable\n",
      "Smart Insoles\n",
      "Wearable Camera\n"
     ]
    }
   ],
   "source": [
    "print(sports_wearables[-1])\n",
    "print(sports_wearables[-2])\n",
    "print(sports_wearables[-3])"
   ]
  },
  {
   "cell_type": "markdown",
   "id": "49bf70a3",
   "metadata": {},
   "source": [
    "## Access Range With Negative Index"
   ]
  },
  {
   "cell_type": "code",
   "execution_count": 9,
   "id": "b1dde085",
   "metadata": {},
   "outputs": [
    {
     "name": "stdout",
     "output_type": "stream",
     "text": [
      "('Sports Headphones', 'Wearable Camera', 'Smart Insoles')\n",
      "('Heart Rate Monitor', 'GPS Sports Watch', 'Smart Clothing')\n",
      "('Smartwatch', 'Fitness Tracker', 'Heart Rate Monitor', 'GPS Sports Watch', 'Smart Clothing', 'Cycling Computer', 'Sports Headphones', 'Wearable Camera', 'Smart Insoles')\n",
      "('Cycling Computer', 'Sports Headphones', 'Wearable Camera', 'Smart Insoles', 'Recovery Wearable')\n"
     ]
    }
   ],
   "source": [
    "print(sports_wearables[-4:-1])\n",
    "print(sports_wearables[-8:-5])\n",
    "print(sports_wearables[:-1])\n",
    "print(sports_wearables[-5:])"
   ]
  }
 ],
 "metadata": {
  "kernelspec": {
   "display_name": "Python 3",
   "language": "python",
   "name": "python3"
  },
  "language_info": {
   "codemirror_mode": {
    "name": "ipython",
    "version": 3
   },
   "file_extension": ".py",
   "mimetype": "text/x-python",
   "name": "python",
   "nbconvert_exporter": "python",
   "pygments_lexer": "ipython3",
   "version": "3.13.1"
  }
 },
 "nbformat": 4,
 "nbformat_minor": 5
}
