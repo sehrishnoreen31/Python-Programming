{
 "cells": [
  {
   "cell_type": "markdown",
   "id": "e5ce3448",
   "metadata": {},
   "source": [
    "# Update Tuples"
   ]
  },
  {
   "cell_type": "code",
   "execution_count": 9,
   "id": "98f61f0e",
   "metadata": {},
   "outputs": [
    {
     "name": "stdout",
     "output_type": "stream",
     "text": [
      "('Oak', 'Maple', 'Pine', 'Birch', 'Willow')\n",
      "('Cedar', 'Redwood', 'Ash', 'Poplar', 'Cypress')\n"
     ]
    }
   ],
   "source": [
    "trees_g1 = ('Oak', 'Maple', 'Pine', 'Birch', 'Willow')\n",
    "trees_g2 = ('Cedar', 'Redwood', 'Ash', 'Poplar', 'Cypress')\n",
    "print(trees_g1)\n",
    "print(trees_g2)"
   ]
  },
  {
   "cell_type": "markdown",
   "id": "b1b83dc6",
   "metadata": {},
   "source": [
    "## Adding Tuples Togather"
   ]
  },
  {
   "cell_type": "code",
   "execution_count": 10,
   "id": "292427d8",
   "metadata": {},
   "outputs": [
    {
     "data": {
      "text/plain": [
       "('Oak',\n",
       " 'Maple',\n",
       " 'Pine',\n",
       " 'Birch',\n",
       " 'Willow',\n",
       " 'Cedar',\n",
       " 'Redwood',\n",
       " 'Ash',\n",
       " 'Poplar',\n",
       " 'Cypress')"
      ]
     },
     "execution_count": 10,
     "metadata": {},
     "output_type": "execute_result"
    }
   ],
   "source": [
    "trees_combined = trees_g1 + trees_g2\n",
    "trees_combined"
   ]
  },
  {
   "cell_type": "markdown",
   "id": "cf43c35a",
   "metadata": {},
   "source": [
    "# Using Lists To Update Tuples"
   ]
  },
  {
   "cell_type": "markdown",
   "id": "9b397673",
   "metadata": {},
   "source": [
    "## Using List Comprehension"
   ]
  },
  {
   "cell_type": "code",
   "execution_count": 11,
   "id": "02309eb4",
   "metadata": {},
   "outputs": [
    {
     "data": {
      "text/plain": [
       "('OakOakOak',\n",
       " 'MapleMapleMaple',\n",
       " 'PinePinePine',\n",
       " 'BirchBirchBirch',\n",
       " 'WillowWillowWillow',\n",
       " 'CedarCedarCedar',\n",
       " 'RedwoodRedwoodRedwood',\n",
       " 'AshAshAsh',\n",
       " 'PoplarPoplarPoplar',\n",
       " 'CypressCypressCypress')"
      ]
     },
     "execution_count": 11,
     "metadata": {},
     "output_type": "execute_result"
    }
   ],
   "source": [
    "trees_updated = tuple([tree*3 for tree in trees_combined])\n",
    "trees_updated"
   ]
  },
  {
   "cell_type": "markdown",
   "id": "00dd10db",
   "metadata": {},
   "source": [
    "## Append Items to Tuple"
   ]
  },
  {
   "cell_type": "code",
   "execution_count": 15,
   "id": "d177ae3d",
   "metadata": {},
   "outputs": [
    {
     "data": {
      "text/plain": [
       "('Eucalyptus', 'Palm', 'Banyan')"
      ]
     },
     "execution_count": 15,
     "metadata": {},
     "output_type": "execute_result"
    }
   ],
   "source": [
    "new_trees = ['Eucalyptus', 'Palm', 'Banyan']\n",
    "\n",
    "trees_combined = list(trees_combined)\n",
    "\n",
    "for tree in new_trees:\n",
    "    trees_combined.append(tree)\n",
    "\n",
    "trees_combined = tuple(trees_combined)\n",
    "trees_combined[-3:]"
   ]
  }
 ],
 "metadata": {
  "kernelspec": {
   "display_name": "Python 3",
   "language": "python",
   "name": "python3"
  },
  "language_info": {
   "codemirror_mode": {
    "name": "ipython",
    "version": 3
   },
   "file_extension": ".py",
   "mimetype": "text/x-python",
   "name": "python",
   "nbconvert_exporter": "python",
   "pygments_lexer": "ipython3",
   "version": "3.13.1"
  }
 },
 "nbformat": 4,
 "nbformat_minor": 5
}
