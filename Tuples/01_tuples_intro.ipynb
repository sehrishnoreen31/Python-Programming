{
 "cells": [
  {
   "cell_type": "markdown",
   "id": "df2ea1d0",
   "metadata": {},
   "source": [
    "# Tuples"
   ]
  },
  {
   "cell_type": "code",
   "execution_count": 2,
   "id": "b4946499",
   "metadata": {},
   "outputs": [
    {
     "data": {
      "text/plain": [
       "('Aloe Vera',\n",
       " 'Holy Basil',\n",
       " 'Turmeric',\n",
       " 'Ginger',\n",
       " 'Neem',\n",
       " 'Ashwagandha',\n",
       " 'Peppermint',\n",
       " 'Lavender',\n",
       " 'Echinacea',\n",
       " 'Gotu Kola')"
      ]
     },
     "execution_count": 2,
     "metadata": {},
     "output_type": "execute_result"
    }
   ],
   "source": [
    "med_plants = ('Aloe Vera', 'Holy Basil', 'Turmeric', 'Ginger', 'Neem', 'Ashwagandha', 'Peppermint', 'Lavender', 'Echinacea', 'Gotu Kola')\n",
    "med_plants"
   ]
  },
  {
   "cell_type": "markdown",
   "id": "9076f08b",
   "metadata": {},
   "source": [
    "## Accessing Tuple Items"
   ]
  },
  {
   "cell_type": "code",
   "execution_count": 3,
   "id": "2ea327cd",
   "metadata": {},
   "outputs": [
    {
     "name": "stdout",
     "output_type": "stream",
     "text": [
      "Aloe Vera\n",
      "Holy Basil\n",
      "Turmeric\n"
     ]
    }
   ],
   "source": [
    "print(med_plants[0])\n",
    "print(med_plants[1])\n",
    "print(med_plants[2])"
   ]
  },
  {
   "cell_type": "markdown",
   "id": "09bfcdf8",
   "metadata": {},
   "source": [
    "## Extending/ Adding Tuples"
   ]
  },
  {
   "cell_type": "code",
   "execution_count": 4,
   "id": "6c794301",
   "metadata": {},
   "outputs": [
    {
     "data": {
      "text/plain": [
       "('a', 'b', 'c', 'd', 'e', 'f')"
      ]
     },
     "execution_count": 4,
     "metadata": {},
     "output_type": "execute_result"
    }
   ],
   "source": [
    "tuple_1 = ('a', 'b', 'c')\n",
    "tuple_2 = ('d', 'e', 'f')\n",
    "\n",
    "tuple_3 = tuple_1 + tuple_2\n",
    "tuple_3"
   ]
  },
  {
   "cell_type": "markdown",
   "id": "88e749ab",
   "metadata": {},
   "source": [
    "## Delete Tuple Items"
   ]
  },
  {
   "cell_type": "markdown",
   "id": "553d30a0",
   "metadata": {},
   "source": [
    "Can't delete indvidual items"
   ]
  },
  {
   "cell_type": "markdown",
   "id": "42d55ff6",
   "metadata": {},
   "source": [
    "## Updating Tuple Items"
   ]
  },
  {
   "cell_type": "markdown",
   "id": "59830846",
   "metadata": {},
   "source": [
    "Can't directly update a tuple"
   ]
  },
  {
   "cell_type": "markdown",
   "id": "1ff96cea",
   "metadata": {},
   "source": [
    "## Deleting a Tuple"
   ]
  },
  {
   "cell_type": "code",
   "execution_count": 5,
   "id": "0c5693e8",
   "metadata": {},
   "outputs": [
    {
     "ename": "NameError",
     "evalue": "name 'med_plants' is not defined",
     "output_type": "error",
     "traceback": [
      "\u001b[1;31m---------------------------------------------------------------------------\u001b[0m",
      "\u001b[1;31mNameError\u001b[0m                                 Traceback (most recent call last)",
      "Cell \u001b[1;32mIn[5], line 2\u001b[0m\n\u001b[0;32m      1\u001b[0m \u001b[38;5;28;01mdel\u001b[39;00m med_plants\n\u001b[1;32m----> 2\u001b[0m \u001b[43mmed_plants\u001b[49m \u001b[38;5;66;03m# error, because tuple has been deleted\u001b[39;00m\n",
      "\u001b[1;31mNameError\u001b[0m: name 'med_plants' is not defined"
     ]
    }
   ],
   "source": [
    "del med_plants\n",
    "med_plants # error, because tuple has been deleted"
   ]
  },
  {
   "cell_type": "markdown",
   "id": "3e7f5843",
   "metadata": {},
   "source": [
    "## Single Item Tuple"
   ]
  },
  {
   "cell_type": "code",
   "execution_count": 7,
   "id": "29839803",
   "metadata": {},
   "outputs": [
    {
     "name": "stdout",
     "output_type": "stream",
     "text": [
      "<class 'tuple'>\n",
      "<class 'str'>\n"
     ]
    }
   ],
   "source": [
    "# must put a comma after, if tuple has signle item; or it will become string\n",
    "med_plant_tuple = ('Holy Basil',)\n",
    "med_plant_str = ('Holy Basil')\n",
    "\n",
    "# print type of both\n",
    "print(type(med_plant_tuple))\n",
    "print(type(med_plant_str))"
   ]
  }
 ],
 "metadata": {
  "kernelspec": {
   "display_name": "Python 3",
   "language": "python",
   "name": "python3"
  },
  "language_info": {
   "codemirror_mode": {
    "name": "ipython",
    "version": 3
   },
   "file_extension": ".py",
   "mimetype": "text/x-python",
   "name": "python",
   "nbconvert_exporter": "python",
   "pygments_lexer": "ipython3",
   "version": "3.13.1"
  }
 },
 "nbformat": 4,
 "nbformat_minor": 5
}
